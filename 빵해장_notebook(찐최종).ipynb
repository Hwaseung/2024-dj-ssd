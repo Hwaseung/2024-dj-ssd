{
 "cells": [
  {
   "cell_type": "markdown",
   "id": "c647535b-a8d0-46f8-ad48-faf5f081b936",
   "metadata": {
    "jp-MarkdownHeadingCollapsed": true
   },
   "source": [
    "# 0 data & packages"
   ]
  },
  {
   "cell_type": "markdown",
   "id": "c9fe7ac1-c519-4f88-b8f6-3fcfb74d5def",
   "metadata": {
    "jp-MarkdownHeadingCollapsed": true
   },
   "source": [
    "## 0-0 환경 확인"
   ]
  },
  {
   "cell_type": "code",
   "execution_count": 1,
   "id": "61f093e7-e3e5-43ac-9a9c-2519a5337a5b",
   "metadata": {},
   "outputs": [
    {
     "name": "stdout",
     "output_type": "stream",
     "text": [
      "운영 체제: Windows\n",
      "OS 버전: 10.0.26100\n",
      "프로세서: Intel64 Family 6 Model 154 Stepping 3, GenuineIntel\n",
      "세부 정보: Windows-11-10.0.26100-SP0\n"
     ]
    }
   ],
   "source": [
    "# 컴퓨터 환경\n",
    "import platform\n",
    "print(\"운영 체제:\", platform.system())\n",
    "print(\"OS 버전:\", platform.version())\n",
    "print(\"프로세서:\", platform.processor())\n",
    "print(\"세부 정보:\", platform.platform())"
   ]
  },
  {
   "cell_type": "code",
   "execution_count": 3,
   "id": "b5027a76-ba0f-4572-98ba-9ce61cca0085",
   "metadata": {},
   "outputs": [
    {
     "name": "stdout",
     "output_type": "stream",
     "text": [
      "이 시스템의 CPU 코어 수: 20\n"
     ]
    }
   ],
   "source": [
    "# CPU 코어 수 확인\n",
    "import multiprocessing\n",
    "cpu_cores = multiprocessing.cpu_count()\n",
    "print(f\"이 시스템의 CPU 코어 수: {cpu_cores}\")"
   ]
  },
  {
   "cell_type": "code",
   "execution_count": 4,
   "id": "b24ff637-4c38-4c07-a9d7-c6cba0e4e4bd",
   "metadata": {},
   "outputs": [
    {
     "name": "stdout",
     "output_type": "stream",
     "text": [
      "Selected Jupyter core packages...\n",
      "IPython          : 8.25.0\n",
      "ipykernel        : 6.28.0\n",
      "ipywidgets       : 7.8.1\n",
      "jupyter_client   : 8.6.0\n",
      "jupyter_core     : 5.7.2\n",
      "jupyter_server   : 2.14.1\n",
      "jupyterlab       : 4.0.11\n",
      "nbclient         : 0.8.0\n",
      "nbconvert        : 7.10.0\n",
      "nbformat         : 5.9.2\n",
      "notebook         : 7.0.8\n",
      "qtconsole        : 5.5.1\n",
      "traitlets        : 5.14.3\n"
     ]
    }
   ],
   "source": [
    "# Jupyter Notebook 버전 확인\n",
    "!jupyter --version"
   ]
  },
  {
   "cell_type": "code",
   "execution_count": 6,
   "id": "c8fddce2-2aba-453f-a39c-703621028db7",
   "metadata": {},
   "outputs": [
    {
     "name": "stdout",
     "output_type": "stream",
     "text": [
      "Python 버전: 3.12.3 | packaged by conda-forge | (main, Apr 15 2024, 18:20:11) [MSC v.1938 64 bit (AMD64)]\n"
     ]
    }
   ],
   "source": [
    "# 파이썬 버전\n",
    "import sys\n",
    "print(\"Python 버전:\", sys.version)"
   ]
  },
  {
   "cell_type": "markdown",
   "id": "22b3a28e-1620-4c5f-a89a-9002cf329b94",
   "metadata": {},
   "source": [
    "## 0-1 패키지 설치 및 불러오기"
   ]
  },
  {
   "cell_type": "code",
   "execution_count": null,
   "id": "7f0bdccf-0916-4306-a095-189807544eb9",
   "metadata": {},
   "outputs": [],
   "source": [
    "! pip install holidays"
   ]
  },
  {
   "cell_type": "code",
   "execution_count": null,
   "id": "507f8737-6d8a-42b6-913e-c3a9699ede2a",
   "metadata": {},
   "outputs": [],
   "source": [
    "! pip install pyproj"
   ]
  },
  {
   "cell_type": "code",
   "execution_count": null,
   "id": "1c5c486b-3891-4b50-aaf3-e9cea6a84b55",
   "metadata": {},
   "outputs": [],
   "source": [
    "! pip install numba"
   ]
  },
  {
   "cell_type": "code",
   "execution_count": null,
   "id": "abec4757-a0fc-4c31-b7e8-097a352dba79",
   "metadata": {},
   "outputs": [],
   "source": [
    "! pip install geopy"
   ]
  },
  {
   "cell_type": "code",
   "execution_count": null,
   "id": "bddf9bdf-cee5-41a5-a477-6a56968e431f",
   "metadata": {},
   "outputs": [],
   "source": [
    "! pip install joblib"
   ]
  },
  {
   "cell_type": "code",
   "execution_count": 1,
   "id": "63c41df1-3dbd-4138-b281-daeef790504d",
   "metadata": {},
   "outputs": [],
   "source": [
    "import os \n",
    "import pandas as pd\n",
    "import numpy as np\n",
    "import matplotlib.pyplot as plt\n",
    "import seaborn as sns\n",
    "import warnings\n",
    "import time\n",
    "\n",
    "# 경고 무시\n",
    "warnings.filterwarnings(\"ignore\")\n",
    "\n",
    "\n",
    "from pyproj import Proj, Transformer\n",
    "import holidays\n",
    "from joblib import Parallel, delayed\n",
    "from geopy.distance import geodesic  # 이 부분은 Numba가 아닌 기본 방식으로 처리\n",
    "from numba import njit  # Numba 사용"
   ]
  },
  {
   "cell_type": "code",
   "execution_count": null,
   "id": "368c9d02-806f-468d-b8e1-accda106c878",
   "metadata": {},
   "outputs": [],
   "source": [
    "# 데이터를 불러올 경로 지정\n",
    "'''아래 따옴표 안에 데이터가 저장되어있는 경로 작성'''\n",
    "path = ''"
   ]
  },
  {
   "cell_type": "markdown",
   "id": "fceefd3d-4234-40d8-92fa-85ff49300007",
   "metadata": {
    "jp-MarkdownHeadingCollapsed": true
   },
   "source": [
    "## 0-2 데이터 불러오기"
   ]
  },
  {
   "cell_type": "markdown",
   "id": "25f91f55-4f75-411b-83a9-56e500f9be6a",
   "metadata": {
    "jp-MarkdownHeadingCollapsed": true
   },
   "source": [
    "### (1) 제공된 데이터 - main\n",
    "데이터명은 아래와 같이 간소화하여 사용\n",
    "\n",
    "- 유동인구 → 유동인구\n",
    "- 카드매출 (cell id별) → 카드매출_가맹점\n",
    "- 카드매출 (지역별 업종 유입고객) → 카드매출_유입고객**"
   ]
  },
  {
   "cell_type": "code",
   "execution_count": null,
   "id": "d40abd15-0951-4d59-bb6c-536c2ee2f37e",
   "metadata": {},
   "outputs": [],
   "source": [
    "# 유동인구\n",
    "list_ = [2307, 2308, 2309, 2310, 2311, 2312, 2401, 2402, 2403, 2404, 2405, 2406]\n",
    "for i in list_:\n",
    "    globals()[f'popul_{i}'] = pd.read_csv(os.path.join(path, f'50CELL_DJJUNGGU_20{i}.csv'))"
   ]
  },
  {
   "cell_type": "code",
   "execution_count": 360,
   "id": "35a10dc3-c6bf-41cf-b5ed-95a01b16f65f",
   "metadata": {},
   "outputs": [],
   "source": [
    "# 카드매출_가맹점\n",
    "list_ = [2307, 2308, 2309, 2310, 2311, 2312, 2401, 2402, 2403, 2404, 2405, 2406]\n",
    "for i in list_:\n",
    "    globals()[f'card_biz_{i}'] = pd.read_csv(os.path.join(path, f'카드매출_가맹점/대전중구_set1_20{i}.csv'), encoding='cp949')"
   ]
  },
  {
   "cell_type": "code",
   "execution_count": 57,
   "id": "6ca7ff95-ff1e-4ba9-b2bd-4fb5b51aae48",
   "metadata": {},
   "outputs": [],
   "source": [
    "# 카드매출_유입고객\n",
    "list_ = [2307, 2308, 2309, 2310, 2311, 2312, 2401, 2402, 2403, 2404, 2405, 2406]\n",
    "for i in list_:\n",
    "    globals()[f'card_cus_{i}'] = pd.read_csv(os.path.join(path, f'카드매출_유입고객/대전중구_set2_20{i}.csv'), encoding='cp949')"
   ]
  },
  {
   "cell_type": "code",
   "execution_count": null,
   "id": "136a1685-b217-4bdc-9ceb-3398a868bc0a",
   "metadata": {},
   "outputs": [],
   "source": [
    "# 데이터 합치기\n",
    "data_popul = pd.concat(eval(f'popul_{i}') for i in list_)\n",
    "data_biz= pd.concat(eval(f'card_biz_{i}') for i in list_)\n",
    "data_cus = pd.concat(eval(f'card_cus_{i}') for i in list_)"
   ]
  },
  {
   "cell_type": "markdown",
   "id": "3b0c9b4f-43f0-41c0-9e1d-a3cf159a4602",
   "metadata": {
    "jp-MarkdownHeadingCollapsed": true
   },
   "source": [
    "### (2) 제공된 데이터 - sub (컬럼정의서, 업종분류 등)"
   ]
  },
  {
   "cell_type": "code",
   "execution_count": 13,
   "id": "47af9846-85a8-45c4-8128-88cdbf74e1a8",
   "metadata": {},
   "outputs": [],
   "source": [
    "data_loc = pd.read_csv(os.path.join(path, '국토지리정보원_국토조사_(격자)500M.csv'))\n",
    "data_sort = pd.read_excel(os.path.join(path, '상가(상권)정보_업종분류.xlsx'), skiprows=1)"
   ]
  },
  {
   "cell_type": "markdown",
   "id": "8f5cebfb-0fc1-43ba-9972-93ab410b0c6d",
   "metadata": {
    "jp-MarkdownHeadingCollapsed": true
   },
   "source": [
    "### (3) 외부 데이터\n",
    "- 행정동 코드 : 행정동 코드에 맞는 행정동명 찾을 때 활용\n",
    "- 한국표준산업분류10차 : 업종 분류 코드에 맞는 항목명 찾을 때 활용"
   ]
  },
  {
   "cell_type": "code",
   "execution_count": 15,
   "id": "900f6878-3831-4d38-8507-9ac027f813f2",
   "metadata": {},
   "outputs": [],
   "source": [
    "# 행정동 코드\n",
    "data_admin = pd.read_excel(os.path.join(path,'KIKcd_H.20240801.xlsx'))"
   ]
  },
  {
   "cell_type": "code",
   "execution_count": 16,
   "id": "c8ed12fb-f8a8-4758-9de7-f7af625bd80a",
   "metadata": {},
   "outputs": [],
   "source": [
    "# 한국표준산업분류10차\n",
    "data_code = pd.read_excel(os.path.join(path, '한국표준산업분류10차_표.xlsx'), skiprows=2)"
   ]
  },
  {
   "cell_type": "markdown",
   "id": "633ae566-b1dd-4ecb-8dc8-e476556b65e1",
   "metadata": {
    "jp-MarkdownHeadingCollapsed": true
   },
   "source": [
    "# 1 데이터 전처리"
   ]
  },
  {
   "cell_type": "markdown",
   "id": "14773cd1-6c29-4ac9-92f3-0a99eb59a283",
   "metadata": {
    "jp-MarkdownHeadingCollapsed": true
   },
   "source": [
    "## 1-1 유동인구"
   ]
  },
  {
   "cell_type": "code",
   "execution_count": 15,
   "id": "0d33f62e-5f35-46ec-a6f3-9fa2a451d097",
   "metadata": {},
   "outputs": [
    {
     "data": {
      "text/html": [
       "<div>\n",
       "<style scoped>\n",
       "    .dataframe tbody tr th:only-of-type {\n",
       "        vertical-align: middle;\n",
       "    }\n",
       "\n",
       "    .dataframe tbody tr th {\n",
       "        vertical-align: top;\n",
       "    }\n",
       "\n",
       "    .dataframe thead th {\n",
       "        text-align: right;\n",
       "    }\n",
       "</style>\n",
       "<table border=\"1\" class=\"dataframe\">\n",
       "  <thead>\n",
       "    <tr style=\"text-align: right;\">\n",
       "      <th></th>\n",
       "      <th>id</th>\n",
       "      <th>x</th>\n",
       "      <th>y</th>\n",
       "      <th>timezn_cd</th>\n",
       "      <th>m00</th>\n",
       "      <th>m10</th>\n",
       "      <th>m15</th>\n",
       "      <th>m20</th>\n",
       "      <th>m25</th>\n",
       "      <th>m30</th>\n",
       "      <th>...</th>\n",
       "      <th>f40</th>\n",
       "      <th>f45</th>\n",
       "      <th>f50</th>\n",
       "      <th>f55</th>\n",
       "      <th>f60</th>\n",
       "      <th>f65</th>\n",
       "      <th>f70</th>\n",
       "      <th>total</th>\n",
       "      <th>admi_cd</th>\n",
       "      <th>etl_ymd</th>\n",
       "    </tr>\n",
       "  </thead>\n",
       "  <tbody>\n",
       "    <tr>\n",
       "      <th>0</th>\n",
       "      <td>58904249</td>\n",
       "      <td>343802</td>\n",
       "      <td>408793</td>\n",
       "      <td>7</td>\n",
       "      <td>0.00</td>\n",
       "      <td>0.01</td>\n",
       "      <td>0.01</td>\n",
       "      <td>0.01</td>\n",
       "      <td>0.04</td>\n",
       "      <td>0.06</td>\n",
       "      <td>...</td>\n",
       "      <td>0.00</td>\n",
       "      <td>0.03</td>\n",
       "      <td>0.05</td>\n",
       "      <td>0.04</td>\n",
       "      <td>0.02</td>\n",
       "      <td>0.03</td>\n",
       "      <td>0.06</td>\n",
       "      <td>1.45</td>\n",
       "      <td>30140740</td>\n",
       "      <td>20230722</td>\n",
       "    </tr>\n",
       "    <tr>\n",
       "      <th>1</th>\n",
       "      <td>58904249</td>\n",
       "      <td>343802</td>\n",
       "      <td>408793</td>\n",
       "      <td>7</td>\n",
       "      <td>0.00</td>\n",
       "      <td>0.01</td>\n",
       "      <td>0.25</td>\n",
       "      <td>0.02</td>\n",
       "      <td>0.04</td>\n",
       "      <td>0.02</td>\n",
       "      <td>...</td>\n",
       "      <td>0.01</td>\n",
       "      <td>0.05</td>\n",
       "      <td>0.05</td>\n",
       "      <td>0.05</td>\n",
       "      <td>0.03</td>\n",
       "      <td>0.05</td>\n",
       "      <td>0.01</td>\n",
       "      <td>1.67</td>\n",
       "      <td>30140740</td>\n",
       "      <td>20230728</td>\n",
       "    </tr>\n",
       "    <tr>\n",
       "      <th>2</th>\n",
       "      <td>58904249</td>\n",
       "      <td>343802</td>\n",
       "      <td>408793</td>\n",
       "      <td>7</td>\n",
       "      <td>0.00</td>\n",
       "      <td>0.01</td>\n",
       "      <td>0.32</td>\n",
       "      <td>0.02</td>\n",
       "      <td>0.02</td>\n",
       "      <td>0.04</td>\n",
       "      <td>...</td>\n",
       "      <td>0.01</td>\n",
       "      <td>0.04</td>\n",
       "      <td>0.05</td>\n",
       "      <td>0.04</td>\n",
       "      <td>0.02</td>\n",
       "      <td>0.02</td>\n",
       "      <td>0.03</td>\n",
       "      <td>1.63</td>\n",
       "      <td>30140740</td>\n",
       "      <td>20230724</td>\n",
       "    </tr>\n",
       "    <tr>\n",
       "      <th>3</th>\n",
       "      <td>58904249</td>\n",
       "      <td>343802</td>\n",
       "      <td>408793</td>\n",
       "      <td>7</td>\n",
       "      <td>0.00</td>\n",
       "      <td>0.01</td>\n",
       "      <td>0.37</td>\n",
       "      <td>0.01</td>\n",
       "      <td>0.03</td>\n",
       "      <td>0.04</td>\n",
       "      <td>...</td>\n",
       "      <td>0.04</td>\n",
       "      <td>0.06</td>\n",
       "      <td>0.06</td>\n",
       "      <td>0.07</td>\n",
       "      <td>0.02</td>\n",
       "      <td>0.02</td>\n",
       "      <td>0.03</td>\n",
       "      <td>1.88</td>\n",
       "      <td>30140740</td>\n",
       "      <td>20230710</td>\n",
       "    </tr>\n",
       "    <tr>\n",
       "      <th>4</th>\n",
       "      <td>58904249</td>\n",
       "      <td>343802</td>\n",
       "      <td>408793</td>\n",
       "      <td>8</td>\n",
       "      <td>0.01</td>\n",
       "      <td>0.03</td>\n",
       "      <td>0.02</td>\n",
       "      <td>0.05</td>\n",
       "      <td>0.03</td>\n",
       "      <td>0.01</td>\n",
       "      <td>...</td>\n",
       "      <td>0.06</td>\n",
       "      <td>0.09</td>\n",
       "      <td>0.05</td>\n",
       "      <td>0.04</td>\n",
       "      <td>0.11</td>\n",
       "      <td>0.03</td>\n",
       "      <td>0.03</td>\n",
       "      <td>1.44</td>\n",
       "      <td>30140740</td>\n",
       "      <td>20230730</td>\n",
       "    </tr>\n",
       "  </tbody>\n",
       "</table>\n",
       "<p>5 rows × 35 columns</p>\n",
       "</div>"
      ],
      "text/plain": [
       "         id       x       y  timezn_cd   m00   m10   m15   m20   m25   m30  \\\n",
       "0  58904249  343802  408793          7  0.00  0.01  0.01  0.01  0.04  0.06   \n",
       "1  58904249  343802  408793          7  0.00  0.01  0.25  0.02  0.04  0.02   \n",
       "2  58904249  343802  408793          7  0.00  0.01  0.32  0.02  0.02  0.04   \n",
       "3  58904249  343802  408793          7  0.00  0.01  0.37  0.01  0.03  0.04   \n",
       "4  58904249  343802  408793          8  0.01  0.03  0.02  0.05  0.03  0.01   \n",
       "\n",
       "   ...   f40   f45   f50   f55   f60   f65   f70  total   admi_cd   etl_ymd  \n",
       "0  ...  0.00  0.03  0.05  0.04  0.02  0.03  0.06   1.45  30140740  20230722  \n",
       "1  ...  0.01  0.05  0.05  0.05  0.03  0.05  0.01   1.67  30140740  20230728  \n",
       "2  ...  0.01  0.04  0.05  0.04  0.02  0.02  0.03   1.63  30140740  20230724  \n",
       "3  ...  0.04  0.06  0.06  0.07  0.02  0.02  0.03   1.88  30140740  20230710  \n",
       "4  ...  0.06  0.09  0.05  0.04  0.11  0.03  0.03   1.44  30140740  20230730  \n",
       "\n",
       "[5 rows x 35 columns]"
      ]
     },
     "execution_count": 15,
     "metadata": {},
     "output_type": "execute_result"
    }
   ],
   "source": [
    "data_popul.head()"
   ]
  },
  {
   "cell_type": "markdown",
   "id": "dcd4944b-8b1d-416a-b867-f5a39aa36f32",
   "metadata": {},
   "source": [
    "### (1) id "
   ]
  },
  {
   "cell_type": "code",
   "execution_count": 17,
   "id": "47fa1471-21d9-49a5-ba20-32be6150b7c3",
   "metadata": {},
   "outputs": [
    {
     "data": {
      "text/plain": [
       "10993"
      ]
     },
     "execution_count": 17,
     "metadata": {},
     "output_type": "execute_result"
    }
   ],
   "source": [
    "# 고유값 확인\n",
    "data_popul['id'].nunique()"
   ]
  },
  {
   "cell_type": "code",
   "execution_count": 18,
   "id": "cebdf5b0-0951-43fa-b697-4eaf4fdf223e",
   "metadata": {},
   "outputs": [
    {
     "data": {
      "text/plain": [
       "0"
      ]
     },
     "execution_count": 18,
     "metadata": {},
     "output_type": "execute_result"
    }
   ],
   "source": [
    "# 결측치 확인\n",
    "data_popul['id'].isna().sum()"
   ]
  },
  {
   "cell_type": "markdown",
   "id": "d249415c-3dd3-41d9-ad08-83419917220e",
   "metadata": {},
   "source": [
    "#### ① id와 (x, y) 조합이 일대일대응되는지 확인\n",
    "- *유동인구 정의서* 에서 id는 셀id라고 명시되어있음\n",
    "- 그렇다면 50m*50m 셀에 각각 번호를 부여한 것인데 **id와 (x, y) 조합이 일대일대응 되는지** 확인"
   ]
  },
  {
   "cell_type": "code",
   "execution_count": 24,
   "id": "324474a0-9f8a-4a94-8710-c63629ca4169",
   "metadata": {},
   "outputs": [
    {
     "name": "stderr",
     "output_type": "stream",
     "text": [
      "C:\\Users\\jinhe\\AppData\\Local\\Temp\\ipykernel_14708\\774880757.py:5: SettingWithCopyWarning: \n",
      "A value is trying to be set on a copy of a slice from a DataFrame.\n",
      "Try using .loc[row_indexer,col_indexer] = value instead\n",
      "\n",
      "See the caveats in the documentation: https://pandas.pydata.org/pandas-docs/stable/user_guide/indexing.html#returning-a-view-versus-a-copy\n",
      "  df_sampled['x_y'] = list(zip(data_popul_admin1['x'], data_popul_admin1['y']))\n"
     ]
    },
    {
     "name": "stdout",
     "output_type": "stream",
     "text": [
      "id 고유값 개수 : 10197\n",
      "(x, y) 조합의 개수 : 10197\n"
     ]
    }
   ],
   "source": [
    "# 확인을 위해 필요한 컬럼만 추출\n",
    "df_sampled = data_popul[['etl_ymd', 'x', 'y', 'id']]\n",
    "\n",
    "# 각 행별로 x, y를 x_y라는 컬럼에 할당 = (x,y) 조합 생성\n",
    "df_sampled['x_y'] = list(zip(data_popul['x'], data_popul['y']))\n",
    "\n",
    "# x_y와 id 두 컬럼 모두에서 중복인 값 제거\n",
    "# df_sampled_unique = df_sampled.drop_duplicates(subset=['x_y', 'id'])\n",
    "\n",
    "# 결과 확인\n",
    "print(f'id 고유값 개수 : {df_sampled['id'].nunique()}')\n",
    "print(f'(x, y) 조합의 개수 : {f_sampled['x_y'].nunique()}')"
   ]
  },
  {
   "cell_type": "markdown",
   "id": "93e7e8c3-f30e-41c8-aa36-470d0507dc81",
   "metadata": {},
   "source": [
    "**일대일 대응됨**"
   ]
  },
  {
   "cell_type": "markdown",
   "id": "d0dbdb4d-2e6b-4928-b8d2-dcb2fa5c037e",
   "metadata": {
    "jp-MarkdownHeadingCollapsed": true
   },
   "source": [
    "### (2) 행정동 코드"
   ]
  },
  {
   "cell_type": "code",
   "execution_count": 21,
   "id": "160af6eb-7713-412a-ad9e-1c2389adec57",
   "metadata": {},
   "outputs": [
    {
     "data": {
      "text/plain": [
       "array([30140740, 30140690, 30140700, 30140730, 30140710, 30140680,\n",
       "       30140655, 30140670, 30140720, 30140550, 30140560, 30140535,\n",
       "       30140630, 30140575, 30140640, 30140605, 30140620], dtype=int64)"
      ]
     },
     "execution_count": 21,
     "metadata": {},
     "output_type": "execute_result"
    }
   ],
   "source": [
    "# 고유값 확인\n",
    "data_popul['admi_cd'].unique()"
   ]
  },
  {
   "cell_type": "markdown",
   "id": "51412213-27aa-44e5-90cb-5db77017f911",
   "metadata": {},
   "source": [
    "- 모두 대전광역시 중구의 행정동 코드"
   ]
  },
  {
   "cell_type": "markdown",
   "id": "af6509a1-2f04-4bfd-8761-044c658bc2c6",
   "metadata": {},
   "source": [
    "#### ① 행정동명 컬럼 추가\n",
    "- 행정안전부 *KIKcd_H.20240801.xlsx* 활용"
   ]
  },
  {
   "cell_type": "code",
   "execution_count": 33,
   "id": "19688cee-52a8-4413-9ec3-42afe3fa789a",
   "metadata": {},
   "outputs": [],
   "source": [
    "# 데이터 불러오기\n",
    "data_admin = pd.read_excel(os.path.join(path, 'KIKcd_H.20240801.xlsx'))"
   ]
  },
  {
   "cell_type": "code",
   "execution_count": 35,
   "id": "84feb9d6-2933-4289-a9cf-3069681c8088",
   "metadata": {
    "scrolled": true
   },
   "outputs": [
    {
     "data": {
      "text/html": [
       "<div>\n",
       "<style scoped>\n",
       "    .dataframe tbody tr th:only-of-type {\n",
       "        vertical-align: middle;\n",
       "    }\n",
       "\n",
       "    .dataframe tbody tr th {\n",
       "        vertical-align: top;\n",
       "    }\n",
       "\n",
       "    .dataframe thead th {\n",
       "        text-align: right;\n",
       "    }\n",
       "</style>\n",
       "<table border=\"1\" class=\"dataframe\">\n",
       "  <thead>\n",
       "    <tr style=\"text-align: right;\">\n",
       "      <th></th>\n",
       "      <th>행정동코드</th>\n",
       "      <th>시도명</th>\n",
       "      <th>시군구명</th>\n",
       "      <th>읍면동명</th>\n",
       "      <th>생성일자</th>\n",
       "      <th>말소일자</th>\n",
       "    </tr>\n",
       "  </thead>\n",
       "  <tbody>\n",
       "    <tr>\n",
       "      <th>0</th>\n",
       "      <td>1100000000</td>\n",
       "      <td>서울특별시</td>\n",
       "      <td>NaN</td>\n",
       "      <td>NaN</td>\n",
       "      <td>19880423</td>\n",
       "      <td>NaN</td>\n",
       "    </tr>\n",
       "    <tr>\n",
       "      <th>1</th>\n",
       "      <td>1111000000</td>\n",
       "      <td>서울특별시</td>\n",
       "      <td>종로구</td>\n",
       "      <td>NaN</td>\n",
       "      <td>19880423</td>\n",
       "      <td>NaN</td>\n",
       "    </tr>\n",
       "    <tr>\n",
       "      <th>2</th>\n",
       "      <td>1111051500</td>\n",
       "      <td>서울특별시</td>\n",
       "      <td>종로구</td>\n",
       "      <td>청운효자동</td>\n",
       "      <td>20081101</td>\n",
       "      <td>NaN</td>\n",
       "    </tr>\n",
       "    <tr>\n",
       "      <th>3</th>\n",
       "      <td>1111053000</td>\n",
       "      <td>서울특별시</td>\n",
       "      <td>종로구</td>\n",
       "      <td>사직동</td>\n",
       "      <td>19880423</td>\n",
       "      <td>NaN</td>\n",
       "    </tr>\n",
       "    <tr>\n",
       "      <th>4</th>\n",
       "      <td>1111054000</td>\n",
       "      <td>서울특별시</td>\n",
       "      <td>종로구</td>\n",
       "      <td>삼청동</td>\n",
       "      <td>19880423</td>\n",
       "      <td>NaN</td>\n",
       "    </tr>\n",
       "  </tbody>\n",
       "</table>\n",
       "</div>"
      ],
      "text/plain": [
       "        행정동코드    시도명 시군구명   읍면동명      생성일자  말소일자\n",
       "0  1100000000  서울특별시  NaN    NaN  19880423   NaN\n",
       "1  1111000000  서울특별시  종로구    NaN  19880423   NaN\n",
       "2  1111051500  서울특별시  종로구  청운효자동  20081101   NaN\n",
       "3  1111053000  서울특별시  종로구    사직동  19880423   NaN\n",
       "4  1111054000  서울특별시  종로구    삼청동  19880423   NaN"
      ]
     },
     "execution_count": 35,
     "metadata": {},
     "output_type": "execute_result"
    }
   ],
   "source": [
    "# 데이터 확인\n",
    "data_admin.head()"
   ]
  },
  {
   "cell_type": "code",
   "execution_count": 37,
   "id": "3882f18e-3364-4b2e-8e66-e390972a3568",
   "metadata": {
    "scrolled": true
   },
   "outputs": [
    {
     "data": {
      "text/html": [
       "<div>\n",
       "<style scoped>\n",
       "    .dataframe tbody tr th:only-of-type {\n",
       "        vertical-align: middle;\n",
       "    }\n",
       "\n",
       "    .dataframe tbody tr th {\n",
       "        vertical-align: top;\n",
       "    }\n",
       "\n",
       "    .dataframe thead th {\n",
       "        text-align: right;\n",
       "    }\n",
       "</style>\n",
       "<table border=\"1\" class=\"dataframe\">\n",
       "  <thead>\n",
       "    <tr style=\"text-align: right;\">\n",
       "      <th></th>\n",
       "      <th>행정동코드</th>\n",
       "      <th>읍면동명</th>\n",
       "    </tr>\n",
       "  </thead>\n",
       "  <tbody>\n",
       "    <tr>\n",
       "      <th>1130</th>\n",
       "      <td>3014000000</td>\n",
       "      <td>NaN</td>\n",
       "    </tr>\n",
       "    <tr>\n",
       "      <th>1131</th>\n",
       "      <td>3014053500</td>\n",
       "      <td>은행선화동</td>\n",
       "    </tr>\n",
       "    <tr>\n",
       "      <th>1132</th>\n",
       "      <td>3014055000</td>\n",
       "      <td>목동</td>\n",
       "    </tr>\n",
       "    <tr>\n",
       "      <th>1133</th>\n",
       "      <td>3014056000</td>\n",
       "      <td>중촌동</td>\n",
       "    </tr>\n",
       "    <tr>\n",
       "      <th>1134</th>\n",
       "      <td>3014057500</td>\n",
       "      <td>대흥동</td>\n",
       "    </tr>\n",
       "    <tr>\n",
       "      <th>1135</th>\n",
       "      <td>3014060500</td>\n",
       "      <td>문창동</td>\n",
       "    </tr>\n",
       "    <tr>\n",
       "      <th>1136</th>\n",
       "      <td>3014062000</td>\n",
       "      <td>석교동</td>\n",
       "    </tr>\n",
       "    <tr>\n",
       "      <th>1137</th>\n",
       "      <td>3014063000</td>\n",
       "      <td>대사동</td>\n",
       "    </tr>\n",
       "    <tr>\n",
       "      <th>1138</th>\n",
       "      <td>3014064000</td>\n",
       "      <td>부사동</td>\n",
       "    </tr>\n",
       "    <tr>\n",
       "      <th>1139</th>\n",
       "      <td>3014065500</td>\n",
       "      <td>용두동</td>\n",
       "    </tr>\n",
       "    <tr>\n",
       "      <th>1140</th>\n",
       "      <td>3014067000</td>\n",
       "      <td>오류동</td>\n",
       "    </tr>\n",
       "    <tr>\n",
       "      <th>1141</th>\n",
       "      <td>3014068000</td>\n",
       "      <td>태평1동</td>\n",
       "    </tr>\n",
       "    <tr>\n",
       "      <th>1142</th>\n",
       "      <td>3014069000</td>\n",
       "      <td>태평2동</td>\n",
       "    </tr>\n",
       "    <tr>\n",
       "      <th>1143</th>\n",
       "      <td>3014070000</td>\n",
       "      <td>유천1동</td>\n",
       "    </tr>\n",
       "    <tr>\n",
       "      <th>1144</th>\n",
       "      <td>3014071000</td>\n",
       "      <td>유천2동</td>\n",
       "    </tr>\n",
       "    <tr>\n",
       "      <th>1145</th>\n",
       "      <td>3014072000</td>\n",
       "      <td>문화1동</td>\n",
       "    </tr>\n",
       "    <tr>\n",
       "      <th>1146</th>\n",
       "      <td>3014073000</td>\n",
       "      <td>문화2동</td>\n",
       "    </tr>\n",
       "    <tr>\n",
       "      <th>1147</th>\n",
       "      <td>3014074000</td>\n",
       "      <td>산성동</td>\n",
       "    </tr>\n",
       "  </tbody>\n",
       "</table>\n",
       "</div>"
      ],
      "text/plain": [
       "           행정동코드   읍면동명\n",
       "1130  3014000000    NaN\n",
       "1131  3014053500  은행선화동\n",
       "1132  3014055000     목동\n",
       "1133  3014056000    중촌동\n",
       "1134  3014057500    대흥동\n",
       "1135  3014060500    문창동\n",
       "1136  3014062000    석교동\n",
       "1137  3014063000    대사동\n",
       "1138  3014064000    부사동\n",
       "1139  3014065500    용두동\n",
       "1140  3014067000    오류동\n",
       "1141  3014068000   태평1동\n",
       "1142  3014069000   태평2동\n",
       "1143  3014070000   유천1동\n",
       "1144  3014071000   유천2동\n",
       "1145  3014072000   문화1동\n",
       "1146  3014073000   문화2동\n",
       "1147  3014074000    산성동"
      ]
     },
     "execution_count": 37,
     "metadata": {},
     "output_type": "execute_result"
    }
   ],
   "source": [
    "# 대전 중구 관련 데이터만 남기기\n",
    "data_admin = data_admin[['행정동코드', '시도명', '시군구명', '읍면동명']]\n",
    "data_admin = data_admin[(data_admin['시군구명'] == '중구') & (data_admin['시도명'] == '대전광역시')]\n",
    "data_admin.drop(['시도명', '시군구명'], axis=1, inplace=True)\n",
    "data_admin"
   ]
  },
  {
   "cell_type": "code",
   "execution_count": 41,
   "id": "d92d7355-b25d-4913-b37a-ab2f6d82c279",
   "metadata": {},
   "outputs": [],
   "source": [
    "# mapping할 딕셔너리 만들기\n",
    "list_code_num = data_popul['admi_cd'].unique().tolist()\n",
    "list_name = []\n",
    "\n",
    "# 행정동 코드 str 타입으로 변환\n",
    "data_admin['행정동코드'] = data_admin['행정동코드'].astype('str')\n",
    "\n",
    "for i in data_popul['admi_cd'].unique().astype('str').tolist():\n",
    "  list_name.append(data_admin[data_admin['행정동코드'].str.contains(i)].iloc[0]['읍면동명'])\n",
    "\n",
    "# 딕셔너리 생성\n",
    "admin_cd= dict(zip(list_code_num, list_name))\n",
    "\n",
    "\n",
    "# 컬럼 붙이기\n",
    "data_popul_admin = data_popul.copy()\n",
    "data_popul_admin['행정동명'] = data_popul_admin['admi_cd'].map(admin_cd)"
   ]
  },
  {
   "cell_type": "code",
   "execution_count": 45,
   "id": "a5d26ba4-84a4-435b-915e-64b118610b3d",
   "metadata": {},
   "outputs": [
    {
     "data": {
      "text/html": [
       "<div>\n",
       "<style scoped>\n",
       "    .dataframe tbody tr th:only-of-type {\n",
       "        vertical-align: middle;\n",
       "    }\n",
       "\n",
       "    .dataframe tbody tr th {\n",
       "        vertical-align: top;\n",
       "    }\n",
       "\n",
       "    .dataframe thead th {\n",
       "        text-align: right;\n",
       "    }\n",
       "</style>\n",
       "<table border=\"1\" class=\"dataframe\">\n",
       "  <thead>\n",
       "    <tr style=\"text-align: right;\">\n",
       "      <th></th>\n",
       "      <th>id</th>\n",
       "      <th>x</th>\n",
       "      <th>y</th>\n",
       "      <th>timezn_cd</th>\n",
       "      <th>m00</th>\n",
       "      <th>m10</th>\n",
       "      <th>m15</th>\n",
       "      <th>m20</th>\n",
       "      <th>m25</th>\n",
       "      <th>m30</th>\n",
       "      <th>...</th>\n",
       "      <th>f45</th>\n",
       "      <th>f50</th>\n",
       "      <th>f55</th>\n",
       "      <th>f60</th>\n",
       "      <th>f65</th>\n",
       "      <th>f70</th>\n",
       "      <th>total</th>\n",
       "      <th>admi_cd</th>\n",
       "      <th>etl_ymd</th>\n",
       "      <th>행정동명</th>\n",
       "    </tr>\n",
       "  </thead>\n",
       "  <tbody>\n",
       "    <tr>\n",
       "      <th>0</th>\n",
       "      <td>58904249</td>\n",
       "      <td>343802</td>\n",
       "      <td>408793</td>\n",
       "      <td>7</td>\n",
       "      <td>0.00</td>\n",
       "      <td>0.01</td>\n",
       "      <td>0.01</td>\n",
       "      <td>0.01</td>\n",
       "      <td>0.04</td>\n",
       "      <td>0.06</td>\n",
       "      <td>...</td>\n",
       "      <td>0.03</td>\n",
       "      <td>0.05</td>\n",
       "      <td>0.04</td>\n",
       "      <td>0.02</td>\n",
       "      <td>0.03</td>\n",
       "      <td>0.06</td>\n",
       "      <td>1.45</td>\n",
       "      <td>30140740</td>\n",
       "      <td>20230722</td>\n",
       "      <td>산성동</td>\n",
       "    </tr>\n",
       "    <tr>\n",
       "      <th>1</th>\n",
       "      <td>58904249</td>\n",
       "      <td>343802</td>\n",
       "      <td>408793</td>\n",
       "      <td>7</td>\n",
       "      <td>0.00</td>\n",
       "      <td>0.01</td>\n",
       "      <td>0.25</td>\n",
       "      <td>0.02</td>\n",
       "      <td>0.04</td>\n",
       "      <td>0.02</td>\n",
       "      <td>...</td>\n",
       "      <td>0.05</td>\n",
       "      <td>0.05</td>\n",
       "      <td>0.05</td>\n",
       "      <td>0.03</td>\n",
       "      <td>0.05</td>\n",
       "      <td>0.01</td>\n",
       "      <td>1.67</td>\n",
       "      <td>30140740</td>\n",
       "      <td>20230728</td>\n",
       "      <td>산성동</td>\n",
       "    </tr>\n",
       "    <tr>\n",
       "      <th>2</th>\n",
       "      <td>58904249</td>\n",
       "      <td>343802</td>\n",
       "      <td>408793</td>\n",
       "      <td>7</td>\n",
       "      <td>0.00</td>\n",
       "      <td>0.01</td>\n",
       "      <td>0.32</td>\n",
       "      <td>0.02</td>\n",
       "      <td>0.02</td>\n",
       "      <td>0.04</td>\n",
       "      <td>...</td>\n",
       "      <td>0.04</td>\n",
       "      <td>0.05</td>\n",
       "      <td>0.04</td>\n",
       "      <td>0.02</td>\n",
       "      <td>0.02</td>\n",
       "      <td>0.03</td>\n",
       "      <td>1.63</td>\n",
       "      <td>30140740</td>\n",
       "      <td>20230724</td>\n",
       "      <td>산성동</td>\n",
       "    </tr>\n",
       "    <tr>\n",
       "      <th>3</th>\n",
       "      <td>58904249</td>\n",
       "      <td>343802</td>\n",
       "      <td>408793</td>\n",
       "      <td>7</td>\n",
       "      <td>0.00</td>\n",
       "      <td>0.01</td>\n",
       "      <td>0.37</td>\n",
       "      <td>0.01</td>\n",
       "      <td>0.03</td>\n",
       "      <td>0.04</td>\n",
       "      <td>...</td>\n",
       "      <td>0.06</td>\n",
       "      <td>0.06</td>\n",
       "      <td>0.07</td>\n",
       "      <td>0.02</td>\n",
       "      <td>0.02</td>\n",
       "      <td>0.03</td>\n",
       "      <td>1.88</td>\n",
       "      <td>30140740</td>\n",
       "      <td>20230710</td>\n",
       "      <td>산성동</td>\n",
       "    </tr>\n",
       "    <tr>\n",
       "      <th>4</th>\n",
       "      <td>58904249</td>\n",
       "      <td>343802</td>\n",
       "      <td>408793</td>\n",
       "      <td>8</td>\n",
       "      <td>0.01</td>\n",
       "      <td>0.03</td>\n",
       "      <td>0.02</td>\n",
       "      <td>0.05</td>\n",
       "      <td>0.03</td>\n",
       "      <td>0.01</td>\n",
       "      <td>...</td>\n",
       "      <td>0.09</td>\n",
       "      <td>0.05</td>\n",
       "      <td>0.04</td>\n",
       "      <td>0.11</td>\n",
       "      <td>0.03</td>\n",
       "      <td>0.03</td>\n",
       "      <td>1.44</td>\n",
       "      <td>30140740</td>\n",
       "      <td>20230730</td>\n",
       "      <td>산성동</td>\n",
       "    </tr>\n",
       "  </tbody>\n",
       "</table>\n",
       "<p>5 rows × 36 columns</p>\n",
       "</div>"
      ],
      "text/plain": [
       "         id       x       y  timezn_cd   m00   m10   m15   m20   m25   m30  \\\n",
       "0  58904249  343802  408793          7  0.00  0.01  0.01  0.01  0.04  0.06   \n",
       "1  58904249  343802  408793          7  0.00  0.01  0.25  0.02  0.04  0.02   \n",
       "2  58904249  343802  408793          7  0.00  0.01  0.32  0.02  0.02  0.04   \n",
       "3  58904249  343802  408793          7  0.00  0.01  0.37  0.01  0.03  0.04   \n",
       "4  58904249  343802  408793          8  0.01  0.03  0.02  0.05  0.03  0.01   \n",
       "\n",
       "   ...   f45   f50   f55   f60   f65   f70  total   admi_cd   etl_ymd  행정동명  \n",
       "0  ...  0.03  0.05  0.04  0.02  0.03  0.06   1.45  30140740  20230722   산성동  \n",
       "1  ...  0.05  0.05  0.05  0.03  0.05  0.01   1.67  30140740  20230728   산성동  \n",
       "2  ...  0.04  0.05  0.04  0.02  0.02  0.03   1.63  30140740  20230724   산성동  \n",
       "3  ...  0.06  0.06  0.07  0.02  0.02  0.03   1.88  30140740  20230710   산성동  \n",
       "4  ...  0.09  0.05  0.04  0.11  0.03  0.03   1.44  30140740  20230730   산성동  \n",
       "\n",
       "[5 rows x 36 columns]"
      ]
     },
     "execution_count": 45,
     "metadata": {},
     "output_type": "execute_result"
    }
   ],
   "source": [
    "# 데이터 확인\n",
    "data_popul_admin.head()"
   ]
  },
  {
   "cell_type": "markdown",
   "id": "445e8b97-8d85-4578-9ab7-4ee1f4fd736e",
   "metadata": {
    "jp-MarkdownHeadingCollapsed": true
   },
   "source": [
    "### (3) x, y 좌표\n",
    "- KT에서 사용한 KATECH 좌표를 경위도로 변환\n",
    "- 변환식은 대전중구청 담당자분께 받은 정보 참고 (+ 대회 홈페이지>공지사항>Q&A 답변)"
   ]
  },
  {
   "cell_type": "code",
   "execution_count": 5,
   "id": "5a10812f-27fc-4c65-9df6-e7363f4e0147",
   "metadata": {},
   "outputs": [],
   "source": [
    "# 변환 함수 정의\n",
    "katech_proj = Proj(\n",
    "    \"+proj=tmerc +lat_0=38 +lon_0=128 +k=0.9999 +x_0=400000 +y_0=600000 +ellps=bessel \"\n",
    "    \"+towgs84=-115.80,474.99,674.11,1.16,-2.31,-1.63,6.43\"\n",
    ")\n",
    "\n",
    "# Define the WGS84 projection\n",
    "wgs84_proj = Proj(proj=\"latlong\", datum=\"WGS84\")\n",
    "\n",
    "# Create a Transformer object for the conversion\n",
    "transformer = Transformer.from_proj(katech_proj, wgs84_proj)\n",
    "\n",
    "# Function to convert from KATECH (TM127) to WGS84\n",
    "def katech_to_wgs84(x, y):\n",
    "    lon, lat = transformer.transform(x, y)\n",
    "    return lat, lon\n",
    "\n",
    "\n",
    "# 경위도로 변환\n",
    "data_popul_admin['latitude'], data_popul_admin['longitude'] = zip(*data_popul_admin.apply(lambda row: katech_to_wgs84(row['x'], row['y']), axis=1))"
   ]
  },
  {
   "cell_type": "markdown",
   "id": "e174b286-a9e6-40fc-9826-41283f18a8a3",
   "metadata": {
    "jp-MarkdownHeadingCollapsed": true
   },
   "source": [
    "### (4) 필요없는 컬럼 삭제\n",
    "- 'x', 'y' : 경위도로 변환 완료 (latitude, longitude로 대체)\n",
    "- 'admi_cd' : 행정동명 컬럼 추가 완료 (행정동명으로 대체)\n",
    "- 'total' : 연령대별 이동경로 및 소비패턴을 살펴볼 예정이므로 삭제"
   ]
  },
  {
   "cell_type": "code",
   "execution_count": 11,
   "id": "2cd9dd67-c65a-40ad-9afd-67eb13cac05f",
   "metadata": {},
   "outputs": [
    {
     "data": {
      "text/html": [
       "<div>\n",
       "<style scoped>\n",
       "    .dataframe tbody tr th:only-of-type {\n",
       "        vertical-align: middle;\n",
       "    }\n",
       "\n",
       "    .dataframe tbody tr th {\n",
       "        vertical-align: top;\n",
       "    }\n",
       "\n",
       "    .dataframe thead th {\n",
       "        text-align: right;\n",
       "    }\n",
       "</style>\n",
       "<table border=\"1\" class=\"dataframe\">\n",
       "  <thead>\n",
       "    <tr style=\"text-align: right;\">\n",
       "      <th></th>\n",
       "      <th>id</th>\n",
       "      <th>timezn_cd</th>\n",
       "      <th>m00</th>\n",
       "      <th>m10</th>\n",
       "      <th>m15</th>\n",
       "      <th>m20</th>\n",
       "      <th>m25</th>\n",
       "      <th>m30</th>\n",
       "      <th>m35</th>\n",
       "      <th>m40</th>\n",
       "      <th>...</th>\n",
       "      <th>f45</th>\n",
       "      <th>f50</th>\n",
       "      <th>f55</th>\n",
       "      <th>f60</th>\n",
       "      <th>f65</th>\n",
       "      <th>f70</th>\n",
       "      <th>etl_ymd</th>\n",
       "      <th>행정동명</th>\n",
       "      <th>latitude</th>\n",
       "      <th>longitude</th>\n",
       "    </tr>\n",
       "  </thead>\n",
       "  <tbody>\n",
       "    <tr>\n",
       "      <th>0</th>\n",
       "      <td>59026163</td>\n",
       "      <td>0</td>\n",
       "      <td>0.0</td>\n",
       "      <td>0.0</td>\n",
       "      <td>0.32</td>\n",
       "      <td>0.02</td>\n",
       "      <td>0.02</td>\n",
       "      <td>0.02</td>\n",
       "      <td>0.02</td>\n",
       "      <td>0.11</td>\n",
       "      <td>...</td>\n",
       "      <td>0.0</td>\n",
       "      <td>0.07</td>\n",
       "      <td>0.09</td>\n",
       "      <td>0.05</td>\n",
       "      <td>0.02</td>\n",
       "      <td>0.02</td>\n",
       "      <td>2023-07-01</td>\n",
       "      <td>산성동</td>\n",
       "      <td>36.288905</td>\n",
       "      <td>127.377754</td>\n",
       "    </tr>\n",
       "    <tr>\n",
       "      <th>1</th>\n",
       "      <td>59050541</td>\n",
       "      <td>0</td>\n",
       "      <td>0.0</td>\n",
       "      <td>0.0</td>\n",
       "      <td>0.22</td>\n",
       "      <td>0.02</td>\n",
       "      <td>0.02</td>\n",
       "      <td>0.02</td>\n",
       "      <td>0.02</td>\n",
       "      <td>0.08</td>\n",
       "      <td>...</td>\n",
       "      <td>0.0</td>\n",
       "      <td>0.05</td>\n",
       "      <td>0.06</td>\n",
       "      <td>0.03</td>\n",
       "      <td>0.02</td>\n",
       "      <td>0.02</td>\n",
       "      <td>2023-07-01</td>\n",
       "      <td>산성동</td>\n",
       "      <td>36.288911</td>\n",
       "      <td>127.378868</td>\n",
       "    </tr>\n",
       "    <tr>\n",
       "      <th>2</th>\n",
       "      <td>59050544</td>\n",
       "      <td>0</td>\n",
       "      <td>0.0</td>\n",
       "      <td>0.0</td>\n",
       "      <td>0.34</td>\n",
       "      <td>0.02</td>\n",
       "      <td>0.02</td>\n",
       "      <td>0.02</td>\n",
       "      <td>0.02</td>\n",
       "      <td>0.12</td>\n",
       "      <td>...</td>\n",
       "      <td>0.0</td>\n",
       "      <td>0.07</td>\n",
       "      <td>0.10</td>\n",
       "      <td>0.05</td>\n",
       "      <td>0.02</td>\n",
       "      <td>0.02</td>\n",
       "      <td>2023-07-01</td>\n",
       "      <td>산성동</td>\n",
       "      <td>36.290263</td>\n",
       "      <td>127.378857</td>\n",
       "    </tr>\n",
       "    <tr>\n",
       "      <th>3</th>\n",
       "      <td>59050545</td>\n",
       "      <td>0</td>\n",
       "      <td>0.0</td>\n",
       "      <td>0.0</td>\n",
       "      <td>0.37</td>\n",
       "      <td>0.03</td>\n",
       "      <td>0.03</td>\n",
       "      <td>0.03</td>\n",
       "      <td>0.03</td>\n",
       "      <td>0.13</td>\n",
       "      <td>...</td>\n",
       "      <td>0.0</td>\n",
       "      <td>0.08</td>\n",
       "      <td>0.11</td>\n",
       "      <td>0.05</td>\n",
       "      <td>0.03</td>\n",
       "      <td>0.03</td>\n",
       "      <td>2023-07-01</td>\n",
       "      <td>산성동</td>\n",
       "      <td>36.290714</td>\n",
       "      <td>127.378853</td>\n",
       "    </tr>\n",
       "    <tr>\n",
       "      <th>4</th>\n",
       "      <td>59074922</td>\n",
       "      <td>0</td>\n",
       "      <td>0.0</td>\n",
       "      <td>0.0</td>\n",
       "      <td>0.36</td>\n",
       "      <td>0.03</td>\n",
       "      <td>0.03</td>\n",
       "      <td>0.03</td>\n",
       "      <td>0.03</td>\n",
       "      <td>0.13</td>\n",
       "      <td>...</td>\n",
       "      <td>0.0</td>\n",
       "      <td>0.08</td>\n",
       "      <td>0.10</td>\n",
       "      <td>0.05</td>\n",
       "      <td>0.03</td>\n",
       "      <td>0.03</td>\n",
       "      <td>2023-07-01</td>\n",
       "      <td>산성동</td>\n",
       "      <td>36.290269</td>\n",
       "      <td>127.379970</td>\n",
       "    </tr>\n",
       "  </tbody>\n",
       "</table>\n",
       "<p>5 rows × 34 columns</p>\n",
       "</div>"
      ],
      "text/plain": [
       "         id  timezn_cd  m00  m10   m15   m20   m25   m30   m35   m40  ...  \\\n",
       "0  59026163          0  0.0  0.0  0.32  0.02  0.02  0.02  0.02  0.11  ...   \n",
       "1  59050541          0  0.0  0.0  0.22  0.02  0.02  0.02  0.02  0.08  ...   \n",
       "2  59050544          0  0.0  0.0  0.34  0.02  0.02  0.02  0.02  0.12  ...   \n",
       "3  59050545          0  0.0  0.0  0.37  0.03  0.03  0.03  0.03  0.13  ...   \n",
       "4  59074922          0  0.0  0.0  0.36  0.03  0.03  0.03  0.03  0.13  ...   \n",
       "\n",
       "   f45   f50   f55   f60   f65   f70     etl_ymd  행정동명   latitude   longitude  \n",
       "0  0.0  0.07  0.09  0.05  0.02  0.02  2023-07-01   산성동  36.288905  127.377754  \n",
       "1  0.0  0.05  0.06  0.03  0.02  0.02  2023-07-01   산성동  36.288911  127.378868  \n",
       "2  0.0  0.07  0.10  0.05  0.02  0.02  2023-07-01   산성동  36.290263  127.378857  \n",
       "3  0.0  0.08  0.11  0.05  0.03  0.03  2023-07-01   산성동  36.290714  127.378853  \n",
       "4  0.0  0.08  0.10  0.05  0.03  0.03  2023-07-01   산성동  36.290269  127.379970  \n",
       "\n",
       "[5 rows x 34 columns]"
      ]
     },
     "execution_count": 11,
     "metadata": {},
     "output_type": "execute_result"
    }
   ],
   "source": [
    "data_popul_admin.drop(['x', 'y', 'admi_cd', 'total'], axis=1, inplace=True)\n",
    "data_popul_admin.head()"
   ]
  },
  {
   "cell_type": "markdown",
   "id": "0fc2ff8e-83f1-4e37-b737-8184ac49cac9",
   "metadata": {
    "jp-MarkdownHeadingCollapsed": true
   },
   "source": [
    "### (5) \"공휴일\" 컬럼 추가\n",
    "- 국가에서 지정한 공휴일\n",
    "- holidays 패키지 활용\n",
    "- 공휴일 아님 / 공휴일"
   ]
  },
  {
   "cell_type": "code",
   "execution_count": 13,
   "id": "a141957c-6d5a-49b7-9e18-a3da6fc09e70",
   "metadata": {},
   "outputs": [],
   "source": [
    "# etl_ymd을 datetime으로\n",
    "data_popul_admin['etl_ymd'] = pd.to_datetime(data_popul_admin['etl_ymd'])"
   ]
  },
  {
   "cell_type": "code",
   "execution_count": 14,
   "id": "065c5401-efb0-4903-8878-c98394538fb6",
   "metadata": {},
   "outputs": [],
   "source": [
    "## 공휴일\n",
    "import holidays\n",
    "\n",
    "# 한국 휴일 객체 생성\n",
    "kr_holidays = holidays.KR()\n",
    "\n",
    "# holiday 컬럼 추가\n",
    "data_popul_admin['공휴일'] = data_popul_admin['etl_ymd'].apply(lambda x: '공휴일' if x in kr_holidays else '공휴일 아님')"
   ]
  },
  {
   "cell_type": "markdown",
   "id": "80a23ec2-051e-4183-97c5-e6f27b0b04cc",
   "metadata": {
    "jp-MarkdownHeadingCollapsed": true
   },
   "source": [
    "### (6) \"주말\" 컬럼 추가\n",
    "- *etl_ymd* 에서 파생\n",
    "- 월요일 ~ 금요일 : 평일 / 토요일, 일요일 : 주말"
   ]
  },
  {
   "cell_type": "code",
   "execution_count": 15,
   "id": "4098a290-c1d2-42d9-8008-b47c866b5885",
   "metadata": {},
   "outputs": [],
   "source": [
    "## 주말\n",
    "def weekend(data):\n",
    "    result = data.dayofweek\n",
    "    if result >= 5:     # 5 : 토 / 6 : 일\n",
    "        return '주말'\n",
    "    else:\n",
    "        return '평일'\n",
    "\n",
    "# 공휴일이 아닌 데이터에만 채워넣기 (공휴일 건들면 안되니까)\n",
    "data_popul_admin['주말'] = data_popul_admin['etl_ymd'].apply(weekend)"
   ]
  },
  {
   "cell_type": "markdown",
   "id": "2a099ebb-445f-48ca-a2b0-ffc8b5af4d6b",
   "metadata": {
    "jp-MarkdownHeadingCollapsed": true
   },
   "source": [
    "### (7) 연령대별 컬럼 합치기 : 10세 단위로\n",
    "- m00, f00 : 10세 미만\n",
    "- m10 ~ m15, f10 ~ f15 : 10대\n",
    "- m20 ~ m25, f20 ~ f25 : 20대\n",
    "- m30 ~ m35, f30 ~ f35 : 30대\n",
    "- m40 ~ m45, f40 ~ f45 : 40대\n",
    "- m50 ~ m55, f50 ~ f55 : 50대\n",
    "- m60 ~ m65, f60 ~ f65 : 60대\n",
    "- m70, f70 : 70대 이상"
   ]
  },
  {
   "cell_type": "code",
   "execution_count": 19,
   "id": "fae075a4-9ac8-4efa-96ee-83a291518fe3",
   "metadata": {},
   "outputs": [],
   "source": [
    "# 10세 단위로 묶기 (m00, f00은 0~9세이므로 해당 작업에 포함x)\n",
    "data_popul_admin['m10'] = data_popul_admin['m10'] + data_popul_admin['m15']\n",
    "data_popul_admin['m20'] = data_popul_admin['m20'] + data_popul_admin['m25']\n",
    "data_popul_admin['m30'] = data_popul_admin['m30'] + data_popul_admin['m35']\n",
    "data_popul_admin['m40'] = data_popul_admin['m40'] + data_popul_admin['m45']\n",
    "data_popul_admin['m50'] = data_popul_admin['m50'] + data_popul_admin['m55']\n",
    "data_popul_admin['m60'] = data_popul_admin['m60'] + data_popul_admin['m65']\n",
    "\n",
    "data_popul_admin['f10'] = data_popul_admin['f10'] + data_popul_admin['f15']\n",
    "data_popul_admin['f20'] = data_popul_admin['f20'] + data_popul_admin['f25']\n",
    "data_popul_admin['f30'] = data_popul_admin['f30'] + data_popul_admin['f35']\n",
    "data_popul_admin['f40'] = data_popul_admin['f40'] + data_popul_admin['f45']\n",
    "data_popul_admin['f50'] = data_popul_admin['f50'] + data_popul_admin['f55']\n",
    "data_popul_admin['f60'] = data_popul_admin['f60'] + data_popul_admin['f65']"
   ]
  },
  {
   "cell_type": "code",
   "execution_count": 20,
   "id": "70ac0110-7b74-41b4-b1ae-88e06e3bc59a",
   "metadata": {},
   "outputs": [],
   "source": [
    "# 필요한 연령대만 남기기 & 컬럼 순서조정\n",
    "data_popul_admin = data_popul_admin[['id', 'etl_ymd', 'timezn_cd','latitude', 'longitude','행정동명',\n",
    "                                         'm00', 'm10', 'm20', 'm30', 'm40', 'm50', 'm60', 'm70', \n",
    "                                         'f00', 'f10','f20', 'f30', 'f40', 'f50', 'f60', 'f70',\n",
    "                                         '공휴일','주말']]"
   ]
  },
  {
   "cell_type": "code",
   "execution_count": 22,
   "id": "b68fe4f7-4bb5-404e-9f0d-8aef3a221e44",
   "metadata": {
    "scrolled": true
   },
   "outputs": [
    {
     "data": {
      "text/html": [
       "<div>\n",
       "<style scoped>\n",
       "    .dataframe tbody tr th:only-of-type {\n",
       "        vertical-align: middle;\n",
       "    }\n",
       "\n",
       "    .dataframe tbody tr th {\n",
       "        vertical-align: top;\n",
       "    }\n",
       "\n",
       "    .dataframe thead th {\n",
       "        text-align: right;\n",
       "    }\n",
       "</style>\n",
       "<table border=\"1\" class=\"dataframe\">\n",
       "  <thead>\n",
       "    <tr style=\"text-align: right;\">\n",
       "      <th></th>\n",
       "      <th>id</th>\n",
       "      <th>etl_ymd</th>\n",
       "      <th>timezn_cd</th>\n",
       "      <th>latitude</th>\n",
       "      <th>longitude</th>\n",
       "      <th>행정동명</th>\n",
       "      <th>m00</th>\n",
       "      <th>m10</th>\n",
       "      <th>m20</th>\n",
       "      <th>m30</th>\n",
       "      <th>...</th>\n",
       "      <th>f00</th>\n",
       "      <th>f10</th>\n",
       "      <th>f20</th>\n",
       "      <th>f30</th>\n",
       "      <th>f40</th>\n",
       "      <th>f50</th>\n",
       "      <th>f60</th>\n",
       "      <th>f70</th>\n",
       "      <th>공휴일</th>\n",
       "      <th>주말</th>\n",
       "    </tr>\n",
       "  </thead>\n",
       "  <tbody>\n",
       "    <tr>\n",
       "      <th>0</th>\n",
       "      <td>59026163</td>\n",
       "      <td>2023-07-01</td>\n",
       "      <td>0</td>\n",
       "      <td>36.288905</td>\n",
       "      <td>127.377754</td>\n",
       "      <td>산성동</td>\n",
       "      <td>0.0</td>\n",
       "      <td>0.32</td>\n",
       "      <td>0.04</td>\n",
       "      <td>0.04</td>\n",
       "      <td>...</td>\n",
       "      <td>0.0</td>\n",
       "      <td>0.0</td>\n",
       "      <td>0.12</td>\n",
       "      <td>0.02</td>\n",
       "      <td>0.16</td>\n",
       "      <td>0.16</td>\n",
       "      <td>0.07</td>\n",
       "      <td>0.02</td>\n",
       "      <td>공휴일 아님</td>\n",
       "      <td>주말</td>\n",
       "    </tr>\n",
       "    <tr>\n",
       "      <th>1</th>\n",
       "      <td>59050541</td>\n",
       "      <td>2023-07-01</td>\n",
       "      <td>0</td>\n",
       "      <td>36.288911</td>\n",
       "      <td>127.378868</td>\n",
       "      <td>산성동</td>\n",
       "      <td>0.0</td>\n",
       "      <td>0.22</td>\n",
       "      <td>0.04</td>\n",
       "      <td>0.04</td>\n",
       "      <td>...</td>\n",
       "      <td>0.0</td>\n",
       "      <td>0.0</td>\n",
       "      <td>0.08</td>\n",
       "      <td>0.02</td>\n",
       "      <td>0.11</td>\n",
       "      <td>0.11</td>\n",
       "      <td>0.05</td>\n",
       "      <td>0.02</td>\n",
       "      <td>공휴일 아님</td>\n",
       "      <td>주말</td>\n",
       "    </tr>\n",
       "    <tr>\n",
       "      <th>2</th>\n",
       "      <td>59050544</td>\n",
       "      <td>2023-07-01</td>\n",
       "      <td>0</td>\n",
       "      <td>36.290263</td>\n",
       "      <td>127.378857</td>\n",
       "      <td>산성동</td>\n",
       "      <td>0.0</td>\n",
       "      <td>0.34</td>\n",
       "      <td>0.04</td>\n",
       "      <td>0.04</td>\n",
       "      <td>...</td>\n",
       "      <td>0.0</td>\n",
       "      <td>0.0</td>\n",
       "      <td>0.12</td>\n",
       "      <td>0.02</td>\n",
       "      <td>0.17</td>\n",
       "      <td>0.17</td>\n",
       "      <td>0.07</td>\n",
       "      <td>0.02</td>\n",
       "      <td>공휴일 아님</td>\n",
       "      <td>주말</td>\n",
       "    </tr>\n",
       "    <tr>\n",
       "      <th>3</th>\n",
       "      <td>59050545</td>\n",
       "      <td>2023-07-01</td>\n",
       "      <td>0</td>\n",
       "      <td>36.290714</td>\n",
       "      <td>127.378853</td>\n",
       "      <td>산성동</td>\n",
       "      <td>0.0</td>\n",
       "      <td>0.37</td>\n",
       "      <td>0.06</td>\n",
       "      <td>0.06</td>\n",
       "      <td>...</td>\n",
       "      <td>0.0</td>\n",
       "      <td>0.0</td>\n",
       "      <td>0.13</td>\n",
       "      <td>0.03</td>\n",
       "      <td>0.19</td>\n",
       "      <td>0.19</td>\n",
       "      <td>0.08</td>\n",
       "      <td>0.03</td>\n",
       "      <td>공휴일 아님</td>\n",
       "      <td>주말</td>\n",
       "    </tr>\n",
       "    <tr>\n",
       "      <th>4</th>\n",
       "      <td>59074922</td>\n",
       "      <td>2023-07-01</td>\n",
       "      <td>0</td>\n",
       "      <td>36.290269</td>\n",
       "      <td>127.379970</td>\n",
       "      <td>산성동</td>\n",
       "      <td>0.0</td>\n",
       "      <td>0.36</td>\n",
       "      <td>0.06</td>\n",
       "      <td>0.06</td>\n",
       "      <td>...</td>\n",
       "      <td>0.0</td>\n",
       "      <td>0.0</td>\n",
       "      <td>0.13</td>\n",
       "      <td>0.03</td>\n",
       "      <td>0.18</td>\n",
       "      <td>0.18</td>\n",
       "      <td>0.08</td>\n",
       "      <td>0.03</td>\n",
       "      <td>공휴일 아님</td>\n",
       "      <td>주말</td>\n",
       "    </tr>\n",
       "  </tbody>\n",
       "</table>\n",
       "<p>5 rows × 24 columns</p>\n",
       "</div>"
      ],
      "text/plain": [
       "         id    etl_ymd  timezn_cd   latitude   longitude 행정동명  m00   m10  \\\n",
       "0  59026163 2023-07-01          0  36.288905  127.377754  산성동  0.0  0.32   \n",
       "1  59050541 2023-07-01          0  36.288911  127.378868  산성동  0.0  0.22   \n",
       "2  59050544 2023-07-01          0  36.290263  127.378857  산성동  0.0  0.34   \n",
       "3  59050545 2023-07-01          0  36.290714  127.378853  산성동  0.0  0.37   \n",
       "4  59074922 2023-07-01          0  36.290269  127.379970  산성동  0.0  0.36   \n",
       "\n",
       "    m20   m30  ...  f00  f10   f20   f30   f40   f50   f60   f70     공휴일  주말  \n",
       "0  0.04  0.04  ...  0.0  0.0  0.12  0.02  0.16  0.16  0.07  0.02  공휴일 아님  주말  \n",
       "1  0.04  0.04  ...  0.0  0.0  0.08  0.02  0.11  0.11  0.05  0.02  공휴일 아님  주말  \n",
       "2  0.04  0.04  ...  0.0  0.0  0.12  0.02  0.17  0.17  0.07  0.02  공휴일 아님  주말  \n",
       "3  0.06  0.06  ...  0.0  0.0  0.13  0.03  0.19  0.19  0.08  0.03  공휴일 아님  주말  \n",
       "4  0.06  0.06  ...  0.0  0.0  0.13  0.03  0.18  0.18  0.08  0.03  공휴일 아님  주말  \n",
       "\n",
       "[5 rows x 24 columns]"
      ]
     },
     "execution_count": 22,
     "metadata": {},
     "output_type": "execute_result"
    }
   ],
   "source": [
    "data_popul_admin.head()"
   ]
  },
  {
   "cell_type": "markdown",
   "id": "ec256d58-64c8-4f36-b3ee-be6d25689974",
   "metadata": {
    "jp-MarkdownHeadingCollapsed": true
   },
   "source": [
    "### (8) 전처리 완료 데이터 저장\n",
    "- 2. 이동경로 분석 부터는 전처리 완료된 데이터를 불러와서 사용"
   ]
  },
  {
   "cell_type": "code",
   "execution_count": null,
   "id": "155e3f7a-306d-4578-939e-f16e2f906327",
   "metadata": {},
   "outputs": [],
   "source": [
    "data_popul_admin.to_csv(os.path.join(path, '유동인구_전처리_완료.csv'), encoding = 'cp949', index=False)"
   ]
  },
  {
   "cell_type": "markdown",
   "id": "3d7826d7-ff21-41bd-8b04-26d57980dda9",
   "metadata": {
    "jp-MarkdownHeadingCollapsed": true
   },
   "source": [
    "## 1-2 카드매출_가맹점"
   ]
  },
  {
   "cell_type": "code",
   "execution_count": 364,
   "id": "aeb393b7-9705-42a8-89ce-4bd5563b6c2f",
   "metadata": {},
   "outputs": [
    {
     "data": {
      "text/plain": [
       "기준일자               0\n",
       "cell_id            0\n",
       "업종대분류          15652\n",
       "업종중분류          23604\n",
       "업종소분류         178261\n",
       "이용건수               0\n",
       "이용건수_지역화폐          0\n",
       "이용건수_재난지원금         0\n",
       "이용건수_기타            0\n",
       "이용금액               0\n",
       "이용금액_지역화폐          0\n",
       "이용금액_재난지원금         0\n",
       "이용금액_기타            0\n",
       "dtype: int64"
      ]
     },
     "execution_count": 364,
     "metadata": {},
     "output_type": "execute_result"
    }
   ],
   "source": [
    "# *카드매출_가맹점*\n",
    "data_biz.isna().sum()"
   ]
  },
  {
   "cell_type": "markdown",
   "id": "5115c1cb-032a-43d3-99a2-d198edc375d9",
   "metadata": {
    "jp-MarkdownHeadingCollapsed": true
   },
   "source": [
    "### (1) cell_id : 경위도 컬럼 추가\n",
    "- 500m*500m 셀의 위치를 나타내는 컬럼\n",
    "- 함께 주어진 ***국토지리정보원_국토조사_(격자)500M.csv***를 활용하여 경도/위도로 변환"
   ]
  },
  {
   "cell_type": "markdown",
   "id": "aa79b0bb-8da4-4066-ab25-57ed1240d174",
   "metadata": {
    "jp-MarkdownHeadingCollapsed": true
   },
   "source": [
    "#### ① *국토지리정보원_국토조사_(격자)500M.csv*\n",
    "> x좌표, y좌표 : UTM-K 좌표 → 경위도 좌표(wsg84)로 변환  \n",
    "> (*이때, EPSG는 중앙 경선이 127도가 되도록 하는 **대한민국 중앙부 기준** 사용)"
   ]
  },
  {
   "cell_type": "code",
   "execution_count": 19,
   "id": "4027b263-1a7c-4290-99f9-39ffdc95d766",
   "metadata": {},
   "outputs": [],
   "source": [
    "# 국토지리정보원_국토조사_(격자)500M\n",
    "# x, y → 경위도\n",
    "\n",
    "transformer = Transformer.from_crs(\"epsg:5178\", \"epsg:4326\", always_xy=True)\n",
    "\n",
    "# 위도와 경도로 변환하는 함수\n",
    "def katec_to_wgs84(x, y):\n",
    "    lon, lat = transformer.transform(x, y)\n",
    "    return lon, lat\n",
    "\n",
    "# 새로운 열을 추가\n",
    "data_loc['longitude'], data_loc['latitude'] = zip(*data_loc.apply(lambda row: katec_to_wgs84(row['x좌표'], row['y좌표']), axis=1))"
   ]
  },
  {
   "cell_type": "code",
   "execution_count": 21,
   "id": "fcb5657f-6e4f-423c-992c-428031d2d5fb",
   "metadata": {},
   "outputs": [
    {
     "data": {
      "text/html": [
       "<div>\n",
       "<style scoped>\n",
       "    .dataframe tbody tr th:only-of-type {\n",
       "        vertical-align: middle;\n",
       "    }\n",
       "\n",
       "    .dataframe tbody tr th {\n",
       "        vertical-align: top;\n",
       "    }\n",
       "\n",
       "    .dataframe thead th {\n",
       "        text-align: right;\n",
       "    }\n",
       "</style>\n",
       "<table border=\"1\" class=\"dataframe\">\n",
       "  <thead>\n",
       "    <tr style=\"text-align: right;\">\n",
       "      <th></th>\n",
       "      <th>격자ID</th>\n",
       "      <th>x좌표</th>\n",
       "      <th>y좌표</th>\n",
       "      <th>longitude</th>\n",
       "      <th>latitude</th>\n",
       "    </tr>\n",
       "  </thead>\n",
       "  <tbody>\n",
       "    <tr>\n",
       "      <th>0</th>\n",
       "      <td>가다76b67a</td>\n",
       "      <td>776500</td>\n",
       "      <td>1567000</td>\n",
       "      <td>125.075837</td>\n",
       "      <td>34.075020</td>\n",
       "    </tr>\n",
       "    <tr>\n",
       "      <th>1</th>\n",
       "      <td>가다76b72a</td>\n",
       "      <td>776500</td>\n",
       "      <td>1572000</td>\n",
       "      <td>125.074553</td>\n",
       "      <td>34.120073</td>\n",
       "    </tr>\n",
       "    <tr>\n",
       "      <th>2</th>\n",
       "      <td>가다77a66b</td>\n",
       "      <td>777000</td>\n",
       "      <td>1566500</td>\n",
       "      <td>125.081380</td>\n",
       "      <td>34.070622</td>\n",
       "    </tr>\n",
       "    <tr>\n",
       "      <th>3</th>\n",
       "      <td>가다77a67a</td>\n",
       "      <td>777000</td>\n",
       "      <td>1567000</td>\n",
       "      <td>125.081252</td>\n",
       "      <td>34.075127</td>\n",
       "    </tr>\n",
       "    <tr>\n",
       "      <th>4</th>\n",
       "      <td>가다77a71b</td>\n",
       "      <td>777000</td>\n",
       "      <td>1571500</td>\n",
       "      <td>125.080098</td>\n",
       "      <td>34.115675</td>\n",
       "    </tr>\n",
       "  </tbody>\n",
       "</table>\n",
       "</div>"
      ],
      "text/plain": [
       "       격자ID     x좌표      y좌표   longitude   latitude\n",
       "0  가다76b67a  776500  1567000  125.075837  34.075020\n",
       "1  가다76b72a  776500  1572000  125.074553  34.120073\n",
       "2  가다77a66b  777000  1566500  125.081380  34.070622\n",
       "3  가다77a67a  777000  1567000  125.081252  34.075127\n",
       "4  가다77a71b  777000  1571500  125.080098  34.115675"
      ]
     },
     "execution_count": 21,
     "metadata": {},
     "output_type": "execute_result"
    }
   ],
   "source": [
    "# 잘 변환됐는지 확인\n",
    "data_loc.head()"
   ]
  },
  {
   "cell_type": "markdown",
   "id": "38fa02a6-8359-48b6-b9b0-a9cbdd4ee5c0",
   "metadata": {
    "jp-MarkdownHeadingCollapsed": true
   },
   "source": [
    "#### ② *카드매출_가맹점 > cell_id* 에 맵핑"
   ]
  },
  {
   "cell_type": "code",
   "execution_count": 23,
   "id": "f75a42e8-cad8-404e-926c-9ec6ccb3f061",
   "metadata": {
    "scrolled": true
   },
   "outputs": [
    {
     "data": {
      "text/plain": [
       "array(['다바88b09b', '다바88b10a', '다바89a09b', '다바89a10a', '다바89a10b',\n",
       "       '다바89a11b', '다바89b09b', '다바89b10b', '다바89b11a', '다바89b11b',\n",
       "       '다바89b12a', '다바89b12b', '다바89b13a', '다바89b13b', '다바90a10b',\n",
       "       '다바90a11a', '다바90a11b', '다바90a12a', '다바90a12b', '다바90a13a',\n",
       "       '다바90a13b', '다바90a14a', '다바90a14b', '다바90b08a', '다바90b08b',\n",
       "       '다바90b10b', '다바90b11a', '다바90b12a', '다바90b12b', '다바90b13a',\n",
       "       '다바90b13b', '다바90b14a', '다바90b14b', '다바90b15a', '다바91a11b',\n",
       "       '다바91a12a', '다바91a12b', '다바91a13a', '다바91a13b', '다바91a14a',\n",
       "       '다바91a14b', '다바91a15a', '다바91a15b', '다바91a16b', '다바91b11a',\n",
       "       '다바91b12a', '다바91b12b', '다바91b13a', '다바91b13b', '다바91b14a',\n",
       "       '다바91b14b', '다바91b15a', '다바91b15b', '다바91b16a', '다바91b16b',\n",
       "       '다바92a12a', '다바92a12b', '다바92a13a', '다바92a13b', '다바92a14a',\n",
       "       '다바92a14b', '다바92a15a', '다바92a15b', '다바92a16a', '다바92b04a',\n",
       "       '다바92b12a', '다바92b12b', '다바92b13a', '다바92b13b', '다바92b14a',\n",
       "       '다바92b14b', '다바92b15a', '다바92b15b', '다바93a12a', '다바93a12b',\n",
       "       '다바93a13a', '다바93a13b', '다바93a14a', '다바93a14b', '다바93a15a',\n",
       "       '다바93b12a', '다바93b12b', '다바93b13a', '다바93b13b', '다바93b14a',\n",
       "       '다바93b14b', '다바94a12b', '다바94a13a', '다바94a13b', '다바94a14a',\n",
       "       '다바94b12a', '다바94b12b', '다바94b13a', '다바95a11b', '다바95a12a',\n",
       "       '다바95b11a', '다바95b11b', '다바96a11a', '다바90a08a', '다바91a10b',\n",
       "       '다바88b09a', '다바94a12a', '다바95b10b', '다바90b11b', '다바91b08b',\n",
       "       '다바94b11a', '다바95a11a', '다바91a08b', '다바92b02b', '다바91a16a',\n",
       "       '다바91b05b', '다바89b08a', '다바91a08a', '다바92a02a', '다바94b11b',\n",
       "       '다바92a01b', '다바89a11a', '다바91b11b', '다바89a09a', '다바90a07b',\n",
       "       '다바92b01b', '다바95a12b', '다바91a05a', '다바94a11b', '다바92b09b',\n",
       "       '다바90b09a', '다바96a10b', '다바90a08b', '다바93a05a'], dtype=object)"
      ]
     },
     "execution_count": 23,
     "metadata": {},
     "output_type": "execute_result"
    }
   ],
   "source": [
    "# 카드매출_가맹점 > cell_id 종류\n",
    "data_biz.cell_id.unique()"
   ]
  },
  {
   "cell_type": "markdown",
   "id": "e64a79aa-e0de-4772-ad2a-feb41b207a7e",
   "metadata": {},
   "source": [
    "- 다바8809b~다바93a05a 까지 중구라고 할 수 있음\n",
    "\n",
    "</br>\n",
    "\n",
    "- *국토지리정보원_국토조사_(격자)500M*에서 '다바'를 포함하고 있는 cell_id 찾아서\n",
    "- *카드매출_가맹점 > cell_id*에 위도, 경도 맵핑"
   ]
  },
  {
   "cell_type": "code",
   "execution_count": 25,
   "id": "44d2fef9-4610-47d3-a2c2-e6a2318f375d",
   "metadata": {},
   "outputs": [],
   "source": [
    "## 1) *국토지리정보원_국토조사_(격자)500M*에서 '다바'를 포함하고 있는 격자_id\n",
    "junggu_loc = data_loc[data_loc['격자ID'].str.contains('다바')]\n",
    "\n",
    "\n",
    "## 2) *카드매출_가맹점 > cell_id*와 *국토지리정보원_국토조사_(격자)500M >격자 ID* 비교하여 위/경도 컬럼 붙이기\n",
    "def get_coordinates(cell_id):\n",
    "    \n",
    "    # junggu_loc에서 해당 cell_id를 가진 행을 찾음\n",
    "    result = junggu_loc[junggu_loc['격자ID'] == cell_id]\n",
    "\n",
    "    # 만약 해당 cell_id가 존재하면 위도와 경도를 반환하고, 없으면 None을 반환\n",
    "    if not result.empty:\n",
    "        return result.iloc[0]['latitude'], result.iloc[0]['longitude']\n",
    "    else:\n",
    "        return None, None\n",
    "\n",
    "# 카드매출_가맹점에 새로운 컬럼으로 위도와 경도를 추가\n",
    "data_biz['latitude'], data_biz['longitude'] = zip(*data_biz['cell_id'].apply(get_coordinates))"
   ]
  },
  {
   "cell_type": "code",
   "execution_count": 27,
   "id": "00609a0e-461c-4f2d-a7e3-15a21946334c",
   "metadata": {},
   "outputs": [
    {
     "data": {
      "text/plain": [
       "latitude     0\n",
       "longitude    0\n",
       "dtype: int64"
      ]
     },
     "execution_count": 27,
     "metadata": {},
     "output_type": "execute_result"
    }
   ],
   "source": [
    "data_biz[['latitude', 'longitude']].isna().sum()"
   ]
  },
  {
   "cell_type": "markdown",
   "id": "9a694d3b-1a9a-4ce5-8584-b23f58bf0223",
   "metadata": {
    "jp-MarkdownHeadingCollapsed": true
   },
   "source": [
    "### (2) 업종대분류, 업종중분류, 업종소분류"
   ]
  },
  {
   "cell_type": "markdown",
   "id": "714b425b-4a14-4769-8b79-ffa23cabef45",
   "metadata": {
    "jp-MarkdownHeadingCollapsed": true
   },
   "source": [
    "#### ① 결측치 : drop"
   ]
  },
  {
   "cell_type": "code",
   "execution_count": 29,
   "id": "367bbcc0-0062-450f-9f29-9cbad651c63b",
   "metadata": {},
   "outputs": [
    {
     "name": "stdout",
     "output_type": "stream",
     "text": [
      "업종대분류     15652\n",
      "업종중분류     23604\n",
      "업종소분류    178261\n",
      "dtype: int64\n",
      "(567495, 15)\n"
     ]
    }
   ],
   "source": [
    "# 결측치 확인\n",
    "print(data_biz[['업종대분류', '업종중분류', '업종소분류']].isna().sum())\n",
    "print(data_biz.shape)"
   ]
  },
  {
   "cell_type": "markdown",
   "id": "1c4401b5-0762-4385-93f5-9cd5e883ce78",
   "metadata": {},
   "source": [
    "***카드매출_가맹점* 을 통해서 업종소분류를 파악하는 것이 중요하기 때문에 업종소분류가 결측치인 데이터는 모두 제외**"
   ]
  },
  {
   "cell_type": "code",
   "execution_count": 31,
   "id": "53a4876c-c692-499b-8378-334455b780b8",
   "metadata": {},
   "outputs": [
    {
     "data": {
      "text/plain": [
       "(389234, 15)"
      ]
     },
     "execution_count": 31,
     "metadata": {},
     "output_type": "execute_result"
    }
   ],
   "source": [
    "# 결측치인 값은 제외\n",
    "data_biz = data_biz[data_biz['업종소분류'].isna() == False]\n",
    "data_biz.shape"
   ]
  },
  {
   "cell_type": "code",
   "execution_count": 33,
   "id": "c1c1f484-5768-44bd-a966-e7761c9a2a78",
   "metadata": {},
   "outputs": [
    {
     "name": "stdout",
     "output_type": "stream",
     "text": [
      "업종대분류    0\n",
      "업종중분류    0\n",
      "업종소분류    0\n",
      "dtype: int64\n",
      "(389234, 15)\n"
     ]
    }
   ],
   "source": [
    "# 결측치 처리 후 다시 확인\n",
    "print(data_biz[['업종대분류', '업종중분류', '업종소분류']].isna().sum())\n",
    "print(data_biz.shape)"
   ]
  },
  {
   "cell_type": "markdown",
   "id": "0396796f-f817-41dd-b6ad-04ccc6a76491",
   "metadata": {
    "jp-MarkdownHeadingCollapsed": true
   },
   "source": [
    "#### ② 업종분류명 컬럼 추가"
   ]
  },
  {
   "cell_type": "markdown",
   "id": "80648e69-ff9a-42d7-b63e-21ab12185d37",
   "metadata": {
    "jp-MarkdownHeadingCollapsed": true
   },
   "source": [
    "##### **방법[1]** ***상가(상권)정보_업종분류.xlsx***\n",
    "- 제공된 데이터 중 업종분류코드별 업종분류명이 표기돼 있는 데이터\n",
    "- 그런데 해당 데이터는 ***카드매출_가맹점***에 있는 모든 업종분류코드를 설명하고 있지 않음."
   ]
  },
  {
   "cell_type": "code",
   "execution_count": 35,
   "id": "41cf6bd2-43dd-407e-a105-5b19a8b038a1",
   "metadata": {},
   "outputs": [
    {
     "name": "stdout",
     "output_type": "stream",
     "text": [
      "카드매출_가맹점 > 업종대분류\n",
      " ['G' 'I' 'M' 'S' 'P' 'O' 'R' 'N' 'C' 'Q' 'H' 'J' 'K' 'L']\n",
      "\n",
      "\n",
      "상가(상권)정보_업종분류 > 대분류코드\n",
      " ['G2' 'I1' 'I2' 'L1' 'M1' 'N1' 'P1' 'Q1' 'R1' 'S2']\n"
     ]
    }
   ],
   "source": [
    "# 카드매출_가맹점 > 업종대분류\n",
    "print(f'카드매출_가맹점 > 업종대분류\\n {data_biz.업종대분류.unique()}\\n\\n')\n",
    "\n",
    "# 상가(상권)정보_업종분류 > 대분류코드\n",
    "print(f'상가(상권)정보_업종분류 > 대분류코드\\n {data_sort.대분류코드.unique()}')"
   ]
  },
  {
   "cell_type": "markdown",
   "id": "317e829d-0623-4a2c-9944-fd99ae861742",
   "metadata": {},
   "source": [
    "- *상가(상권)정보_업종분류* 는 *카드매출_가맹점* 의 모든 업종분류를 포함하고 있지 않음  \n",
    "- 따라서 업종분류명 컬럼을 추가할 때는 다음 방법[2]를 사용"
   ]
  },
  {
   "cell_type": "markdown",
   "id": "2767070c-901d-438e-82dd-1ecaaab1ff13",
   "metadata": {
    "jp-MarkdownHeadingCollapsed": true
   },
   "source": [
    "##### **방법[2]** ***한국표준산업분류10차_표.xlsx***\n",
    "- 외부 데이터인 ***통계청 한국표준산업분류10차***(한국표준산업분류10차_표.xlsx) 활용  \n",
    "- 해당 데이터의 출처는 다음과 같음.  \n",
    "  http://ecosmart.kaist.ac.kr/bbs/board.php?bo_table=menu3_1&wr_id=1"
   ]
  },
  {
   "cell_type": "code",
   "execution_count": 37,
   "id": "e31afd77-e37d-46c8-b220-baff3055e91d",
   "metadata": {},
   "outputs": [
    {
     "name": "stdout",
     "output_type": "stream",
     "text": [
      "대분류_코드 : 21\n",
      "대분류_항목명 : 21\n",
      "중분류_코드 : 77\n",
      "중분류_항목명 : 77\n",
      "소분류_코드 : 1196\n",
      "소분류_항목명 : 1196\n"
     ]
    }
   ],
   "source": [
    "# 한국표준산업분류10차 데이터 정리\n",
    "\n",
    "# 소분류, 세분류 컬럼 drop (카드매출_가맹점 > 업종소분류 == 한국표준산업분류10차 > 세세분류)\n",
    "data_code.drop(['코드.2', '항목명.2', '코드.3', '항목명.3'], axis=1, inplace=True)\n",
    "\n",
    "# 컬럼명 정리\n",
    "data_code.columns = ['대분류_코드', '대분류_항목명',\n",
    "                     '중분류_코드', '중분류_항목명',\n",
    "                     '소분류_코드', '소분류_항목명']\n",
    "\n",
    "# 결측치 채워넣기 (ex. 대분류코드 A ~ B 사이 결측치는 A로, B ~ C 사이 결측치는 B로)\n",
    "data_code = data_code.ffill()\n",
    "\n",
    "# 확인\n",
    "print(f'대분류_코드 : {data_code['대분류_코드'].nunique()}')\n",
    "print(f'대분류_항목명 : {data_code['대분류_항목명'].nunique()}')\n",
    "print(f'중분류_코드 : {data_code['중분류_코드'].nunique()}')\n",
    "print(f'중분류_항목명 : {data_code['중분류_항목명'].nunique()}')\n",
    "print(f'소분류_코드 : {data_code['소분류_코드'].nunique()}')\n",
    "print(f'소분류_항목명 : {data_code['소분류_항목명'].nunique()}')"
   ]
  },
  {
   "cell_type": "code",
   "execution_count": 385,
   "id": "0a04b2c4-d9f1-461c-bc19-4a33018a413e",
   "metadata": {},
   "outputs": [
    {
     "data": {
      "text/plain": [
       "Index(['대분류_코드', '대분류_항목명', '중분류_코드', '중분류_항목명', '소분류_코드', '소분류_항목명'], dtype='object')"
      ]
     },
     "execution_count": 385,
     "metadata": {},
     "output_type": "execute_result"
    }
   ],
   "source": [
    "data_code.columns"
   ]
  },
  {
   "cell_type": "code",
   "execution_count": 39,
   "id": "d835a30d-a6ae-4350-a789-71aa3183232a",
   "metadata": {},
   "outputs": [],
   "source": [
    "# 카드매출_가맹정에 붙이기 위한 마지막 사전 작업\n",
    "\n",
    "## 대분류_코드 - 대분류_항목명\n",
    "code_big = data_code['대분류_코드'].unique().tolist()\n",
    "code_name_big = data_code['대분류_항목명'].unique().tolist()\n",
    "\n",
    "## 중분류_코드 - 중분류_항목명\n",
    "code_mid = data_code['중분류_코드'].unique().tolist()\n",
    "code_name_mid = data_code['중분류_항목명'].unique().tolist()\n",
    "\n",
    "## 소분류_코드 - 소분류_항목명\n",
    "code_small = data_code['소분류_코드'].unique().tolist()\n",
    "code_name_small = data_code['소분류_항목명'].unique().tolist()\n",
    "\n",
    "\n",
    "\n",
    "## 각각 딕셔너리로 만들기\n",
    "dict_big = dict(zip(code_big, code_name_big))\n",
    "dict_mid = dict(zip(code_mid, code_name_mid))\n",
    "dict_small = dict(zip(code_small, code_name_small))"
   ]
  },
  {
   "cell_type": "code",
   "execution_count": 391,
   "id": "ba21fbc4-c1c3-4c9d-9b81-889ca337da8d",
   "metadata": {},
   "outputs": [
    {
     "data": {
      "text/plain": [
       "{'A': '농업, 임업 및 어업(01~03)',\n",
       " 'B': '광업(05~08)',\n",
       " 'C': '제조업(10~34)',\n",
       " 'D': '전기, 가스, 증기 및 공기 조절 공급업(35)',\n",
       " 'E': '수도, 하수 및 폐기물 처리, 원료 재생업(36~39)',\n",
       " 'F': '건설업(41~42)',\n",
       " 'G': '도매 및 소매업(45~47)',\n",
       " 'H': '운수 및 창고업(49~52)',\n",
       " 'I': '숙박 및 음식점업(55~56)',\n",
       " 'J': '정보통신업(58~63)',\n",
       " 'K': '금융 및 보험업(64~66)',\n",
       " 'L': '부동산업(68)',\n",
       " 'M': '전문, 과학 및 기술 서비스업(70~73)',\n",
       " 'N': '사업시설 관리, 사업 지원 및 임대 서비스업(74~76)',\n",
       " 'O': '공공 행정, 국방 및 사회보장 행정(84)',\n",
       " 'P': '교육 서비스업(85)',\n",
       " 'Q': '보건업 및 사회복지 서비스업(86~87)',\n",
       " 'R': '예술, 스포츠 및 여가관련 서비스업(90~91)',\n",
       " 'S': '협회 및 단체, 수리 및 기타 개인 서비스업(94~96)',\n",
       " 'T': '가구 내 고용활동 및 달리 분류되지 않은 자가 소비 생산활동(97~98)',\n",
       " 'U': '국제 및 외국기관(99)'}"
      ]
     },
     "execution_count": 391,
     "metadata": {},
     "output_type": "execute_result"
    }
   ],
   "source": [
    "dict_big"
   ]
  },
  {
   "cell_type": "code",
   "execution_count": 41,
   "id": "0259bdcd-6774-400e-be1f-371f3c7977f9",
   "metadata": {},
   "outputs": [
    {
     "data": {
      "text/html": [
       "<div>\n",
       "<style scoped>\n",
       "    .dataframe tbody tr th:only-of-type {\n",
       "        vertical-align: middle;\n",
       "    }\n",
       "\n",
       "    .dataframe tbody tr th {\n",
       "        vertical-align: top;\n",
       "    }\n",
       "\n",
       "    .dataframe thead th {\n",
       "        text-align: right;\n",
       "    }\n",
       "</style>\n",
       "<table border=\"1\" class=\"dataframe\">\n",
       "  <thead>\n",
       "    <tr style=\"text-align: right;\">\n",
       "      <th></th>\n",
       "      <th>기준일자</th>\n",
       "      <th>cell_id</th>\n",
       "      <th>업종대분류</th>\n",
       "      <th>업종중분류</th>\n",
       "      <th>업종소분류</th>\n",
       "      <th>이용건수</th>\n",
       "      <th>이용건수_지역화폐</th>\n",
       "      <th>이용건수_재난지원금</th>\n",
       "      <th>이용건수_기타</th>\n",
       "      <th>이용금액</th>\n",
       "      <th>이용금액_지역화폐</th>\n",
       "      <th>이용금액_재난지원금</th>\n",
       "      <th>이용금액_기타</th>\n",
       "      <th>latitude</th>\n",
       "      <th>longitude</th>\n",
       "    </tr>\n",
       "  </thead>\n",
       "  <tbody>\n",
       "    <tr>\n",
       "      <th>1</th>\n",
       "      <td>20230701</td>\n",
       "      <td>다바88b09b</td>\n",
       "      <td>G</td>\n",
       "      <td>47.0</td>\n",
       "      <td>47212.0</td>\n",
       "      <td>8</td>\n",
       "      <td>1</td>\n",
       "      <td>0</td>\n",
       "      <td>7</td>\n",
       "      <td>1659200</td>\n",
       "      <td>207100</td>\n",
       "      <td>0</td>\n",
       "      <td>1452100</td>\n",
       "      <td>36.285486</td>\n",
       "      <td>127.369806</td>\n",
       "    </tr>\n",
       "    <tr>\n",
       "      <th>2</th>\n",
       "      <td>20230701</td>\n",
       "      <td>다바88b09b</td>\n",
       "      <td>G</td>\n",
       "      <td>47.0</td>\n",
       "      <td>47519.0</td>\n",
       "      <td>3</td>\n",
       "      <td>0</td>\n",
       "      <td>0</td>\n",
       "      <td>3</td>\n",
       "      <td>132000</td>\n",
       "      <td>0</td>\n",
       "      <td>0</td>\n",
       "      <td>132000</td>\n",
       "      <td>36.285486</td>\n",
       "      <td>127.369806</td>\n",
       "    </tr>\n",
       "    <tr>\n",
       "      <th>3</th>\n",
       "      <td>20230701</td>\n",
       "      <td>다바88b09b</td>\n",
       "      <td>G</td>\n",
       "      <td>47.0</td>\n",
       "      <td>47711.0</td>\n",
       "      <td>16</td>\n",
       "      <td>1</td>\n",
       "      <td>0</td>\n",
       "      <td>15</td>\n",
       "      <td>827338</td>\n",
       "      <td>70000</td>\n",
       "      <td>0</td>\n",
       "      <td>757338</td>\n",
       "      <td>36.285486</td>\n",
       "      <td>127.369806</td>\n",
       "    </tr>\n",
       "    <tr>\n",
       "      <th>4</th>\n",
       "      <td>20230701</td>\n",
       "      <td>다바88b09b</td>\n",
       "      <td>G</td>\n",
       "      <td>47.0</td>\n",
       "      <td>47712.0</td>\n",
       "      <td>11</td>\n",
       "      <td>1</td>\n",
       "      <td>0</td>\n",
       "      <td>10</td>\n",
       "      <td>312355</td>\n",
       "      <td>43983</td>\n",
       "      <td>0</td>\n",
       "      <td>268372</td>\n",
       "      <td>36.285486</td>\n",
       "      <td>127.369806</td>\n",
       "    </tr>\n",
       "    <tr>\n",
       "      <th>5</th>\n",
       "      <td>20230701</td>\n",
       "      <td>다바88b09b</td>\n",
       "      <td>I</td>\n",
       "      <td>56.0</td>\n",
       "      <td>56111.0</td>\n",
       "      <td>39</td>\n",
       "      <td>0</td>\n",
       "      <td>0</td>\n",
       "      <td>39</td>\n",
       "      <td>1421500</td>\n",
       "      <td>0</td>\n",
       "      <td>0</td>\n",
       "      <td>1421500</td>\n",
       "      <td>36.285486</td>\n",
       "      <td>127.369806</td>\n",
       "    </tr>\n",
       "    <tr>\n",
       "      <th>...</th>\n",
       "      <td>...</td>\n",
       "      <td>...</td>\n",
       "      <td>...</td>\n",
       "      <td>...</td>\n",
       "      <td>...</td>\n",
       "      <td>...</td>\n",
       "      <td>...</td>\n",
       "      <td>...</td>\n",
       "      <td>...</td>\n",
       "      <td>...</td>\n",
       "      <td>...</td>\n",
       "      <td>...</td>\n",
       "      <td>...</td>\n",
       "      <td>...</td>\n",
       "      <td>...</td>\n",
       "    </tr>\n",
       "    <tr>\n",
       "      <th>46293</th>\n",
       "      <td>20240630</td>\n",
       "      <td>다바95b11b</td>\n",
       "      <td>G</td>\n",
       "      <td>47.0</td>\n",
       "      <td>47513.0</td>\n",
       "      <td>1</td>\n",
       "      <td>0</td>\n",
       "      <td>0</td>\n",
       "      <td>1</td>\n",
       "      <td>5500</td>\n",
       "      <td>0</td>\n",
       "      <td>0</td>\n",
       "      <td>5500</td>\n",
       "      <td>36.303576</td>\n",
       "      <td>127.447743</td>\n",
       "    </tr>\n",
       "    <tr>\n",
       "      <th>46294</th>\n",
       "      <td>20240630</td>\n",
       "      <td>다바95b11b</td>\n",
       "      <td>G</td>\n",
       "      <td>47.0</td>\n",
       "      <td>47519.0</td>\n",
       "      <td>1</td>\n",
       "      <td>0</td>\n",
       "      <td>0</td>\n",
       "      <td>1</td>\n",
       "      <td>5000</td>\n",
       "      <td>0</td>\n",
       "      <td>0</td>\n",
       "      <td>5000</td>\n",
       "      <td>36.303576</td>\n",
       "      <td>127.447743</td>\n",
       "    </tr>\n",
       "    <tr>\n",
       "      <th>46295</th>\n",
       "      <td>20240630</td>\n",
       "      <td>다바95b11b</td>\n",
       "      <td>I</td>\n",
       "      <td>56.0</td>\n",
       "      <td>56111.0</td>\n",
       "      <td>21</td>\n",
       "      <td>0</td>\n",
       "      <td>0</td>\n",
       "      <td>21</td>\n",
       "      <td>626400</td>\n",
       "      <td>0</td>\n",
       "      <td>0</td>\n",
       "      <td>626400</td>\n",
       "      <td>36.303576</td>\n",
       "      <td>127.447743</td>\n",
       "    </tr>\n",
       "    <tr>\n",
       "      <th>46296</th>\n",
       "      <td>20240630</td>\n",
       "      <td>다바96a10b</td>\n",
       "      <td>I</td>\n",
       "      <td>56.0</td>\n",
       "      <td>56111.0</td>\n",
       "      <td>5</td>\n",
       "      <td>0</td>\n",
       "      <td>0</td>\n",
       "      <td>5</td>\n",
       "      <td>73600</td>\n",
       "      <td>0</td>\n",
       "      <td>0</td>\n",
       "      <td>73600</td>\n",
       "      <td>36.294563</td>\n",
       "      <td>127.453318</td>\n",
       "    </tr>\n",
       "    <tr>\n",
       "      <th>46300</th>\n",
       "      <td>20240630</td>\n",
       "      <td>다바96a11a</td>\n",
       "      <td>I</td>\n",
       "      <td>56.0</td>\n",
       "      <td>56111.0</td>\n",
       "      <td>22</td>\n",
       "      <td>2</td>\n",
       "      <td>0</td>\n",
       "      <td>20</td>\n",
       "      <td>695000</td>\n",
       "      <td>28000</td>\n",
       "      <td>0</td>\n",
       "      <td>667000</td>\n",
       "      <td>36.299070</td>\n",
       "      <td>127.453315</td>\n",
       "    </tr>\n",
       "  </tbody>\n",
       "</table>\n",
       "<p>389234 rows × 15 columns</p>\n",
       "</div>"
      ],
      "text/plain": [
       "           기준일자   cell_id 업종대분류  업종중분류    업종소분류  이용건수  이용건수_지역화폐  이용건수_재난지원금  \\\n",
       "1      20230701  다바88b09b     G   47.0  47212.0     8          1           0   \n",
       "2      20230701  다바88b09b     G   47.0  47519.0     3          0           0   \n",
       "3      20230701  다바88b09b     G   47.0  47711.0    16          1           0   \n",
       "4      20230701  다바88b09b     G   47.0  47712.0    11          1           0   \n",
       "5      20230701  다바88b09b     I   56.0  56111.0    39          0           0   \n",
       "...         ...       ...   ...    ...      ...   ...        ...         ...   \n",
       "46293  20240630  다바95b11b     G   47.0  47513.0     1          0           0   \n",
       "46294  20240630  다바95b11b     G   47.0  47519.0     1          0           0   \n",
       "46295  20240630  다바95b11b     I   56.0  56111.0    21          0           0   \n",
       "46296  20240630  다바96a10b     I   56.0  56111.0     5          0           0   \n",
       "46300  20240630  다바96a11a     I   56.0  56111.0    22          2           0   \n",
       "\n",
       "       이용건수_기타     이용금액  이용금액_지역화폐  이용금액_재난지원금  이용금액_기타   latitude   longitude  \n",
       "1            7  1659200     207100           0  1452100  36.285486  127.369806  \n",
       "2            3   132000          0           0   132000  36.285486  127.369806  \n",
       "3           15   827338      70000           0   757338  36.285486  127.369806  \n",
       "4           10   312355      43983           0   268372  36.285486  127.369806  \n",
       "5           39  1421500          0           0  1421500  36.285486  127.369806  \n",
       "...        ...      ...        ...         ...      ...        ...         ...  \n",
       "46293        1     5500          0           0     5500  36.303576  127.447743  \n",
       "46294        1     5000          0           0     5000  36.303576  127.447743  \n",
       "46295       21   626400          0           0   626400  36.303576  127.447743  \n",
       "46296        5    73600          0           0    73600  36.294563  127.453318  \n",
       "46300       20   695000      28000           0   667000  36.299070  127.453315  \n",
       "\n",
       "[389234 rows x 15 columns]"
      ]
     },
     "execution_count": 41,
     "metadata": {},
     "output_type": "execute_result"
    }
   ],
   "source": [
    "# *카드매출_가맹점 > 업종소분류*는 *업종대분류*의 문자가 맨 앞에 붙음\n",
    "# 이후 분석 시 문자형보다는 수치형이 좋기 때문에 *카드매출_가맹점 > 업종소분류* 맨앞에 붙어있는 알파벳을 제거\n",
    "\n",
    "import re\n",
    "def to_numeric(text):\n",
    "    numbers = re.findall(r'\\d+', text)\n",
    "    return numbers[0]\n",
    "\n",
    "data_biz['업종소분류'] = data_biz['업종소분류'].apply(to_numeric).astype(float)\n",
    "data_biz"
   ]
  },
  {
   "cell_type": "code",
   "execution_count": 49,
   "id": "a3c1b94f-6e29-4e5c-ae62-3876e2391d7a",
   "metadata": {},
   "outputs": [],
   "source": [
    "# *카드매출_가맹점*에 붙이기\n",
    "\n",
    "## 새로운 변수에 할당\n",
    "data_biz_cd = data_biz.copy()\n",
    "\n",
    "data_biz_cd['업종대분류_항목명'] = data_biz_cd['업종대분류'].map(dict_big)\n",
    "data_biz_cd['업종중분류_항목명'] = data_biz_cd['업종중분류'].map(dict_mid)\n",
    "data_biz_cd['업종소분류_항목명'] = data_biz_cd['업종소분류'].map(dict_small)\n",
    "\n",
    "## 컬럼 순서 변경\n",
    "data_biz_cd = data_biz_cd[['기준일자', 'cell_id', 'latitude', 'longitude', '업종대분류', '업종대분류_항목명', '업종중분류', '업종중분류_항목명', '업종소분류', '업종소분류_항목명',\n",
    "                       '이용건수', '이용건수_지역화폐', '이용건수_재난지원금', '이용건수_기타',\n",
    "                       '이용금액', '이용금액_지역화폐', '이용금액_재난지원금', '이용금액_기타']]"
   ]
  },
  {
   "cell_type": "markdown",
   "id": "354fb65b-36f3-4803-9933-11d34cec0a69",
   "metadata": {
    "jp-MarkdownHeadingCollapsed": true
   },
   "source": [
    "##### **결측치**"
   ]
  },
  {
   "cell_type": "code",
   "execution_count": 51,
   "id": "3d3afcf8-e400-41dc-83b8-fdd8db41639b",
   "metadata": {
    "scrolled": true
   },
   "outputs": [
    {
     "data": {
      "text/plain": [
       "업종대분류_항목명    0\n",
       "업종중분류_항목명    0\n",
       "업종소분류_항목명    0\n",
       "dtype: int64"
      ]
     },
     "execution_count": 51,
     "metadata": {},
     "output_type": "execute_result"
    }
   ],
   "source": [
    "# 업종분류명 붙인 후 결측치 확인\n",
    "data_biz_cd[['업종대분류_항목명', '업종중분류_항목명', '업종소분류_항목명']].isna().sum()"
   ]
  },
  {
   "cell_type": "markdown",
   "id": "dd7aea25-d52c-4d8b-b62b-f88a975a1723",
   "metadata": {},
   "source": [
    "- 결측치 없음"
   ]
  },
  {
   "cell_type": "markdown",
   "id": "a5a94075-5213-42a1-925a-780e54e6c042",
   "metadata": {
    "jp-MarkdownHeadingCollapsed": true
   },
   "source": [
    "### (3) 전처리 완료 데이터 저장"
   ]
  },
  {
   "cell_type": "code",
   "execution_count": 54,
   "id": "ca54d44e-b1cf-43b4-9376-b5a9c511b387",
   "metadata": {},
   "outputs": [],
   "source": [
    "# 이후 카드매출_가맹점은 '카드매출(가맹점)_전처리_완료.csv' 데이터를 새로 불러와서 사용\n",
    "data_biz_cd.to_csv(os.path.join(path, '카드매출(가맹점)_전처리_완료.csv'), index = False, encoding = 'cp949')"
   ]
  },
  {
   "cell_type": "markdown",
   "id": "596188f7-5168-4278-b7fe-5776fe2c7aaf",
   "metadata": {
    "jp-MarkdownHeadingCollapsed": true
   },
   "source": [
    "## 1-3 카드매출 (유입고객)"
   ]
  },
  {
   "cell_type": "code",
   "execution_count": 304,
   "id": "2223c78a-7a31-41c9-aade-f7065fba14dd",
   "metadata": {
    "scrolled": true
   },
   "outputs": [
    {
     "name": "stdout",
     "output_type": "stream",
     "text": [
      "<class 'pandas.core.frame.DataFrame'>\n",
      "Index: 4849230 entries, 0 to 395655\n",
      "Data columns (total 25 columns):\n",
      " #   Column      Dtype  \n",
      "---  ------      -----  \n",
      " 0   기준년월        int64  \n",
      " 1   광역시_상권      int64  \n",
      " 2   시군구_상권      int64  \n",
      " 3   행정동_상권      float64\n",
      " 4   업종대분류       object \n",
      " 5   업종중분류       float64\n",
      " 6   업종소분류       object \n",
      " 7   업력          object \n",
      " 8   광역시_유입      float64\n",
      " 9   시군구_유입      float64\n",
      " 10  구분_휴일평일     int64  \n",
      " 11  구분_시간대      int64  \n",
      " 12  구분_개인법인     int64  \n",
      " 13  연령          float64\n",
      " 14  성별          object \n",
      " 15  추정소득구간      float64\n",
      " 16  신용등급구간      float64\n",
      " 17  이용건수        int64  \n",
      " 18  이용건수_지역화폐   float64\n",
      " 19  이용건수_재난지원금  float64\n",
      " 20  이용건수_기타     float64\n",
      " 21  이용금액        int64  \n",
      " 22  이용금액_지역화폐   int64  \n",
      " 23  이용금액_재난지원금  int64  \n",
      " 24  이용금액_기타     int64  \n",
      "dtypes: float64(10), int64(11), object(4)\n",
      "memory usage: 961.9+ MB\n"
     ]
    }
   ],
   "source": [
    "# 데이터 기본 정보 확인\n",
    "data_cus.info()"
   ]
  },
  {
   "cell_type": "code",
   "execution_count": 306,
   "id": "3f2f72b0-1294-4490-9617-b05aa0c2e438",
   "metadata": {},
   "outputs": [
    {
     "data": {
      "text/plain": [
       "기준년월                0\n",
       "광역시_상권              0\n",
       "시군구_상권              0\n",
       "행정동_상권         306956\n",
       "업종대분류            1016\n",
       "업종중분류          307965\n",
       "업종소분류          307965\n",
       "업력             306956\n",
       "광역시_유입          73832\n",
       "시군구_유입         289597\n",
       "구분_휴일평일             0\n",
       "구분_시간대              0\n",
       "구분_개인법인             0\n",
       "연령             204960\n",
       "성별             204575\n",
       "추정소득구간         215765\n",
       "신용등급구간         215765\n",
       "이용건수                0\n",
       "이용건수_지역화폐     4162655\n",
       "이용건수_재난지원금    4849230\n",
       "이용건수_기타        286521\n",
       "이용금액                0\n",
       "이용금액_지역화폐           0\n",
       "이용금액_재난지원금          0\n",
       "이용금액_기타             0\n",
       "dtype: int64"
      ]
     },
     "execution_count": 306,
     "metadata": {},
     "output_type": "execute_result"
    }
   ],
   "source": [
    "# 데이터 결측치 확인\n",
    "data_cus.isna().sum()"
   ]
  },
  {
   "cell_type": "markdown",
   "id": "ca16162e-02bb-400e-88da-a364e3609bc1",
   "metadata": {
    "jp-MarkdownHeadingCollapsed": true
   },
   "source": [
    "### (1) 시군구_상권, 광역시_상권 : drop"
   ]
  },
  {
   "cell_type": "code",
   "execution_count": 308,
   "id": "72a43676-88d2-43cc-b385-b31aa9544ebe",
   "metadata": {},
   "outputs": [
    {
     "name": "stdout",
     "output_type": "stream",
     "text": [
      "[30140]\n",
      "[30]\n"
     ]
    }
   ],
   "source": [
    "# 시군구 상권 데이터 종류\n",
    "print(data_cus.시군구_상권.unique())\n",
    "print(data_cus.광역시_상권.unique())"
   ]
  },
  {
   "cell_type": "markdown",
   "id": "ae064ab2-cca7-4f29-aa0e-a21d18c591a4",
   "metadata": {},
   "source": [
    "- 데이터가 각각 30140과 30, 대전 중구와 대전광역시 하나씩 밖에 없기 때문에 해당 컬럼들은 drop해도 됨"
   ]
  },
  {
   "cell_type": "code",
   "execution_count": 311,
   "id": "1cabff00-b4da-4a79-8969-f1e3f320f7b3",
   "metadata": {},
   "outputs": [],
   "source": [
    "# drop\n",
    "data_cus.drop(['시군구_상권', '광역시_상권'], axis=1, inplace=True)"
   ]
  },
  {
   "cell_type": "markdown",
   "id": "7aff776c-2fd3-4763-a5c9-c2e705dbb427",
   "metadata": {
    "jp-MarkdownHeadingCollapsed": true
   },
   "source": [
    "### (2) 업종대분류, 업종중분류, 업종소분류"
   ]
  },
  {
   "cell_type": "markdown",
   "id": "39ccd07b-b1d1-4fb1-a7b6-ae61da1e4c14",
   "metadata": {},
   "source": [
    "#### ① 결측치 : drop"
   ]
  },
  {
   "cell_type": "code",
   "execution_count": 313,
   "id": "bc89af79-8179-4691-b7a2-58ac03aa0b64",
   "metadata": {},
   "outputs": [
    {
     "data": {
      "text/plain": [
       "True"
      ]
     },
     "execution_count": 313,
     "metadata": {},
     "output_type": "execute_result"
    }
   ],
   "source": [
    "# 업종대분류가 결측치일 때, 업종중분류, 업종소분류도 모두 결측치인지\n",
    "data_cus[data_cus.업종대분류.isna()]['업종중분류'].isna().sum() == data_cus[data_cus.업종대분류.isna()].shape[0]"
   ]
  },
  {
   "cell_type": "code",
   "execution_count": 314,
   "id": "6925ec73-db4a-45da-91a1-1e38a0ef37d8",
   "metadata": {},
   "outputs": [
    {
     "data": {
      "text/plain": [
       "True"
      ]
     },
     "execution_count": 314,
     "metadata": {},
     "output_type": "execute_result"
    }
   ],
   "source": [
    "# 업종중분류가 결측치일 때, 업종소분류도 결측치인지 (반대의 경우도)\n",
    "data_cus[data_cus.업종중분류.isna()].equals(data_cus[data_cus.업종소분류.isna()])"
   ]
  },
  {
   "cell_type": "code",
   "execution_count": 316,
   "id": "7924b060-5900-4152-bed9-bfe50b3e836c",
   "metadata": {},
   "outputs": [
    {
     "data": {
      "text/plain": [
       "True"
      ]
     },
     "execution_count": 316,
     "metadata": {},
     "output_type": "execute_result"
    }
   ],
   "source": [
    "# *행정동_상권*이 결측치일 때, *업종소분류*도 무조건 결측치인지 확인\n",
    "data_cus[data_cus.업종소분류.isna()]['행정동_상권'].isna().sum() == data_cus[data_cus.행정동_상권.isna()].shape[0]"
   ]
  },
  {
   "cell_type": "code",
   "execution_count": 317,
   "id": "b53e0d51-6a36-41c3-b2de-131daefbbb38",
   "metadata": {},
   "outputs": [
    {
     "data": {
      "text/plain": [
       "True"
      ]
     },
     "execution_count": 317,
     "metadata": {},
     "output_type": "execute_result"
    }
   ],
   "source": [
    "# 결측치 개수가 똑같았던 *업력*의 결측치 데이터와 일치하는지 비교\n",
    "data_cus[data_cus.행정동_상권.isna()].equals(data_cus[data_cus['업력'].isna()])"
   ]
  },
  {
   "cell_type": "markdown",
   "id": "cf3f0766-0add-421a-b875-b76d7a5877c0",
   "metadata": {},
   "source": [
    "**결측치 개수가 동일한 컬럼**\n",
    "- 업종중분류 & 업종소분류\n",
    "- 행정동_상권 & 업력\n",
    "\n",
    "</br>\n",
    "\n",
    "**결측치 데이터 간의 관계**\n",
    "- 업종대분류가 결측치일 때, 업종중분류 & 업종소분류도 모두 결측치  \n",
    "  → 업종중분류/업종소분류 결측치 ⊃ 업종대분류 결측치\n",
    "- 행정동_상권 & 업력이 결측치일 때, 업종중분류 & 업종소분류도 모두 결측치  \n",
    "  → 업종중분류/업종소분류 결측치 ⊃ 행정동_상권 & 업력 결측치\n",
    "  \n",
    "- 정리하면 업종중분류/업종소분류 결측치 ⊃ 업종대분류 결측치, 행정동_상권 & 업력 결측치\n",
    "- 따라서 **업종중분류의 결측치 (=업종소분류의 결측치)만 지우면 관련 결측치가 한꺼번에 없어짐**"
   ]
  },
  {
   "cell_type": "markdown",
   "id": "82340b3a-94e9-452b-8e97-27b715cef92c",
   "metadata": {},
   "source": [
    "***카드매출_유입고객*을 통해서 업종소분류를 파악하는 것이 중요하기 때문에 업종소분류가 결측치인 데이터는 모두 제외**"
   ]
  },
  {
   "cell_type": "code",
   "execution_count": 321,
   "id": "c065069d-4775-4244-a073-7eec42aa074b",
   "metadata": {},
   "outputs": [],
   "source": [
    "# 업종중분류 결측치 (=업종소분류 결측치) 삭제\n",
    "data_cus = data_cus[data_cus['업종중분류'].isna() == False]"
   ]
  },
  {
   "cell_type": "markdown",
   "id": "6d0e702c-84fb-42f5-ad4d-1b79a8d2340f",
   "metadata": {
    "jp-MarkdownHeadingCollapsed": true
   },
   "source": [
    "#### ② 업종분류명 컬럼 추가\n",
    "- *카드매출_가맹점*과 같은 방법으로 외부 데이터인 통계청 한국표준산업분류10차(한국표준산업분류10차_표.xlsx) 활용"
   ]
  },
  {
   "cell_type": "code",
   "execution_count": 323,
   "id": "5ad7dda7-aef7-4dbb-bf8e-ade0be1c880d",
   "metadata": {},
   "outputs": [
    {
     "data": {
      "text/html": [
       "<div>\n",
       "<style scoped>\n",
       "    .dataframe tbody tr th:only-of-type {\n",
       "        vertical-align: middle;\n",
       "    }\n",
       "\n",
       "    .dataframe tbody tr th {\n",
       "        vertical-align: top;\n",
       "    }\n",
       "\n",
       "    .dataframe thead th {\n",
       "        text-align: right;\n",
       "    }\n",
       "</style>\n",
       "<table border=\"1\" class=\"dataframe\">\n",
       "  <thead>\n",
       "    <tr style=\"text-align: right;\">\n",
       "      <th></th>\n",
       "      <th>기준년월</th>\n",
       "      <th>행정동_상권</th>\n",
       "      <th>업종대분류</th>\n",
       "      <th>업종중분류</th>\n",
       "      <th>업종소분류</th>\n",
       "      <th>업력</th>\n",
       "      <th>광역시_유입</th>\n",
       "      <th>시군구_유입</th>\n",
       "      <th>구분_휴일평일</th>\n",
       "      <th>구분_시간대</th>\n",
       "      <th>...</th>\n",
       "      <th>추정소득구간</th>\n",
       "      <th>신용등급구간</th>\n",
       "      <th>이용건수</th>\n",
       "      <th>이용건수_지역화폐</th>\n",
       "      <th>이용건수_재난지원금</th>\n",
       "      <th>이용건수_기타</th>\n",
       "      <th>이용금액</th>\n",
       "      <th>이용금액_지역화폐</th>\n",
       "      <th>이용금액_재난지원금</th>\n",
       "      <th>이용금액_기타</th>\n",
       "    </tr>\n",
       "  </thead>\n",
       "  <tbody>\n",
       "    <tr>\n",
       "      <th>24774</th>\n",
       "      <td>202307</td>\n",
       "      <td>30140535.0</td>\n",
       "      <td>C</td>\n",
       "      <td>14.0</td>\n",
       "      <td>14191.0</td>\n",
       "      <td>10년이하</td>\n",
       "      <td>NaN</td>\n",
       "      <td>NaN</td>\n",
       "      <td>1</td>\n",
       "      <td>3</td>\n",
       "      <td>...</td>\n",
       "      <td>9.0</td>\n",
       "      <td>9.0</td>\n",
       "      <td>1</td>\n",
       "      <td>NaN</td>\n",
       "      <td>NaN</td>\n",
       "      <td>1.0</td>\n",
       "      <td>49000</td>\n",
       "      <td>0</td>\n",
       "      <td>0</td>\n",
       "      <td>49000</td>\n",
       "    </tr>\n",
       "    <tr>\n",
       "      <th>24775</th>\n",
       "      <td>202307</td>\n",
       "      <td>30140535.0</td>\n",
       "      <td>C</td>\n",
       "      <td>14.0</td>\n",
       "      <td>14191.0</td>\n",
       "      <td>10년이하</td>\n",
       "      <td>NaN</td>\n",
       "      <td>NaN</td>\n",
       "      <td>2</td>\n",
       "      <td>2</td>\n",
       "      <td>...</td>\n",
       "      <td>9.0</td>\n",
       "      <td>9.0</td>\n",
       "      <td>1</td>\n",
       "      <td>NaN</td>\n",
       "      <td>NaN</td>\n",
       "      <td>1.0</td>\n",
       "      <td>147000</td>\n",
       "      <td>0</td>\n",
       "      <td>0</td>\n",
       "      <td>147000</td>\n",
       "    </tr>\n",
       "    <tr>\n",
       "      <th>24776</th>\n",
       "      <td>202307</td>\n",
       "      <td>30140535.0</td>\n",
       "      <td>C</td>\n",
       "      <td>14.0</td>\n",
       "      <td>14191.0</td>\n",
       "      <td>10년이하</td>\n",
       "      <td>11.0</td>\n",
       "      <td>NaN</td>\n",
       "      <td>1</td>\n",
       "      <td>4</td>\n",
       "      <td>...</td>\n",
       "      <td>NaN</td>\n",
       "      <td>NaN</td>\n",
       "      <td>1</td>\n",
       "      <td>NaN</td>\n",
       "      <td>NaN</td>\n",
       "      <td>1.0</td>\n",
       "      <td>34300</td>\n",
       "      <td>0</td>\n",
       "      <td>0</td>\n",
       "      <td>34300</td>\n",
       "    </tr>\n",
       "    <tr>\n",
       "      <th>24777</th>\n",
       "      <td>202307</td>\n",
       "      <td>30140535.0</td>\n",
       "      <td>C</td>\n",
       "      <td>14.0</td>\n",
       "      <td>14191.0</td>\n",
       "      <td>10년이하</td>\n",
       "      <td>11.0</td>\n",
       "      <td>NaN</td>\n",
       "      <td>2</td>\n",
       "      <td>4</td>\n",
       "      <td>...</td>\n",
       "      <td>NaN</td>\n",
       "      <td>NaN</td>\n",
       "      <td>1</td>\n",
       "      <td>NaN</td>\n",
       "      <td>NaN</td>\n",
       "      <td>1.0</td>\n",
       "      <td>36000</td>\n",
       "      <td>0</td>\n",
       "      <td>0</td>\n",
       "      <td>36000</td>\n",
       "    </tr>\n",
       "    <tr>\n",
       "      <th>24778</th>\n",
       "      <td>202307</td>\n",
       "      <td>30140535.0</td>\n",
       "      <td>C</td>\n",
       "      <td>14.0</td>\n",
       "      <td>14191.0</td>\n",
       "      <td>10년이하</td>\n",
       "      <td>11.0</td>\n",
       "      <td>11170.0</td>\n",
       "      <td>1</td>\n",
       "      <td>4</td>\n",
       "      <td>...</td>\n",
       "      <td>3.0</td>\n",
       "      <td>2.0</td>\n",
       "      <td>1</td>\n",
       "      <td>NaN</td>\n",
       "      <td>NaN</td>\n",
       "      <td>1.0</td>\n",
       "      <td>17000</td>\n",
       "      <td>0</td>\n",
       "      <td>0</td>\n",
       "      <td>17000</td>\n",
       "    </tr>\n",
       "  </tbody>\n",
       "</table>\n",
       "<p>5 rows × 23 columns</p>\n",
       "</div>"
      ],
      "text/plain": [
       "         기준년월      행정동_상권 업종대분류  업종중분류    업종소분류     업력  광역시_유입   시군구_유입  \\\n",
       "24774  202307  30140535.0     C   14.0  14191.0  10년이하     NaN      NaN   \n",
       "24775  202307  30140535.0     C   14.0  14191.0  10년이하     NaN      NaN   \n",
       "24776  202307  30140535.0     C   14.0  14191.0  10년이하    11.0      NaN   \n",
       "24777  202307  30140535.0     C   14.0  14191.0  10년이하    11.0      NaN   \n",
       "24778  202307  30140535.0     C   14.0  14191.0  10년이하    11.0  11170.0   \n",
       "\n",
       "       구분_휴일평일  구분_시간대  ...  추정소득구간  신용등급구간 이용건수  이용건수_지역화폐  이용건수_재난지원금  \\\n",
       "24774        1       3  ...     9.0     9.0    1        NaN         NaN   \n",
       "24775        2       2  ...     9.0     9.0    1        NaN         NaN   \n",
       "24776        1       4  ...     NaN     NaN    1        NaN         NaN   \n",
       "24777        2       4  ...     NaN     NaN    1        NaN         NaN   \n",
       "24778        1       4  ...     3.0     2.0    1        NaN         NaN   \n",
       "\n",
       "       이용건수_기타    이용금액  이용금액_지역화폐  이용금액_재난지원금  이용금액_기타  \n",
       "24774      1.0   49000          0           0    49000  \n",
       "24775      1.0  147000          0           0   147000  \n",
       "24776      1.0   34300          0           0    34300  \n",
       "24777      1.0   36000          0           0    36000  \n",
       "24778      1.0   17000          0           0    17000  \n",
       "\n",
       "[5 rows x 23 columns]"
      ]
     },
     "execution_count": 323,
     "metadata": {},
     "output_type": "execute_result"
    }
   ],
   "source": [
    "# *카드매출_유입고객 > 업종소분류*는 *업종대분류*의 문자가 맨 앞에 붙음\n",
    "# 이후 분석 시 문자형보다는 수치형이 좋기 때문에 *카드매출_유입고객 > 업종소분류* 맨앞에 붙어있는 알파벳을 제거\n",
    "\n",
    "import re\n",
    "def to_numeric(text):\n",
    "    numbers = re.findall(r'\\d+', text)\n",
    "    return numbers[0]\n",
    "\n",
    "data_cus['업종소분류'] = data_cus['업종소분류'].apply(to_numeric).astype(float)\n",
    "data_cus.head()"
   ]
  },
  {
   "cell_type": "code",
   "execution_count": 326,
   "id": "ee767924-0cc5-4931-bae1-3f819bdeb84b",
   "metadata": {},
   "outputs": [],
   "source": [
    "# 업종분류명 컬럼 추가\n",
    "\n",
    "## 앞서 *카드매출_가맹점*에서 사용한 맵핑 딕셔너리 활용\n",
    "## 사본 생성 \n",
    "data_cus_cd = data_cus.copy()\n",
    "data_cus_cd['업종대분류_항목명'] = data_cus_cd['업종대분류'].map(dict_big)\n",
    "data_cus_cd['업종중분류_항목명'] = data_cus_cd['업종중분류'].map(dict_mid)\n",
    "data_cus_cd['업종소분류_항목명'] = data_cus_cd['업종소분류'].map(dict_small)"
   ]
  },
  {
   "cell_type": "code",
   "execution_count": 327,
   "id": "b137340f-9c15-411d-9be6-7373920e405e",
   "metadata": {},
   "outputs": [
    {
     "name": "stdout",
     "output_type": "stream",
     "text": [
      "업종대분류_항목명    0\n",
      "업종중분류_항목명    0\n",
      "업종소분류_항목명    0\n",
      "dtype: int64\n",
      "[]\n"
     ]
    }
   ],
   "source": [
    "# 결측치 확인\n",
    "print(data_cus_cd[['업종대분류_항목명', '업종중분류_항목명', '업종소분류_항목명']].isna().sum())\n",
    "print(data_cus_cd[data_cus_cd['업종소분류_항목명'].isna() == True]['업종중분류_항목명'].unique())"
   ]
  },
  {
   "cell_type": "markdown",
   "id": "bc36bb29-c2b0-46e0-b7b9-abef61052f15",
   "metadata": {
    "jp-MarkdownHeadingCollapsed": true
   },
   "source": [
    "### (3) 행정동_상권 : 행정동명 컬럼 추가"
   ]
  },
  {
   "cell_type": "code",
   "execution_count": 330,
   "id": "0870fb76-c576-4e11-baef-a9c11af60187",
   "metadata": {},
   "outputs": [],
   "source": [
    "# 맵핑할 리스트 생성\n",
    "list_code_num = data_cus_cd['행정동_상권'].unique().tolist()\n",
    "list_name = []\n",
    "\n",
    "# 행정동 코드 str 타입으로 변환\n",
    "data_admin['행정동코드'] = data_admin['행정동코드'].astype('str')\n",
    "\n",
    "for i in data_cus_cd['행정동_상권'].unique().astype('str').tolist():\n",
    "  list_name.append(data_admin[data_admin['행정동코드'].str.contains(i)].iloc[0]['읍면동명'])\n",
    "\n",
    "# 딕셔너리 생성\n",
    "cus_admin_cd = dict(zip(list_code_num, list_name))\n",
    "\n",
    "# 컬럼 붙이기\n",
    "data_cus_cd['행정동명'] = data_cus_cd['행정동_상권'].map(cus_admin_cd)"
   ]
  },
  {
   "cell_type": "markdown",
   "id": "abff56c9-e411-44d7-bcd1-82f59e0508be",
   "metadata": {
    "jp-MarkdownHeadingCollapsed": true
   },
   "source": [
    "### (4) 시군구_유입, 추정소득구간, 신용등급구간 : 결측치 drop\n",
    "- 해당 변수들은 결측치를 보간할 방법이 따로 없음\r",
    "- 이후 분석의 용이성을 위해 결측치는 모두 제외"
   ]
  },
  {
   "cell_type": "code",
   "execution_count": 332,
   "id": "b822abbd-3711-4c3f-9860-c78642c42fc9",
   "metadata": {},
   "outputs": [
    {
     "data": {
      "text/plain": [
       "시군구_유입    266422\n",
       "추정소득구간    194508\n",
       "신용등급구간    194508\n",
       "dtype: int64"
      ]
     },
     "execution_count": 332,
     "metadata": {},
     "output_type": "execute_result"
    }
   ],
   "source": [
    "# 결측치 확인\n",
    "data_cus_cd[['시군구_유입', '추정소득구간', '신용등급구간']].isna().sum()"
   ]
  },
  {
   "cell_type": "code",
   "execution_count": 334,
   "id": "5e7883f3-ede2-4796-8dc1-21a0ff08a6d1",
   "metadata": {},
   "outputs": [
    {
     "name": "stdout",
     "output_type": "stream",
     "text": [
      "시군구_유입이 결측일 때, 추정소득구간도 결측인가 : True\n",
      "추정소득구간 결측치와 신용등급구간 결측치가 일치하는가 : True\n"
     ]
    }
   ],
   "source": [
    "# 시군구_유입이 결측일 때, 추정소득구간 & 신용등급구간도 결측인지\n",
    "print(f'시군구_유입이 결측일 때, 추정소득구간도 결측인가 : {data_cus_cd[data_cus_cd['시군구_유입'].isna()]['추정소득구간'].isna().sum() == data_cus_cd['추정소득구간'].isna().sum()}')\n",
    "print(f'추정소득구간 결측치와 신용등급구간 결측치가 일치하는가 : {data_cus_cd['추정소득구간'].isna().sum() == data_cus_cd['신용등급구간'].isna().sum()}')"
   ]
  },
  {
   "cell_type": "code",
   "execution_count": 336,
   "id": "71e43ae5-a509-433e-a1b3-1342b9aaed5b",
   "metadata": {},
   "outputs": [],
   "source": [
    "# 결측치 drop \n",
    "data_cus_cd = data_cus_cd[data_cus_cd['시군구_유입'].isna() == False]"
   ]
  },
  {
   "cell_type": "markdown",
   "id": "cf7525f5-3428-4181-a765-6501c3ae1560",
   "metadata": {
    "jp-MarkdownHeadingCollapsed": true
   },
   "source": [
    "### (5) 연령, 성별 : 결측치 drop\n",
    "- 해당 변수들 역시 결측치를 보간할 방법이 따로 없음\n",
    "- 이후 분석에서 연령과 성별을 파악하는 것이 중요하기 때문에 결측치인 데이터는 모두 제외"
   ]
  },
  {
   "cell_type": "code",
   "execution_count": 338,
   "id": "43222c46-2354-4922-81e7-3475897034b0",
   "metadata": {},
   "outputs": [
    {
     "data": {
      "text/plain": [
       "연령    117208\n",
       "성별    117208\n",
       "dtype: int64"
      ]
     },
     "execution_count": 338,
     "metadata": {},
     "output_type": "execute_result"
    }
   ],
   "source": [
    "# 결측치 확인\n",
    "data_cus_cd[['연령', '성별']].isna().sum()"
   ]
  },
  {
   "cell_type": "code",
   "execution_count": 340,
   "id": "80d85738-67ff-4037-960f-a83a1f9b5fe8",
   "metadata": {},
   "outputs": [],
   "source": [
    "# 결측치 없애기\n",
    "data_cus_cd = data_cus_cd[(data_cus_cd['연령'].isna() == False) & (data_cus_cd['성별'].isna() == False)]"
   ]
  },
  {
   "cell_type": "markdown",
   "id": "029ef189-0bef-4739-bf5f-ff57d99c4b75",
   "metadata": {
    "jp-MarkdownHeadingCollapsed": true
   },
   "source": [
    "### (6) 이용건수\n",
    "- 이용건수, 이용건수_지역화폐, 이용건수_재난지원금, 이용건수_기타"
   ]
  },
  {
   "cell_type": "markdown",
   "id": "0a13887b-ea63-4b34-be22-10040af38210",
   "metadata": {},
   "source": [
    "#### ① 이용건수_지역화폐, 이용건수_재난지원금, 이용건수_기타 : 결측치 0으로 채우기"
   ]
  },
  {
   "cell_type": "markdown",
   "id": "e0a329ac-21ff-4bcc-8554-036d9908a61b",
   "metadata": {},
   "source": [
    "- 결측치를 0으로 채웠을 때 다음과 같은 등식이 성립하는 지 확인  \n",
    "→ **이용건수 = 이용건수_지역화폐 + 이용건수_재난지원금 + 이용건수_기타**"
   ]
  },
  {
   "cell_type": "code",
   "execution_count": 342,
   "id": "8c7bf26e-6635-4a49-99c0-1b57f642c439",
   "metadata": {},
   "outputs": [
    {
     "data": {
      "text/plain": [
       "0"
      ]
     },
     "execution_count": 342,
     "metadata": {},
     "output_type": "execute_result"
    }
   ],
   "source": [
    "dcd = data_cus_cd.copy()\n",
    "dcd[['이용건수_지역화폐', '이용건수_재난지원금', '이용건수_기타']] = dcd[['이용건수_지역화폐', '이용건수_재난지원금', '이용건수_기타']].fillna(0)\n",
    "sum((dcd['이용건수'] == dcd['이용건수_지역화폐'] + dcd['이용건수_재난지원금'] + dcd['이용건수_기타']) == False)"
   ]
  },
  {
   "cell_type": "markdown",
   "id": "6061667b-3fee-4b31-a8c9-428a158ed134",
   "metadata": {},
   "source": [
    "- 즉, *이용건수_지역화폐, 이용건수_재난지원금, 이용건수_기타* 의 결측치는 0으로 채워야 함"
   ]
  },
  {
   "cell_type": "code",
   "execution_count": 344,
   "id": "df294908-c95d-4334-8d0a-eb29bb45cfc3",
   "metadata": {},
   "outputs": [],
   "source": [
    "data_cus_cd[['이용건수_지역화폐', '이용건수_재난지원금', '이용건수_기타']] = data_cus_cd[['이용건수_지역화폐', '이용건수_재난지원금', '이용건수_기타']].fillna(0)"
   ]
  },
  {
   "cell_type": "markdown",
   "id": "101a8878-feb8-42e9-abaa-996993de6a5b",
   "metadata": {},
   "source": [
    "#### ② 이용건수_재난지원금 : drop\n",
    "- 모든 행이 결측치이므로 컬럼 자체를 삭재"
   ]
  },
  {
   "cell_type": "code",
   "execution_count": 346,
   "id": "a1a633f7-0d37-44c2-8280-7abdca455aa7",
   "metadata": {},
   "outputs": [
    {
     "data": {
      "text/plain": [
       "True"
      ]
     },
     "execution_count": 346,
     "metadata": {},
     "output_type": "execute_result"
    }
   ],
   "source": [
    "# 이용건수_재난지원금 == 0인 값과 카드매출_유입고객 데이터의 길이가 같은지 확인\n",
    "# 즉, 모든 행이 0인지 확인\n",
    "sum((data_cus_cd['이용건수_재난지원금']==0) == True) == data_cus_cd.shape[0]"
   ]
  },
  {
   "cell_type": "code",
   "execution_count": 348,
   "id": "9ca9dcde-136f-4de4-9a1c-64f795cb2450",
   "metadata": {},
   "outputs": [],
   "source": [
    "# 핻 삭제\n",
    "data_cus_cd.drop('이용건수_재난지원금', axis=1, inplace=True)"
   ]
  },
  {
   "cell_type": "code",
   "execution_count": 349,
   "id": "f3f1ba1d-0d93-4677-a676-2219068a015c",
   "metadata": {},
   "outputs": [
    {
     "data": {
      "text/plain": [
       "기준년월          0\n",
       "행정동_상권        0\n",
       "업종대분류         0\n",
       "업종중분류         0\n",
       "업종소분류         0\n",
       "업력            0\n",
       "광역시_유입        0\n",
       "시군구_유입        0\n",
       "구분_휴일평일       0\n",
       "구분_시간대        0\n",
       "구분_개인법인       0\n",
       "연령            0\n",
       "성별            0\n",
       "추정소득구간        0\n",
       "신용등급구간        0\n",
       "이용건수          0\n",
       "이용건수_지역화폐     0\n",
       "이용건수_기타       0\n",
       "이용금액          0\n",
       "이용금액_지역화폐     0\n",
       "이용금액_재난지원금    0\n",
       "이용금액_기타       0\n",
       "업종대분류_항목명     0\n",
       "업종중분류_항목명     0\n",
       "업종소분류_항목명     0\n",
       "행정동명          0\n",
       "dtype: int64"
      ]
     },
     "execution_count": 349,
     "metadata": {},
     "output_type": "execute_result"
    }
   ],
   "source": [
    "data_cus_cd.isna().sum()"
   ]
  },
  {
   "cell_type": "code",
   "execution_count": 356,
   "id": "1ceaf87a-344f-46b9-b2b7-72f429a3dff5",
   "metadata": {},
   "outputs": [],
   "source": [
    "# 컬럼 순서 변경\n",
    "data_cus_cd = data_cus_cd[['기준년월', '행정동_상권', '행정동명', \n",
    "                           '업종대분류', '업종대분류_항목명', '업종중분류', '업종중분류_항목명', '업종소분류', '업종소분류_항목명', \n",
    "                           '업력', '광역시_유입', '시군구_유입', '구분_휴일평일', '구분_시간대', '구분_개인법인', '연령', '성별', '추정소득구간', '신용등급구간', \n",
    "                           '이용건수','이용건수_기타', '이용건수_지역화폐', '이용금액', '이용금액_기타','이용금액_지역화폐']]"
   ]
  },
  {
   "cell_type": "markdown",
   "id": "7f80425b-6c05-4322-8236-47de0ae46d9a",
   "metadata": {
    "jp-MarkdownHeadingCollapsed": true
   },
   "source": [
    "### (7) 전처리 완료 데이터 저장"
   ]
  },
  {
   "cell_type": "code",
   "execution_count": 358,
   "id": "f5338574-f2b3-4880-9878-c1ffc1904332",
   "metadata": {},
   "outputs": [],
   "source": [
    "# 이후 카드매출_유입고객 데이터는 '카드매출(유입고객)_전처리_완료.csv'를 사용\n",
    "data_cus_cd.to_csv(os.path.join(path, '카드매출(유입고객)_전처리_완료.csv'), index=False, encoding = 'cp949')"
   ]
  },
  {
   "cell_type": "markdown",
   "id": "343d13d0-a4a4-4609-968b-79f1c637d6ea",
   "metadata": {},
   "source": [
    "# 2 이동경로 분석"
   ]
  },
  {
   "cell_type": "code",
   "execution_count": 5,
   "id": "6da49052-ab97-41a9-a97a-29391e7f3cf9",
   "metadata": {},
   "outputs": [],
   "source": [
    "# 전처리 완료된 유동인구 데이터 불러오기\n",
    "data = pd.read_csv(os.path.join(path, '유동인구_전처리_완료.csv'), encoding='cp949')"
   ]
  },
  {
   "cell_type": "markdown",
   "id": "1a83febb-fefd-408b-8e2d-16bf3e27968e",
   "metadata": {
    "jp-MarkdownHeadingCollapsed": true
   },
   "source": [
    "## 2-1 성심당 위치 파악\n",
    "- *유동인구_전처리_완료* 데이터 중 위치를 나타내는 *id, latitude, longitude*만 불러오기\n",
    "- *유동인구_전처리_완료 > latitude, longitude* 중 성심당 위도, 경도 ± 50m 반경에 있는 좌표 찾기\n",
    "- 성심당 위도, 경도 중심점으로 잡아서 가장 가까운 *latitude, longitude* 값 추출"
   ]
  },
  {
   "cell_type": "code",
   "execution_count": 7,
   "id": "3735b549-c88e-4444-bf14-9c1ae961811b",
   "metadata": {},
   "outputs": [],
   "source": [
    "# 구글맵 기준 성심당의 좌표를 기준으로 변수 설정\n",
    "sungsimdang_lat = 36.32765 # 성심당의 위도\n",
    "sungsimdang_lon = 127.4273  # 성심당의 경도\n",
    "\n",
    "# 50m의 범위를 대략적으로 위도와 경도로 변환 (1도는 약 111km)\n",
    "lat_range = 0.00045  # 위도의 범위\n",
    "lon_range = 0.00045  # 경도의 범위\n",
    "\n",
    "# 범위 설정\n",
    "min_lat = sungsimdang_lat - lat_range\n",
    "max_lat = sungsimdang_lat + lat_range\n",
    "min_lon = sungsimdang_lon - lon_range\n",
    "max_lon = sungsimdang_lon + lon_range\n",
    "\n",
    "# 범위를 이용해 데이터 필터링\n",
    "df_bread10 = data[(data['latitude'] >= min_lat) & (data['latitude'] <= max_lat) &\n",
    "                    (data['longitude'] >= min_lon) & (data['longitude'] <= max_lon)]\n",
    "\n",
    "df_bread10 = df_bread10[['id', 'latitude', 'longitude']]"
   ]
  },
  {
   "cell_type": "code",
   "execution_count": 9,
   "id": "4c01d8d4-21fa-4c58-97f8-0cb866f52ca6",
   "metadata": {
    "scrolled": true
   },
   "outputs": [
    {
     "data": {
      "text/plain": [
       "array([60123258, 60111069, 60123259, 60111070], dtype=int64)"
      ]
     },
     "execution_count": 9,
     "metadata": {},
     "output_type": "execute_result"
    }
   ],
   "source": [
    "# 성심당을 포함하는 50m cell 후보지\n",
    "df_bread10.id.unique()"
   ]
  },
  {
   "cell_type": "code",
   "execution_count": 11,
   "id": "1b325a92-8bd2-4148-85f0-7f2323da0796",
   "metadata": {},
   "outputs": [
    {
     "data": {
      "text/html": [
       "<div>\n",
       "<style scoped>\n",
       "    .dataframe tbody tr th:only-of-type {\n",
       "        vertical-align: middle;\n",
       "    }\n",
       "\n",
       "    .dataframe tbody tr th {\n",
       "        vertical-align: top;\n",
       "    }\n",
       "\n",
       "    .dataframe thead th {\n",
       "        text-align: right;\n",
       "    }\n",
       "</style>\n",
       "<table border=\"1\" class=\"dataframe\">\n",
       "  <thead>\n",
       "    <tr style=\"text-align: right;\">\n",
       "      <th></th>\n",
       "      <th>id</th>\n",
       "      <th>latitude</th>\n",
       "      <th>longitude</th>\n",
       "      <th>distance_to_centroid</th>\n",
       "    </tr>\n",
       "  </thead>\n",
       "  <tbody>\n",
       "    <tr>\n",
       "      <th>2494666</th>\n",
       "      <td>60123258</td>\n",
       "      <td>36.327457</td>\n",
       "      <td>127.42757</td>\n",
       "      <td>0.000332</td>\n",
       "    </tr>\n",
       "  </tbody>\n",
       "</table>\n",
       "</div>"
      ],
      "text/plain": [
       "               id   latitude  longitude  distance_to_centroid\n",
       "2494666  60123258  36.327457  127.42757              0.000332"
      ]
     },
     "execution_count": 11,
     "metadata": {},
     "output_type": "execute_result"
    }
   ],
   "source": [
    "df_bread10['distance_to_centroid'] = ((df_bread10['latitude'] - sungsimdang_lat)**2 + \n",
    "                                      (df_bread10['longitude'] - sungsimdang_lon)**2)**0.5\n",
    "\n",
    "# 중심점에서 가장 가까운 id 찾기\n",
    "df_closest_to_centroid = df_bread10.loc[[df_bread10['distance_to_centroid'].idxmin()]]\n",
    "df_closest_to_centroid"
   ]
  },
  {
   "cell_type": "markdown",
   "id": "17e6b012-2acd-42fd-bf01-f0772ba03e92",
   "metadata": {},
   "source": [
    "**→ 성심당 유동인구를 나타낼 수 있는 cell은 '60123258'번 cell**"
   ]
  },
  {
   "cell_type": "markdown",
   "id": "394101bb-bab5-4027-a7ba-5e799f04ccbd",
   "metadata": {},
   "source": [
    "## 2-2 이동경로"
   ]
  },
  {
   "cell_type": "markdown",
   "id": "e1d48ed3-24d2-4465-a05b-f40108f98f80",
   "metadata": {
    "jp-MarkdownHeadingCollapsed": true
   },
   "source": [
    "### (1) 이동경로 분석 전, 필요한 변수 정리\n",
    "- SUNG_SIM_DANG_ID : 성심당 cell id\n",
    "- SUNG_SIM_DANG_OPENING_HOUR & SUNG_SIM_DANG_CLOSING_HOUR : 성심당 영업시간\n",
    "  - SUNG_SIM_DANG_OPENING_HOUR = 8\n",
    "  - SUNG_SIM_DANG_CLOSING_HOUR = 21 : 본래 영업종료 시간이 22시이나, timeze_cd == 21는 21시 ~ 21시 59분 1시간 동안의 유동인구를 의미하는 것이기 때문에 21시로 지정\n",
    "- MAX_DISTANCE_KM : 1시간동안 한 사람이 이동할 수 있는 최대 거리\n",
    "- COSINE_SIMILARITY_THRESHOLD : 코사인 유사도 임계값 (임계값을 넘는 위치를 다음 이동 장소 후보로 지정)"
   ]
  },
  {
   "cell_type": "code",
   "execution_count": 11,
   "id": "60a53ee0-6eac-40a3-95f3-c71369de0d89",
   "metadata": {},
   "outputs": [],
   "source": [
    "# 성심당 cell id\n",
    "SUNG_SIM_DANG_ID = 60123258\n",
    "\n",
    "# 성심당 영업시간\n",
    "SUNG_SIM_DANG_OPENING_HOUR = 8\n",
    "SUNG_SIM_DANG_CLOSING_HOUR = 21\n",
    "\n",
    "# 1시간동안 한 사람이 이동할 수 있는 최대 거리\n",
    "MAX_DISTANCE_KM = 3\n",
    "\n",
    "# 코사인 유사도 임계값\n",
    "COSINE_SIMILARITY_THRESHOLD = 0.8\n",
    "\n",
    "# 연령/성별 맵핑 딕셔너리\n",
    "age_gender_mapping = {\n",
    "    'm00': ('10세 미만', '남성'),\n",
    "    'm10': ('10대', '남성'),\n",
    "    'm20': ('20대', '남성'),\n",
    "    'm30': ('30대', '남성'),\n",
    "    'm40': ('40대', '남성'),\n",
    "    'm50': ('50대', '남성'),\n",
    "    'm60': ('60대', '남성'),\n",
    "    'm70': ('70대이상', '남성'),\n",
    "   \n",
    "    'f00': ('10세 미만', '여성'),\n",
    "    'f10': ('10대', '여성'),\n",
    "    'f20': ('20대', '여성'),\n",
    "    'f30': ('30대', '여성'),\n",
    "    'f40': ('40대', '여성'),\n",
    "    'f50': ('50대', '여성'),\n",
    "    'f60': ('60대', '여성'),\n",
    "    'f70': ('70대이상', '여성')\n",
    "}\n",
    "\n",
    "\n",
    "# 성심당 유동인구 필터링\n",
    "sungsimdang_visits = data[\n",
    "    (data['id'] == SUNG_SIM_DANG_ID) &\n",
    "    (data['timezn_cd'] >= SUNG_SIM_DANG_OPENING_HOUR) &\n",
    "    (data['timezn_cd'] <= SUNG_SIM_DANG_CLOSING_HOUR)\n",
    "]"
   ]
  },
  {
   "cell_type": "markdown",
   "id": "a68520f4-afa4-47c0-829a-6c75bc0d64c9",
   "metadata": {
    "jp-MarkdownHeadingCollapsed": true
   },
   "source": [
    "### (2) 거리 계산 함수 : geodesic 패키지 활용\n",
    "- geodesic 패키지를 사용하여 거리를 km로 반환\n",
    "- geodesic이 Numba와 호환되지 않기 때문에 Numba 사용X"
   ]
  },
  {
   "cell_type": "code",
   "execution_count": 13,
   "id": "d23afb17-9820-4942-b97e-b361784e18bd",
   "metadata": {},
   "outputs": [],
   "source": [
    "def calculate_distance(coord1_lat, coord1_lon, coord2_lat, coord2_lon):\n",
    "    return geodesic((coord1_lat, coord1_lon), (coord2_lat, coord2_lon)).kilometers"
   ]
  },
  {
   "cell_type": "markdown",
   "id": "9bf7c0ec-6171-413c-a89f-3866cbaea3f8",
   "metadata": {
    "jp-MarkdownHeadingCollapsed": true
   },
   "source": [
    "### (3) 코사인 유사도 계산 함수\n",
    "- 코사인 유사도 계산 공식을 함수화\n",
    "- numba의 njit : Python의 동적 기능을 배제하고 네이티브 코드로 컴파일하여 실행 속도가 크게 향상"
   ]
  },
  {
   "cell_type": "code",
   "execution_count": 16,
   "id": "18e7dedb-86cb-404e-b983-7e77d353042c",
   "metadata": {},
   "outputs": [],
   "source": [
    "@njit\n",
    "def calculate_cosine_similarity(lat1, lon1, pop1, lat2, lon2, pop2):\n",
    "    vec1 = np.array([lat1, lon1, pop1])\n",
    "    vec2 = np.array([lat2, lon2, pop2])\n",
    "    return np.dot(vec1, vec2) / (np.linalg.norm(vec1) * np.linalg.norm(vec2))"
   ]
  },
  {
   "attachments": {},
   "cell_type": "markdown",
   "id": "ae5aeec0-4b77-4a42-89d6-6660e2a0c46b",
   "metadata": {
    "jp-MarkdownHeadingCollapsed": true
   },
   "source": [
    "### (4) 성심당 방문 전후 경로 추적 함수\n",
    "- 성심당 방문시간별로 전후 방문 경로 추적  \n",
    "  - 예시1) 성심당 12시 방문 → 0 ~ 11시 & 13시 ~ 23시 성심당 외 방문 장소 추적  \n",
    "  - 예시2) 성심당 13시 방문 → 0 ~ 12시 & 14시 ~ 23시 성심당 외 방문 장소 추적\n",
    "- 성심당 방문시간 전후 총 23시간의 방문 장소 추출\n",
    "- 즉, 성심당 영업시간대 14개(8시~21시) * 23시간 동안의 방문 장소를 추적  \n",
    "  → (14 * 23)개의 행 생성\n",
    "- **자세한 설명은 README.md 참조**"
   ]
  },
  {
   "cell_type": "code",
   "execution_count": 19,
   "id": "fa71f969-cb4b-4b15-ae8b-7343bcfb2ad3",
   "metadata": {
    "jp-MarkdownHeadingCollapsed": true
   },
   "outputs": [],
   "source": [
    "# 함수 정의\n",
    "def track_movement_for_day(date, daily_data, age_gender_col, sungsimdang_visits):\n",
    "\n",
    "    # 반환용 리스트 생성\n",
    "    movement_data = []\n",
    "\n",
    "    # 성심당 유동인구 데이터를 날짜별로 추출\n",
    "    # date : (6)에서 groupby한 date\n",
    "    sungsimdang_visits_on_date = sungsimdang_visits[sungsimdang_visits['etl_ymd'] == date]\n",
    "\n",
    "    # 성심당 방문 전/후 이동경로 추출\n",
    "    # 코사인 유사도 임계값을 넘고 최대 이동 거리를 넘지 않는 위치 \n",
    "    def trace_route(visit_row, direction='before'):\n",
    "\n",
    "        # 유동인구가 유효한 경우만을 저장할 리스트\n",
    "        movement_data_local = []\n",
    "\n",
    "        '''\n",
    "        - 성심당을 방문한 시간을 현재 방문장소로 설정하고 전후 이동경로 분석\n",
    "        - 성심당 방문 데이터는 성심당 영업시간 동안의 유동인구 데이터\n",
    "        - 즉 앞서 (1)에서 정의한 8 ~ 21시의 성심당 유동인구 데이터\n",
    "        '''\n",
    "        previous_visit = visit_row\n",
    "\n",
    "        \n",
    "        ''' \n",
    "        ===\n",
    "        1) 성심당 방문 '전' 이동경로는 성심당 방문 시간을 시작으로 역순으로 방문장소 추적 → range(visit_row['timezn_cd'] - 1, -1, -1)\n",
    "           e.g. << (성심당 12시 방문) → 11시 방문 장소 → 10시 방문 장소 → ``` → 0시 방문 장소 >> \n",
    "\n",
    "        === \n",
    "        2) 성심당 방문 '후' 이동경로는 성심당 방문 시간을 시작으로 순서대로 방문장소 추적 → range(visit_row['timezn_cd'] + 1, 24)\n",
    "           e.g. << (성심당 12시 방문) → 13시 방문 장소 → 14시 방문 장소 → ``` → 23시 방문 장소 >> \n",
    "           \n",
    "        '''\n",
    "        valid_range = range(visit_row['timezn_cd'] - 1, -1, -1) if direction == 'before' else range(visit_row['timezn_cd'] + 1, 24)\n",
    "        \n",
    "\n",
    "        \n",
    "        '''\n",
    "        << 성심당 방문 '전' 이동경로>> (성심당 방문 '후' 이동경로는 해당X)\n",
    "        \n",
    "        - \"이동거리(km)\" 컬럼을 추가할 예정인데, 해당 컬럼는 \"이전 장소와의 거리\"를 나타냄\n",
    "        - 현재 메커니즘으로 계산하면 \"t-1시점 방문장소와 t-2시점 방문장소 간의 거리\"가 \"t-2시점 방문장소 행\"에 추가됨\n",
    "        - 즉, 이전 장소와의 거리가 아니라 \"다음 장소와의 거리가 거리\"가 기록됨\n",
    "        - 따라서 \"t-1시점 방문장소와 t-2시점 방문장소 간의 거리\"는 \"t-1시점 방문장소 행\"에 기록될 수 있게 \"이동거리(km)\" 값은 리스트에 저장했다가 후처리할 예정\n",
    "        '''\n",
    "        prev_next_distance = []\n",
    "\n",
    "\n",
    "        # 성심당 방문 전 시간대 범위 or 성심당 방문 후 시간대 범위\n",
    "        for time in valid_range:\n",
    "            time_visits = daily_data[daily_data['timezn_cd'] == time]\n",
    "\n",
    "            # 시간대가 날짜별로 그룹화한 데이터에 없는 경우 pass\n",
    "            if time_visits.empty:\n",
    "                continue\n",
    "\n",
    "            # (2)에서 정의한 *거리 계산 함수*로 이전 시간대 방문 장소와 현재 시간대의 모든 경위도 간의 거리 계산\n",
    "            time_visits['distance'] = time_visits.apply(lambda row: calculate_distance(\n",
    "                previous_visit['latitude'], previous_visit['longitude'], row['latitude'], row['longitude']\n",
    "            ), axis=1)\n",
    "\n",
    "            # 계산한 거리 중 (1)에서 정의한 MAX_DISTANCE_KM == 3km 를 넘지 않는 값만 필터링\n",
    "            valid_visits = time_visits[time_visits['distance'] <= MAX_DISTANCE_KM]\n",
    "            if valid_visits.empty:\n",
    "                continue\n",
    "\n",
    "            # 이전 시간대 방문장소와 현재 시간대 장소들간의 코사인 유사도 계산            \n",
    "            valid_visits['cosine_similarity'] = valid_visits.apply(lambda row: calculate_cosine_similarity(\n",
    "                previous_visit['latitude'], previous_visit['longitude'], previous_visit[age_gender_col],\n",
    "                row['latitude'], row['longitude'], row[age_gender_col]\n",
    "            ), axis=1)\n",
    "\n",
    "            # 그 중 코사인 유사도 임계값(0.8)을 넘으면서 코사인 유사도 값이 가장 큰 장소 정하기\n",
    "            most_similar_visit = valid_visits[valid_visits['cosine_similarity'] >= COSINE_SIMILARITY_THRESHOLD].nlargest(1, 'cosine_similarity')\n",
    "\n",
    "            # 성심당 방문 \"전\" 이동경로의 이동거리는 앞서 정의한 prev_next_distance 리스트에 추가 후 나중에 처리\n",
    "            if not most_similar_visit.empty:\n",
    "                prev_next_distance.append(most_similar_visit.iloc[0]['distance'])\n",
    "               \n",
    "                movement_data_local.append({\n",
    "                    '날짜': visit_row['etl_ymd'],\n",
    "                    '공휴일': visit_row['공휴일'],\n",
    "                    '주말': visit_row['주말'],\n",
    "                    '연령대': age_gender_mapping[age_gender_col][0],\n",
    "                    '성별': age_gender_mapping[age_gender_col][1],\n",
    "                    '성심당_유동인구': visit_row[age_gender_col],\n",
    "                    '성심당_방문시간': visit_row['timezn_cd'],\n",
    "                    '전후_방문시간대': time,\n",
    "                    '전후_방문장소_위도': most_similar_visit.iloc[0]['latitude'],\n",
    "                    '전후_방문장소_경도': most_similar_visit.iloc[0]['longitude'],\n",
    "                    '전후_방문장소_행정동명': most_similar_visit.iloc[0]['행정동명'],\n",
    "\n",
    "                    # 성심당 방문 \"전\" 이동경로의 경우, 후처리 예정이기 때문에 None으로 비워두기\n",
    "                    '이동거리(km)': None if direction == 'before' else prev_next_distance[-1]\n",
    "                })\n",
    "               \n",
    "                previous_visit = most_similar_visit.iloc[0]\n",
    "\n",
    "        '''\n",
    "        성심당 방문 \"전\" 이동경로의 경우, prev_next_distance 리스트에 저장된 값을 다음 시간대의 \"이동경로(km)\" 컬럼에 삽입\n",
    "        다시 말해, prev_next_distance 리스트를 정의할 때 설명한 바와 같이 \"t-1시점 방문장소와 t-2시점 방문장소 간의 거리\"는 \"t-1시점 방문장소 행\"에 기록\n",
    "        '''\n",
    "        if direction == 'before':\n",
    "            prev_next_distance.append('-')\n",
    "            for i in range(len(movement_data_local)):\n",
    "                movement_data_local[i]['이동거리(km)'] = prev_next_distance[i + 1]\n",
    "\n",
    "        \n",
    "        movement_data_local = sorted(movement_data_local, key=lambda x: x['전후_방문시간대'])\n",
    "        return movement_data_local\n",
    "\n",
    "\n",
    "\n",
    "\n",
    "    # 해당날짜의 성심당 방문 데이터 (8 ~ 21시의 성심당 유동인구 데이터)\n",
    "    for _, visit_row in sungsimdang_visits_on_date.iterrows():\n",
    "\n",
    "        # 성심당 유동인구가 0인 경우, 전후 방문장소를 알 수 없기 때문에 '-'으로 처리\n",
    "        if visit_row[age_gender_col] == 0:\n",
    "            movement_data.append({\n",
    "                '날짜': visit_row['etl_ymd'],\n",
    "                '공휴일': visit_row['공휴일'],\n",
    "                '주말': visit_row['주말'],\n",
    "                '연령대': age_gender_mapping[age_gender_col][0],\n",
    "                '성별': age_gender_mapping[age_gender_col][1],\n",
    "                '성심당_유동인구': visit_row[age_gender_col],\n",
    "                '성심당_방문시간': visit_row['timezn_cd'],\n",
    "                '전후_방문시간대': '-',\n",
    "                '전후_방문장소_위도': '-',\n",
    "                '전후_방문장소_경도': '-',\n",
    "                '전후_방문장소_행정동명': '-',\n",
    "                '이동거리(km)': '-'\n",
    "            })\n",
    "            \n",
    "        else:\n",
    "            # 전/후 이동경로를 각각 구하기 위해 함수에 'before', 'after'을 설정\n",
    "            movement_data.extend(trace_route(visit_row, 'before'))\n",
    "            movement_data.extend(trace_route(visit_row, 'after'))\n",
    "\n",
    "    return movement_data"
   ]
  },
  {
   "cell_type": "markdown",
   "id": "321b4f13-6726-43d9-8636-6eb8ce5fd0b1",
   "metadata": {
    "jp-MarkdownHeadingCollapsed": true
   },
   "source": [
    "### (5) 병렬 처리를 적용할 함수\n",
    "- 날짜별 > 집단(연령/성별)별 로 같은 작업을 수행"
   ]
  },
  {
   "cell_type": "code",
   "execution_count": 22,
   "id": "088c7366-3db2-4bef-ab1f-9b7a2a4e3374",
   "metadata": {},
   "outputs": [],
   "source": [
    "# 병렬처리는 날짜별로만 되도록, 집단별 이동경로 구하는 함수 정의\n",
    "def process_date_group(date, daily_data, sungsimdang_visits):\n",
    "\n",
    "    # 집단별 이동경로를 저장할 리스트\n",
    "    movement_data = []\n",
    "\n",
    "    # 집단별로 이동경로 따로 구하기\n",
    "    for age_gender_col in age_gender_mapping:\n",
    "        movement_data.extend(track_movement_for_day(date, daily_data, age_gender_col, sungsimdang_visits))\n",
    "    return movement_data"
   ]
  },
  {
   "cell_type": "markdown",
   "id": "178d5166-cf2d-4317-bc3e-971a43012078",
   "metadata": {
    "jp-MarkdownHeadingCollapsed": true
   },
   "source": [
    "### (6) 정의한 함수를 병렬 처리\n",
    "- 유동인구 데이터(원본)과 유동인구_전처리_완료 데이터 둘 다 용량이 10GB가 넘음\n",
    "- 날짜별로 같은 작업을 수행하기 때문에 모든 날짜를 하나씩 처리하기보다는 병렬 처리\n",
    "- 이를 위해 **jolbib** 라이브러리의 **Parallel, delayed** 클래스를 활용"
   ]
  },
  {
   "cell_type": "code",
   "execution_count": 26,
   "id": "257430bc-6b5e-4690-abc5-31bd8cb417b7",
   "metadata": {},
   "outputs": [
    {
     "data": {
      "text/html": [
       "<div>\n",
       "<style scoped>\n",
       "    .dataframe tbody tr th:only-of-type {\n",
       "        vertical-align: middle;\n",
       "    }\n",
       "\n",
       "    .dataframe tbody tr th {\n",
       "        vertical-align: top;\n",
       "    }\n",
       "\n",
       "    .dataframe thead th {\n",
       "        text-align: right;\n",
       "    }\n",
       "</style>\n",
       "<table border=\"1\" class=\"dataframe\">\n",
       "  <thead>\n",
       "    <tr style=\"text-align: right;\">\n",
       "      <th></th>\n",
       "      <th>날짜</th>\n",
       "      <th>공휴일</th>\n",
       "      <th>주말</th>\n",
       "      <th>연령대</th>\n",
       "      <th>성별</th>\n",
       "      <th>성심당_유동인구</th>\n",
       "      <th>성심당_방문시간</th>\n",
       "      <th>전후_방문시간대</th>\n",
       "      <th>전후_방문장소_위도</th>\n",
       "      <th>전후_방문장소_경도</th>\n",
       "      <th>전후_방문장소_행정동명</th>\n",
       "      <th>이동거리(km)</th>\n",
       "    </tr>\n",
       "  </thead>\n",
       "  <tbody>\n",
       "    <tr>\n",
       "      <th>0</th>\n",
       "      <td>2023-08-12</td>\n",
       "      <td>공휴일 아님</td>\n",
       "      <td>주말</td>\n",
       "      <td>20대</td>\n",
       "      <td>여성</td>\n",
       "      <td>0.00</td>\n",
       "      <td>8</td>\n",
       "      <td>-</td>\n",
       "      <td>-</td>\n",
       "      <td>-</td>\n",
       "      <td>-</td>\n",
       "      <td>-</td>\n",
       "    </tr>\n",
       "    <tr>\n",
       "      <th>1</th>\n",
       "      <td>2023-08-12</td>\n",
       "      <td>공휴일 아님</td>\n",
       "      <td>주말</td>\n",
       "      <td>20대</td>\n",
       "      <td>여성</td>\n",
       "      <td>0.80</td>\n",
       "      <td>9</td>\n",
       "      <td>0</td>\n",
       "      <td>36.319641</td>\n",
       "      <td>127.395887</td>\n",
       "      <td>유천2동</td>\n",
       "      <td>-</td>\n",
       "    </tr>\n",
       "    <tr>\n",
       "      <th>2</th>\n",
       "      <td>2023-08-12</td>\n",
       "      <td>공휴일 아님</td>\n",
       "      <td>주말</td>\n",
       "      <td>20대</td>\n",
       "      <td>여성</td>\n",
       "      <td>0.80</td>\n",
       "      <td>9</td>\n",
       "      <td>1</td>\n",
       "      <td>36.319641</td>\n",
       "      <td>127.395887</td>\n",
       "      <td>유천2동</td>\n",
       "      <td>0.0</td>\n",
       "    </tr>\n",
       "    <tr>\n",
       "      <th>3</th>\n",
       "      <td>2023-08-12</td>\n",
       "      <td>공휴일 아님</td>\n",
       "      <td>주말</td>\n",
       "      <td>20대</td>\n",
       "      <td>여성</td>\n",
       "      <td>0.80</td>\n",
       "      <td>9</td>\n",
       "      <td>2</td>\n",
       "      <td>36.315546</td>\n",
       "      <td>127.388123</td>\n",
       "      <td>유천1동</td>\n",
       "      <td>0.832213</td>\n",
       "    </tr>\n",
       "    <tr>\n",
       "      <th>4</th>\n",
       "      <td>2023-08-12</td>\n",
       "      <td>공휴일 아님</td>\n",
       "      <td>주말</td>\n",
       "      <td>20대</td>\n",
       "      <td>여성</td>\n",
       "      <td>0.80</td>\n",
       "      <td>9</td>\n",
       "      <td>3</td>\n",
       "      <td>36.317396</td>\n",
       "      <td>127.397574</td>\n",
       "      <td>유천2동</td>\n",
       "      <td>0.873262</td>\n",
       "    </tr>\n",
       "    <tr>\n",
       "      <th>...</th>\n",
       "      <td>...</td>\n",
       "      <td>...</td>\n",
       "      <td>...</td>\n",
       "      <td>...</td>\n",
       "      <td>...</td>\n",
       "      <td>...</td>\n",
       "      <td>...</td>\n",
       "      <td>...</td>\n",
       "      <td>...</td>\n",
       "      <td>...</td>\n",
       "      <td>...</td>\n",
       "      <td>...</td>\n",
       "    </tr>\n",
       "    <tr>\n",
       "      <th>295</th>\n",
       "      <td>2023-08-12</td>\n",
       "      <td>공휴일 아님</td>\n",
       "      <td>주말</td>\n",
       "      <td>20대</td>\n",
       "      <td>여성</td>\n",
       "      <td>30.92</td>\n",
       "      <td>21</td>\n",
       "      <td>18</td>\n",
       "      <td>36.320633</td>\n",
       "      <td>127.414255</td>\n",
       "      <td>문화1동</td>\n",
       "      <td>1.414298</td>\n",
       "    </tr>\n",
       "    <tr>\n",
       "      <th>296</th>\n",
       "      <td>2023-08-12</td>\n",
       "      <td>공휴일 아님</td>\n",
       "      <td>주말</td>\n",
       "      <td>20대</td>\n",
       "      <td>여성</td>\n",
       "      <td>30.92</td>\n",
       "      <td>21</td>\n",
       "      <td>19</td>\n",
       "      <td>36.329262</td>\n",
       "      <td>127.428114</td>\n",
       "      <td>은행선화동</td>\n",
       "      <td>1.570126</td>\n",
       "    </tr>\n",
       "    <tr>\n",
       "      <th>297</th>\n",
       "      <td>2023-08-12</td>\n",
       "      <td>공휴일 아님</td>\n",
       "      <td>주말</td>\n",
       "      <td>20대</td>\n",
       "      <td>여성</td>\n",
       "      <td>30.92</td>\n",
       "      <td>21</td>\n",
       "      <td>20</td>\n",
       "      <td>36.32746</td>\n",
       "      <td>127.428127</td>\n",
       "      <td>은행선화동</td>\n",
       "      <td>0.200012</td>\n",
       "    </tr>\n",
       "    <tr>\n",
       "      <th>298</th>\n",
       "      <td>2023-08-12</td>\n",
       "      <td>공휴일 아님</td>\n",
       "      <td>주말</td>\n",
       "      <td>20대</td>\n",
       "      <td>여성</td>\n",
       "      <td>30.92</td>\n",
       "      <td>21</td>\n",
       "      <td>22</td>\n",
       "      <td>36.325183</td>\n",
       "      <td>127.423131</td>\n",
       "      <td>대흥동</td>\n",
       "      <td>0.471728</td>\n",
       "    </tr>\n",
       "    <tr>\n",
       "      <th>299</th>\n",
       "      <td>2023-08-12</td>\n",
       "      <td>공휴일 아님</td>\n",
       "      <td>주말</td>\n",
       "      <td>20대</td>\n",
       "      <td>여성</td>\n",
       "      <td>30.92</td>\n",
       "      <td>21</td>\n",
       "      <td>23</td>\n",
       "      <td>36.320622</td>\n",
       "      <td>127.412028</td>\n",
       "      <td>문화1동</td>\n",
       "      <td>1.118101</td>\n",
       "    </tr>\n",
       "  </tbody>\n",
       "</table>\n",
       "<p>300 rows × 12 columns</p>\n",
       "</div>"
      ],
      "text/plain": [
       "            날짜     공휴일  주말  연령대  성별  성심당_유동인구  성심당_방문시간 전후_방문시간대 전후_방문장소_위도  \\\n",
       "0   2023-08-12  공휴일 아님  주말  20대  여성      0.00         8        -          -   \n",
       "1   2023-08-12  공휴일 아님  주말  20대  여성      0.80         9        0  36.319641   \n",
       "2   2023-08-12  공휴일 아님  주말  20대  여성      0.80         9        1  36.319641   \n",
       "3   2023-08-12  공휴일 아님  주말  20대  여성      0.80         9        2  36.315546   \n",
       "4   2023-08-12  공휴일 아님  주말  20대  여성      0.80         9        3  36.317396   \n",
       "..         ...     ...  ..  ...  ..       ...       ...      ...        ...   \n",
       "295 2023-08-12  공휴일 아님  주말  20대  여성     30.92        21       18  36.320633   \n",
       "296 2023-08-12  공휴일 아님  주말  20대  여성     30.92        21       19  36.329262   \n",
       "297 2023-08-12  공휴일 아님  주말  20대  여성     30.92        21       20   36.32746   \n",
       "298 2023-08-12  공휴일 아님  주말  20대  여성     30.92        21       22  36.325183   \n",
       "299 2023-08-12  공휴일 아님  주말  20대  여성     30.92        21       23  36.320622   \n",
       "\n",
       "     전후_방문장소_경도 전후_방문장소_행정동명  이동거리(km)  \n",
       "0             -            -         -  \n",
       "1    127.395887         유천2동         -  \n",
       "2    127.395887         유천2동       0.0  \n",
       "3    127.388123         유천1동  0.832213  \n",
       "4    127.397574         유천2동  0.873262  \n",
       "..          ...          ...       ...  \n",
       "295  127.414255         문화1동  1.414298  \n",
       "296  127.428114        은행선화동  1.570126  \n",
       "297  127.428127        은행선화동  0.200012  \n",
       "298  127.423131          대흥동  0.471728  \n",
       "299  127.412028         문화1동  1.118101  \n",
       "\n",
       "[300 rows x 12 columns]"
      ]
     },
     "execution_count": 26,
     "metadata": {},
     "output_type": "execute_result"
    }
   ],
   "source": [
    "# 날짜별로 데이터 그룹화\n",
    "grouped_by_date = data.groupby('etl_ymd')\n",
    "\n",
    "# 날짜별로 병렬 처리\n",
    "movement_data = Parallel(n_jobs=-1)(delayed(process_date_group)(date, daily_data, sungsimdang_visits)\n",
    "                                    for date, daily_data in grouped_by_date)\n",
    "\n",
    "# 병렬 처리 후 결과를 flatten하여 통합\n",
    "movement_data = [item for sublist in movement_data for item in sublist] \n",
    "\n",
    "# 결과를 데이터프레임으로 변환\n",
    "df_movement = pd.DataFrame(movement_data)\n",
    "\n",
    "# 결과 출력\n",
    "df_movement"
   ]
  },
  {
   "cell_type": "markdown",
   "id": "5713d247-dc52-41f7-a547-67989902d171",
   "metadata": {},
   "source": [
    "# 3 소비패턴 분석"
   ]
  },
  {
   "cell_type": "markdown",
   "id": "8700e436-6ba2-4b43-81a6-0119f4ab4d2e",
   "metadata": {
    "jp-MarkdownHeadingCollapsed": true
   },
   "source": [
    "## 3-1 데이터 전처리"
   ]
  },
  {
   "cell_type": "code",
   "execution_count": 28,
   "id": "7e2d59b2-f1ef-414f-bda9-b48ac8a377b6",
   "metadata": {},
   "outputs": [],
   "source": [
    "# data 불러오기\n",
    "industry_data = pd.read_csv(os.path.join(path, \"카드매출(가맹점)_전처리_완료.csv\"), encoding = 'cp949')\n",
    "customer_data = pd.read_csv(os.path.join(path, \"카드매출(유입고객)_전처리_완료.csv\"), encoding = 'cp949')\n",
    "\n",
    "\n",
    "# datetime type으로 변환\n",
    "df_movement['날짜'] = pd.to_datetime(df_movement['날짜'])\n",
    "industry_data['기준일자'] = pd.to_datetime(industry_data['기준일자'], format='%Y%m%d')\n",
    "customer_data['기준년월'] = pd.to_datetime(customer_data['기준년월'], format='%Y%m')\n",
    "\n",
    "\n",
    "# 공공 행정 등을 포함하는 업종대분류 O는 제외 (우리의 타겟층이 아님)\n",
    "industry_data = industry_data[industry_data['업종대분류'] != 'O']\n",
    "customer_data = customer_data[customer_data['업종대분류'] != 'O']"
   ]
  },
  {
   "cell_type": "markdown",
   "id": "19f91d12-26f1-45d9-9e2d-cc366e208936",
   "metadata": {
    "jp-MarkdownHeadingCollapsed": true
   },
   "source": [
    "## 3-2 컬럼 추가\n",
    "- 이동경로에 소비패턴 데이터를 이어가기 위해 *카드매출_유입고객*과 같은 형식의 컬럼 생성\n",
    "  \n",
    "- 이동경로 데이터에 추가한 컬럼 : 구분_시간대, 연령, 성별_숫자, 구분_휴일평일, 업력_숫자\n",
    "- 이에 상응하는 *카드매출_유입고객* 컬럼 : 구분_시간대, 연령, 성별, 구분_휴일평일, 업력"
   ]
  },
  {
   "cell_type": "code",
   "execution_count": 30,
   "id": "6b094f01-838e-42e1-8a27-0c221fbd2ada",
   "metadata": {},
   "outputs": [],
   "source": [
    "## (1) 시간대 구분 함수\n",
    "def get_time_period(hour):\n",
    "    if 6 <= hour < 12:\n",
    "        return 1\n",
    "    elif 12 <= hour < 15:\n",
    "        return 2\n",
    "    elif 15 <= hour < 18:\n",
    "        return 3\n",
    "    elif 18 <= hour < 22:\n",
    "        return 4\n",
    "    else:\n",
    "        return 5\n",
    "\n",
    "df_movement['구분_시간대'] = df_movement['전후_방문시간대'].apply(lambda x: get_time_period(int(x)) if x != '-' else '-')\n",
    "\n",
    "\n",
    "\n",
    "## (2) 연령대 변환 함수\n",
    "def age(data):\n",
    "    if data == '10세 미만':\n",
    "        return 0\n",
    "    elif data == '10대':\n",
    "        return 1\n",
    "    elif data == '20대':\n",
    "        return 2\n",
    "    elif data == '30대':\n",
    "        return 3\n",
    "    elif data == '40대':\n",
    "        return 4\n",
    "    elif data == '50대':\n",
    "        return 5\n",
    "    elif data == '60대':\n",
    "        return 6\n",
    "    else:\n",
    "        return 6\n",
    "\n",
    "df_movement['연령'] = df_movement['연령대'].apply(age)\n",
    "\n",
    "\n",
    "## (3) 성별 변환\n",
    "def gender(data):\n",
    "    return 0 if data == '남성' else 1\n",
    "\n",
    "df_movement['성별_숫자'] = df_movement['성별'].apply(gender)\n",
    "customer_data['성별_numeric'] = customer_data['성별'].map({'M': 0, 'F': 1}).astype(np.int8)\n",
    "\n",
    "\n",
    "\n",
    "## (4) 공휴일 평일 구분\n",
    "def holiday(holi, weekend):\n",
    "    return 1 if holi == '공휴일' or weekend == '주말' else 2\n",
    "\n",
    "df_movement['구분_휴일평일'] = df_movement.apply(lambda row: holiday(row['공휴일'], row['주말']), axis=1)\n",
    "\n",
    "\n",
    "\n",
    "## (5) 업력 : 수치형으로 변환\n",
    "years = {\n",
    "    '1년이하': 1,\n",
    "    '3년이하': 3,\n",
    "    '5년이하': 5,\n",
    "    '10년이하': 10,\n",
    "    '10년초과': 15\n",
    "}\n",
    "customer_data['업력_숫자'] = customer_data['업력'].map(years)\n",
    "\n",
    "\n",
    "## (6) 날짜_숫자형\n",
    "df_movement['날짜_숫자형'] = df_movement['날짜'].dt.strftime('%Y%m%d').astype(int)\n",
    "industry_data['기준일자_숫자형'] = industry_data['기준일자'].dt.strftime('%Y%m%d').astype(int)\n",
    "customer_data['기준년월_numeric'] = customer_data['기준년월'].dt.strftime('%Y%m').apply(lambda x: int(str(x)[4:6])).astype(np.int8)"
   ]
  },
  {
   "cell_type": "markdown",
   "id": "9ea13979-0bd9-4f78-a4e7-458ea4260a03",
   "metadata": {},
   "source": [
    "## 3-3 이동경로 주변 업종 파악 : *카드매출_가맹점*을 통해\n",
    "- **중요 가정** : *카드매출_가맹점*의 셀은 500m X 500m 격자의 중심점이다.  \n",
    "    이는 ***1. 데이터 전처리*** 에서 시각화한 것과 같이 cell_id 간의 간격이 균등하다는 것에 근거함"
   ]
  },
  {
   "cell_type": "markdown",
   "id": "3ac0598a-7843-4bf4-a547-947bbb099de1",
   "metadata": {
    "jp-MarkdownHeadingCollapsed": true
   },
   "source": [
    "### (1) 각 cell_id 중심점에서의 위도, 경도 범위 계산 함수\n",
    "- 이동경로와 마찬가지로 Numba 적용하여 처리 속도 개선\n",
    "- 이동경로에 사용된 *유동인구*데이터는 cell의 면적이 50m x 50m인 반면, *카드매출_가맹점*은 cell의 면적이 500m x 500m\n",
    "- 따라서 *유동인구*의 셀을 포함하는 *카드매출_가맹점*의 셀을 필터링"
   ]
  },
  {
   "cell_type": "code",
   "execution_count": 32,
   "id": "552262af-1858-4666-89da-b0db54353b8d",
   "metadata": {},
   "outputs": [],
   "source": [
    "# 거리 기반 계산 함수 - Numba 적용 (Numpy로 변환 후 계산)\n",
    "@njit\n",
    "def convert_cell_numba(lat, lon, cell_lat_array, cell_lon_array):\n",
    "    lat_range = 0.00225\n",
    "    lon_range = 0.00225\n",
    "   \n",
    "    lat_check = (cell_lat_array - lat_range <= lat) & (lat <= cell_lat_array + lat_range)\n",
    "    lon_check = (cell_lon_array - lon_range <= lon) & (lon <= cell_lon_array + lon_range)\n",
    "\n",
    "    return lat_check & lon_check"
   ]
  },
  {
   "cell_type": "markdown",
   "id": "0ae3d4b9-ee7b-47cc-a81e-6ecc18c8eca1",
   "metadata": {
    "jp-MarkdownHeadingCollapsed": true
   },
   "source": [
    "### (2) ***이동경로***에 ***카드매출_가맹점 > 업종소분류*** 를 맵핑하는 함수\n",
    "- (1) 함수를 통해 *이동경로의 위치*가 *카드매출_가맹점의 어떤 cell*에 해당되는지 찾기\n",
    "- 해당되는 cell에 기록되어있는 *카드매출_가맹점 > 업종소분류_코드, 업종소분류_항목명, 이용건수, 이용금액, 이용금액_지역화폐* 를 *이동경로* 데이터에 컬럼으로 붙이기\n",
    "- 왼쪽 : *카드매출_가맹점*에서의 컬럼명 | 오른쪽 : *이동경로* 데이터에 추가한 컬럼명\n",
    "  - 업종소분류 : 업종소분류_코드\n",
    "  - 업종소분류_항목명 : 업종소분류_항목명\n",
    "  - 이용건수 : 업종_일판매건수\n",
    "  - 이용금액 : 업종_일매출\n",
    "  - 이용금액_지역화폐 : 업종_일매출_지역화폐"
   ]
  },
  {
   "cell_type": "code",
   "execution_count": 35,
   "id": "5fece9b6-598f-4b69-a4d9-197abb6e4d32",
   "metadata": {},
   "outputs": [],
   "source": [
    "def process_date_group(date, daily_data, industry_data):\n",
    "    results = []\n",
    "   \n",
    "    for idx, row in daily_data.iterrows():\n",
    "        \n",
    "        # df_movement > 성심당_유동인구가 0인 경우\n",
    "        if row['전후_방문장소_위도'] == '-':\n",
    "            combined_row = row.to_dict()\n",
    "            combined_row.update({\n",
    "                '업종소분류_코드': '-',\n",
    "                '업종소분류_항목명': '-',\n",
    "                '업종_일판매건수': '-',\n",
    "                '업종_일매출': '-',\n",
    "                '업종_일매출_지역화폐': '-'\n",
    "            })\n",
    "            results.append(combined_row)\n",
    "        \n",
    "        # 유동인구가 0이 아닌 경우\n",
    "        else:\n",
    "            # 카드매출_가맹점 > latitude, longitude를 Numpy 배열로 변환\n",
    "            cell_lat_array = industry_data['latitude'].to_numpy()\n",
    "            cell_lon_array = industry_data['longitude'].to_numpy()\n",
    "            lat = np.float64(row['전후_방문장소_위도']) \n",
    "            lon = np.float64(row['전후_방문장소_경도']) \n",
    "\n",
    "            # 카드매출_가맹점에 (1)의 계산 함수 적용하여 이동경로가 포함되는 cell 찾기\n",
    "            matching_cells_bool = convert_cell_numba(lat, lon, cell_lat_array, cell_lon_array)\n",
    "            matching_cells = industry_data[matching_cells_bool]\n",
    "            matching_cells2 = matching_cells[matching_cells['기준일자_숫자형'] == row['날짜_숫자형']]\n",
    "\n",
    "            # 위에서 필터링된 데이터의 행이 비어있을 경우, 이는 카드매출_가맹점에 존재하지 않는 값으로 판단\n",
    "            # '주변 상권X' 으로 표시    e.g. 아파트 단지 등\n",
    "            if matching_cells2.empty:\n",
    "                combined_row = row.to_dict()\n",
    "                combined_row.update({\n",
    "                    '업종소분류_코드': '주변 상권X',\n",
    "                    '업종소분류_항목명': '주변 상권X',\n",
    "                    '업종_일판매건수': '주변 상권X',\n",
    "                    '업종_일매출': '주변 상권X',\n",
    "                    '업종_일매출_지역화폐': '주변 상권X'\n",
    "                })\n",
    "                results.append(combined_row)\n",
    "\n",
    "  \n",
    "            # 카드매출_가맹점 > 업종소분류, 업종소분류_항목명, 이용건수, 이용금액, 이용금액_지역화폐 컬럼의 값들을 각 행에 맞게 매칭\n",
    "            else:\n",
    "                for _, cell_row in matching_cells2.iterrows():\n",
    "                    combined_row = row.to_dict()\n",
    "                    combined_row.update({\n",
    "                        '업종소분류_코드': cell_row['업종소분류'],\n",
    "                        '업종소분류_항목명': cell_row['업종소분류_항목명'],\n",
    "                        '업종_일판매건수': cell_row['이용건수'],\n",
    "                        '업종_일매출': cell_row['이용금액'],\n",
    "                        '업종_일매출_지역화폐': cell_row['이용금액_지역화폐']\n",
    "                    })\n",
    "                    results.append(combined_row)\n",
    "                   \n",
    "    return results"
   ]
  },
  {
   "cell_type": "markdown",
   "id": "9fa96f1c-9182-40ae-ab70-de56fafacbb1",
   "metadata": {
    "jp-MarkdownHeadingCollapsed": true
   },
   "source": [
    "### (3) 정의한 함수를 날짜별로 병렬 처리"
   ]
  },
  {
   "cell_type": "code",
   "execution_count": 38,
   "id": "75e415fd-9e99-4574-b4a6-1ae90ef2817c",
   "metadata": {},
   "outputs": [
    {
     "data": {
      "text/html": [
       "<div>\n",
       "<style scoped>\n",
       "    .dataframe tbody tr th:only-of-type {\n",
       "        vertical-align: middle;\n",
       "    }\n",
       "\n",
       "    .dataframe tbody tr th {\n",
       "        vertical-align: top;\n",
       "    }\n",
       "\n",
       "    .dataframe thead th {\n",
       "        text-align: right;\n",
       "    }\n",
       "</style>\n",
       "<table border=\"1\" class=\"dataframe\">\n",
       "  <thead>\n",
       "    <tr style=\"text-align: right;\">\n",
       "      <th></th>\n",
       "      <th></th>\n",
       "      <th></th>\n",
       "      <th></th>\n",
       "      <th></th>\n",
       "      <th></th>\n",
       "      <th></th>\n",
       "      <th></th>\n",
       "      <th></th>\n",
       "      <th></th>\n",
       "      <th></th>\n",
       "      <th></th>\n",
       "      <th></th>\n",
       "      <th></th>\n",
       "      <th></th>\n",
       "      <th></th>\n",
       "      <th></th>\n",
       "      <th>업종소분류_코드</th>\n",
       "      <th>업종소분류_항목명</th>\n",
       "      <th>업종_일판매건수</th>\n",
       "      <th>업종_일매출</th>\n",
       "      <th>업종_일매출_지역화폐</th>\n",
       "    </tr>\n",
       "    <tr>\n",
       "      <th>날짜</th>\n",
       "      <th>공휴일</th>\n",
       "      <th>주말</th>\n",
       "      <th>연령대</th>\n",
       "      <th>성별</th>\n",
       "      <th>성심당_유동인구</th>\n",
       "      <th>성심당_방문시간</th>\n",
       "      <th>전후_방문시간대</th>\n",
       "      <th>전후_방문장소_위도</th>\n",
       "      <th>전후_방문장소_경도</th>\n",
       "      <th>전후_방문장소_행정동명</th>\n",
       "      <th>이동거리(km)</th>\n",
       "      <th>구분_시간대</th>\n",
       "      <th>연령</th>\n",
       "      <th>성별_숫자</th>\n",
       "      <th>구분_휴일평일</th>\n",
       "      <th>날짜_숫자형</th>\n",
       "      <th></th>\n",
       "      <th></th>\n",
       "      <th></th>\n",
       "      <th></th>\n",
       "      <th></th>\n",
       "    </tr>\n",
       "  </thead>\n",
       "  <tbody>\n",
       "    <tr>\n",
       "      <th rowspan=\"11\" valign=\"top\">2023-08-12</th>\n",
       "      <th rowspan=\"11\" valign=\"top\">공휴일 아님</th>\n",
       "      <th rowspan=\"11\" valign=\"top\">주말</th>\n",
       "      <th rowspan=\"11\" valign=\"top\">20대</th>\n",
       "      <th rowspan=\"11\" valign=\"top\">여성</th>\n",
       "      <th>0.00</th>\n",
       "      <th>8</th>\n",
       "      <th>-</th>\n",
       "      <th>-</th>\n",
       "      <th>-</th>\n",
       "      <th>-</th>\n",
       "      <th>-</th>\n",
       "      <th>-</th>\n",
       "      <th>2</th>\n",
       "      <th>1</th>\n",
       "      <th>1</th>\n",
       "      <th>20230812</th>\n",
       "      <td>-</td>\n",
       "      <td>-</td>\n",
       "      <td>-</td>\n",
       "      <td>-</td>\n",
       "      <td>-</td>\n",
       "    </tr>\n",
       "    <tr>\n",
       "      <th rowspan=\"4\" valign=\"top\">0.80</th>\n",
       "      <th rowspan=\"4\" valign=\"top\">9</th>\n",
       "      <th rowspan=\"4\" valign=\"top\">0</th>\n",
       "      <th rowspan=\"4\" valign=\"top\">36.319641</th>\n",
       "      <th rowspan=\"4\" valign=\"top\">127.395887</th>\n",
       "      <th rowspan=\"4\" valign=\"top\">유천2동</th>\n",
       "      <th rowspan=\"4\" valign=\"top\">-</th>\n",
       "      <th rowspan=\"4\" valign=\"top\">5</th>\n",
       "      <th rowspan=\"4\" valign=\"top\">2</th>\n",
       "      <th rowspan=\"4\" valign=\"top\">1</th>\n",
       "      <th rowspan=\"4\" valign=\"top\">1</th>\n",
       "      <th>20230812</th>\n",
       "      <td>47119.0</td>\n",
       "      <td>기타 대형 종합 소매업</td>\n",
       "      <td>4</td>\n",
       "      <td>7000</td>\n",
       "      <td>0</td>\n",
       "    </tr>\n",
       "    <tr>\n",
       "      <th>20230812</th>\n",
       "      <td>47121.0</td>\n",
       "      <td>슈퍼마켓</td>\n",
       "      <td>114</td>\n",
       "      <td>1682660</td>\n",
       "      <td>265110</td>\n",
       "    </tr>\n",
       "    <tr>\n",
       "      <th>20230812</th>\n",
       "      <td>47122.0</td>\n",
       "      <td>체인화 편의점</td>\n",
       "      <td>116</td>\n",
       "      <td>796820</td>\n",
       "      <td>84070</td>\n",
       "    </tr>\n",
       "    <tr>\n",
       "      <th>20230812</th>\n",
       "      <td>47129.0</td>\n",
       "      <td>기타 음ㆍ식료품 위주 종합 소매업</td>\n",
       "      <td>19</td>\n",
       "      <td>142350</td>\n",
       "      <td>21800</td>\n",
       "    </tr>\n",
       "    <tr>\n",
       "      <th>...</th>\n",
       "      <th>...</th>\n",
       "      <th>...</th>\n",
       "      <th>...</th>\n",
       "      <th>...</th>\n",
       "      <th>...</th>\n",
       "      <th>...</th>\n",
       "      <th>...</th>\n",
       "      <th>...</th>\n",
       "      <th>...</th>\n",
       "      <th>...</th>\n",
       "      <th>...</th>\n",
       "      <td>...</td>\n",
       "      <td>...</td>\n",
       "      <td>...</td>\n",
       "      <td>...</td>\n",
       "      <td>...</td>\n",
       "    </tr>\n",
       "    <tr>\n",
       "      <th rowspan=\"5\" valign=\"top\">30.92</th>\n",
       "      <th rowspan=\"5\" valign=\"top\">21</th>\n",
       "      <th>18</th>\n",
       "      <th>36.320633</th>\n",
       "      <th>127.414255</th>\n",
       "      <th>문화1동</th>\n",
       "      <th>1.414298</th>\n",
       "      <th>4</th>\n",
       "      <th>2</th>\n",
       "      <th>1</th>\n",
       "      <th>1</th>\n",
       "      <th>20230812</th>\n",
       "      <td>96912.0</td>\n",
       "      <td>가정용 세탁업</td>\n",
       "      <td>1</td>\n",
       "      <td>8000</td>\n",
       "      <td>8000</td>\n",
       "    </tr>\n",
       "    <tr>\n",
       "      <th>19</th>\n",
       "      <th>36.329262</th>\n",
       "      <th>127.428114</th>\n",
       "      <th>은행선화동</th>\n",
       "      <th>1.570126</th>\n",
       "      <th>4</th>\n",
       "      <th>2</th>\n",
       "      <th>1</th>\n",
       "      <th>1</th>\n",
       "      <th>20230812</th>\n",
       "      <td>주변 상권X</td>\n",
       "      <td>주변 상권X</td>\n",
       "      <td>주변 상권X</td>\n",
       "      <td>주변 상권X</td>\n",
       "      <td>주변 상권X</td>\n",
       "    </tr>\n",
       "    <tr>\n",
       "      <th>20</th>\n",
       "      <th>36.32746</th>\n",
       "      <th>127.428127</th>\n",
       "      <th>은행선화동</th>\n",
       "      <th>0.200012</th>\n",
       "      <th>4</th>\n",
       "      <th>2</th>\n",
       "      <th>1</th>\n",
       "      <th>1</th>\n",
       "      <th>20230812</th>\n",
       "      <td>주변 상권X</td>\n",
       "      <td>주변 상권X</td>\n",
       "      <td>주변 상권X</td>\n",
       "      <td>주변 상권X</td>\n",
       "      <td>주변 상권X</td>\n",
       "    </tr>\n",
       "    <tr>\n",
       "      <th>22</th>\n",
       "      <th>36.325183</th>\n",
       "      <th>127.423131</th>\n",
       "      <th>대흥동</th>\n",
       "      <th>0.471728</th>\n",
       "      <th>5</th>\n",
       "      <th>2</th>\n",
       "      <th>1</th>\n",
       "      <th>1</th>\n",
       "      <th>20230812</th>\n",
       "      <td>주변 상권X</td>\n",
       "      <td>주변 상권X</td>\n",
       "      <td>주변 상권X</td>\n",
       "      <td>주변 상권X</td>\n",
       "      <td>주변 상권X</td>\n",
       "    </tr>\n",
       "    <tr>\n",
       "      <th>23</th>\n",
       "      <th>36.320622</th>\n",
       "      <th>127.412028</th>\n",
       "      <th>문화1동</th>\n",
       "      <th>1.118101</th>\n",
       "      <th>5</th>\n",
       "      <th>2</th>\n",
       "      <th>1</th>\n",
       "      <th>1</th>\n",
       "      <th>20230812</th>\n",
       "      <td>주변 상권X</td>\n",
       "      <td>주변 상권X</td>\n",
       "      <td>주변 상권X</td>\n",
       "      <td>주변 상권X</td>\n",
       "      <td>주변 상권X</td>\n",
       "    </tr>\n",
       "  </tbody>\n",
       "</table>\n",
       "<p>6165 rows × 5 columns</p>\n",
       "</div>"
      ],
      "text/plain": [
       "                                                                                                                                    업종소분류_코드  \\\n",
       "날짜         공휴일    주말 연령대 성별 성심당_유동인구 성심당_방문시간 전후_방문시간대 전후_방문장소_위도 전후_방문장소_경도 전후_방문장소_행정동명 이동거리(km) 구분_시간대 연령 성별_숫자 구분_휴일평일 날짜_숫자형              \n",
       "2023-08-12 공휴일 아님 주말 20대 여성 0.00     8        -        -          -          -            -        -      2  1     1       20230812        -   \n",
       "                            0.80     9        0        36.319641  127.395887 유천2동         -        5      2  1     1       20230812  47119.0   \n",
       "                                                                                                                           20230812  47121.0   \n",
       "                                                                                                                           20230812  47122.0   \n",
       "                                                                                                                           20230812  47129.0   \n",
       "...                                                                                                                                      ...   \n",
       "                            30.92    21       18       36.320633  127.414255 문화1동         1.414298 4      2  1     1       20230812  96912.0   \n",
       "                                              19       36.329262  127.428114 은행선화동        1.570126 4      2  1     1       20230812   주변 상권X   \n",
       "                                              20       36.32746   127.428127 은행선화동        0.200012 4      2  1     1       20230812   주변 상권X   \n",
       "                                              22       36.325183  127.423131 대흥동          0.471728 5      2  1     1       20230812   주변 상권X   \n",
       "                                              23       36.320622  127.412028 문화1동         1.118101 5      2  1     1       20230812   주변 상권X   \n",
       "\n",
       "                                                                                                                                              업종소분류_항목명  \\\n",
       "날짜         공휴일    주말 연령대 성별 성심당_유동인구 성심당_방문시간 전후_방문시간대 전후_방문장소_위도 전후_방문장소_경도 전후_방문장소_행정동명 이동거리(km) 구분_시간대 연령 성별_숫자 구분_휴일평일 날짜_숫자형                         \n",
       "2023-08-12 공휴일 아님 주말 20대 여성 0.00     8        -        -          -          -            -        -      2  1     1       20230812                   -   \n",
       "                            0.80     9        0        36.319641  127.395887 유천2동         -        5      2  1     1       20230812        기타 대형 종합 소매업   \n",
       "                                                                                                                           20230812                슈퍼마켓   \n",
       "                                                                                                                           20230812             체인화 편의점   \n",
       "                                                                                                                           20230812  기타 음ㆍ식료품 위주 종합 소매업   \n",
       "...                                                                                                                                                 ...   \n",
       "                            30.92    21       18       36.320633  127.414255 문화1동         1.414298 4      2  1     1       20230812             가정용 세탁업   \n",
       "                                              19       36.329262  127.428114 은행선화동        1.570126 4      2  1     1       20230812              주변 상권X   \n",
       "                                              20       36.32746   127.428127 은행선화동        0.200012 4      2  1     1       20230812              주변 상권X   \n",
       "                                              22       36.325183  127.423131 대흥동          0.471728 5      2  1     1       20230812              주변 상권X   \n",
       "                                              23       36.320622  127.412028 문화1동         1.118101 5      2  1     1       20230812              주변 상권X   \n",
       "\n",
       "                                                                                                                                    업종_일판매건수  \\\n",
       "날짜         공휴일    주말 연령대 성별 성심당_유동인구 성심당_방문시간 전후_방문시간대 전후_방문장소_위도 전후_방문장소_경도 전후_방문장소_행정동명 이동거리(km) 구분_시간대 연령 성별_숫자 구분_휴일평일 날짜_숫자형              \n",
       "2023-08-12 공휴일 아님 주말 20대 여성 0.00     8        -        -          -          -            -        -      2  1     1       20230812        -   \n",
       "                            0.80     9        0        36.319641  127.395887 유천2동         -        5      2  1     1       20230812        4   \n",
       "                                                                                                                           20230812      114   \n",
       "                                                                                                                           20230812      116   \n",
       "                                                                                                                           20230812       19   \n",
       "...                                                                                                                                      ...   \n",
       "                            30.92    21       18       36.320633  127.414255 문화1동         1.414298 4      2  1     1       20230812        1   \n",
       "                                              19       36.329262  127.428114 은행선화동        1.570126 4      2  1     1       20230812   주변 상권X   \n",
       "                                              20       36.32746   127.428127 은행선화동        0.200012 4      2  1     1       20230812   주변 상권X   \n",
       "                                              22       36.325183  127.423131 대흥동          0.471728 5      2  1     1       20230812   주변 상권X   \n",
       "                                              23       36.320622  127.412028 문화1동         1.118101 5      2  1     1       20230812   주변 상권X   \n",
       "\n",
       "                                                                                                                                      업종_일매출  \\\n",
       "날짜         공휴일    주말 연령대 성별 성심당_유동인구 성심당_방문시간 전후_방문시간대 전후_방문장소_위도 전후_방문장소_경도 전후_방문장소_행정동명 이동거리(km) 구분_시간대 연령 성별_숫자 구분_휴일평일 날짜_숫자형              \n",
       "2023-08-12 공휴일 아님 주말 20대 여성 0.00     8        -        -          -          -            -        -      2  1     1       20230812        -   \n",
       "                            0.80     9        0        36.319641  127.395887 유천2동         -        5      2  1     1       20230812     7000   \n",
       "                                                                                                                           20230812  1682660   \n",
       "                                                                                                                           20230812   796820   \n",
       "                                                                                                                           20230812   142350   \n",
       "...                                                                                                                                      ...   \n",
       "                            30.92    21       18       36.320633  127.414255 문화1동         1.414298 4      2  1     1       20230812     8000   \n",
       "                                              19       36.329262  127.428114 은행선화동        1.570126 4      2  1     1       20230812   주변 상권X   \n",
       "                                              20       36.32746   127.428127 은행선화동        0.200012 4      2  1     1       20230812   주변 상권X   \n",
       "                                              22       36.325183  127.423131 대흥동          0.471728 5      2  1     1       20230812   주변 상권X   \n",
       "                                              23       36.320622  127.412028 문화1동         1.118101 5      2  1     1       20230812   주변 상권X   \n",
       "\n",
       "                                                                                                                                    업종_일매출_지역화폐  \n",
       "날짜         공휴일    주말 연령대 성별 성심당_유동인구 성심당_방문시간 전후_방문시간대 전후_방문장소_위도 전후_방문장소_경도 전후_방문장소_행정동명 이동거리(km) 구분_시간대 연령 성별_숫자 구분_휴일평일 날짜_숫자형                \n",
       "2023-08-12 공휴일 아님 주말 20대 여성 0.00     8        -        -          -          -            -        -      2  1     1       20230812           -  \n",
       "                            0.80     9        0        36.319641  127.395887 유천2동         -        5      2  1     1       20230812           0  \n",
       "                                                                                                                           20230812      265110  \n",
       "                                                                                                                           20230812       84070  \n",
       "                                                                                                                           20230812       21800  \n",
       "...                                                                                                                                         ...  \n",
       "                            30.92    21       18       36.320633  127.414255 문화1동         1.414298 4      2  1     1       20230812        8000  \n",
       "                                              19       36.329262  127.428114 은행선화동        1.570126 4      2  1     1       20230812      주변 상권X  \n",
       "                                              20       36.32746   127.428127 은행선화동        0.200012 4      2  1     1       20230812      주변 상권X  \n",
       "                                              22       36.325183  127.423131 대흥동          0.471728 5      2  1     1       20230812      주변 상권X  \n",
       "                                              23       36.320622  127.412028 문화1동         1.118101 5      2  1     1       20230812      주변 상권X  \n",
       "\n",
       "[6165 rows x 5 columns]"
      ]
     },
     "execution_count": 38,
     "metadata": {},
     "output_type": "execute_result"
    }
   ],
   "source": [
    "# 날짜별로 데이터를 그룹화\n",
    "grouped_by_date = df_movement.groupby('날짜')\n",
    "\n",
    "# 각 날짜별로 병렬 처리 (각 날짜 단위로 처리)\n",
    "results_parallel = Parallel(n_jobs=-1)(delayed(process_date_group)(date, daily_data, industry_data)\n",
    "                                      for date, daily_data in grouped_by_date)\n",
    "\n",
    "# 중첩된 리스트(flatten) 처리\n",
    "flattened_results = [item for sublist in results_parallel for item in sublist]\n",
    "\n",
    "# 결과를 DataFrame으로 변환\n",
    "result_df = pd.DataFrame(flattened_results)\n",
    "\n",
    "# 카드매출_가맹점을 통해 추가된 컬럼을 제외한 컬럼들을 인덱스로 지정\n",
    "# 한 방문장소당 여러 업종이 붙어있기 때문에 이후 편리한 처리를 위해 멀티인덱스화\n",
    "result_df.set_index(df_movement.columns.to_list(), inplace=True)\n",
    "\n",
    "# 결과 출력\n",
    "result_df"
   ]
  },
  {
   "cell_type": "markdown",
   "id": "6a795168-d6c5-4b8c-9dd8-68d41f8ce1ff",
   "metadata": {},
   "source": [
    "## 3-4 ***이동경로*** 주변 업종 중 **해당 집단의 선호 업종** 파악 : *카드매출_유입고객*을 통해\n",
    "- *카드매출_가맹점*으로 붙인 이동경로 주변 업종 중 해당 집단이 선호하는 업종을 파악하기 위해 *카드매출_유입고객*데이터 활용\n",
    "- 업종을 단순 정렬하는 것이 아닌 **<< 연령 & 성별 & 방문 시간대 & 휴일/평일 & 날짜 >>** 별 유동인구 집단이 자주 가는 업종을 *이용건수 > 이용금액*을 기준으로 내림차순\n",
    "- 위의 조건으로 *카드매출_유입고객*을 필터링했을 때 출력된 선호 업종과 일치하지 않는 이동경로 주변 업종은 \"선호 업종X\" 처리\n",
    "- 단, 10세 미만의 경우 *카드매출_유입고객*에 기록된 데이터가 없기 때문에 '-' 처리"
   ]
  },
  {
   "cell_type": "markdown",
   "id": "cafcd36c-9dc5-4732-9a42-a3430cd19e92",
   "metadata": {
    "jp-MarkdownHeadingCollapsed": true
   },
   "source": [
    "### (1) 추가할 컬럼을 위한 계산 함수\n",
    "- 수치 연산을 최적화하기 위해 Numba 적용\n",
    "- 추가할 컬럼 : 평균_업력, 고객_타지역_비율, 고객_월이용건수, 고객_월이용금액\n",
    "- 각각 다음과 같이 계산 (데이터는 (2)에서 필터링될 예정)\n",
    "  - 평균_업력 : *필터링된 데이터 > 업력* 의 평균\n",
    "  - 고객_타지역_비율 : *필터링된 데이터 > 광역시_유입* 이 30이 아닌, 즉 대전광역시가 아닌 데이터의 비율\n",
    "  - 고객_월이용건수 : *필터링된 데이터 > 이용건수*의 합\n",
    "  - 고객_월이용금액 : *필터링된 데이터 > 이용금액*의 합"
   ]
  },
  {
   "cell_type": "code",
   "execution_count": 40,
   "id": "bc542b56-dd6e-4477-89a4-c0c66d58ed2e",
   "metadata": {},
   "outputs": [],
   "source": [
    "@njit\n",
    "def calculate_customer_stats(dd_years, dd_area, dd_area_ndj, dd_count, dd_amount):\n",
    "    years_mean = np.mean(dd_years)\n",
    "    area_ratio = len(dd_area_ndj) / len(dd_area)\n",
    "    count_sum = np.sum(dd_count)\n",
    "    money_sum = np.sum(dd_amount)\n",
    "    return years_mean, area_ratio, count_sum, money_sum"
   ]
  },
  {
   "cell_type": "markdown",
   "id": "ad26e7c8-a635-4e95-9c43-e277f453c7c9",
   "metadata": {
    "jp-MarkdownHeadingCollapsed": true
   },
   "source": [
    "### (2) 이동경로 주변 업종 중 **해당 집단의 선호 업종** 순으로 정렬\n",
    "- *카드매출_유입고객* 은 고객의 월 소비 데이터를 담고 있기 때문에 특정 집단(연령/성별)의 사람들이 한 달 동안 며칠 몇시 즈음에 어떤 업종에서 얼만큼을 소비했는 지 알 수 있음\n",
    "- 따라서 앞서 3-3 에서 추가한 이동경로 주변 업종을 지금과 같은 **무작위 상태로 두는 것이 아니라 해당 집단의 사람들이 한 달 동안 소비가 많았던 순**으로 정렬\n",
    "- 다음 3가지의 경우로 나눠서 분석 진행  "
   ]
  },
  {
   "cell_type": "markdown",
   "id": "3712e472-a398-4a9e-88f9-a604437e4757",
   "metadata": {},
   "source": [
    "  [1] **\"-\"**  \n",
    "      - *전후_방문장소_경도 == '-'* : 유동인구가 없는 경우에는 정렬할 업종이 없음  \n",
    "      - *연령 == 0* :  10세미만은 *카드매출_유입고객* 에 데이터 존재하지 않기 때문에 제외  \n",
    "      - *업종소분류_코드 == '주변 상권X'* : 이돋경로 주변에 업종이 존재하지 않기 때문에 정렬할 업종이 없음\n",
    "\n",
    "</br>\n",
    "\n",
    "  [2] **\"월 방문 업종X\"**  \n",
    "      - 이동경로 주변에 업종은 존재하지만, 즉 *카드매출_가맹점*에는 존재하는 업종이지만 집단, 날짜, 시간대별로 필터링된 *카드매출_유입고객*에는 해당 업종이 없는 경우\n",
    "\n",
    "</br>\n",
    "\n",
    "\n",
    "  [3] **\"(정렬)\"**  \n",
    "      - 이동경로 주변 업종이 집단, 날짜, 시간대별로 필터링된 *카드매출_유입고객*에도 존재하는 경우, 총 이용건수 > 총 이용금액이 높은 순으로 정렬  \n",
    "      - 총 이용건수가 같은 경우 총 이용금액이 높은 순으로 정렬"
   ]
  },
  {
   "cell_type": "code",
   "execution_count": 44,
   "id": "b32f8549-d846-4243-b474-80bd432ef2aa",
   "metadata": {},
   "outputs": [],
   "source": [
    "def process_result(indice, result_df, customer_data):\n",
    "\n",
    "    # *연령 & 성별 & 방문 시간대 & 휴일/평일 & 날짜* 멀티인덱스마다 여러 업종이 붙어있음 (한 cell에 여러 업종이 있기 때문)\n",
    "    # 따라서 멀티인덱스별로 업종 정렬 진행\n",
    "    result = result_df.loc[indice, :]\n",
    "\n",
    "    # 평균_업력, 고객_타지역_비율, 고객_월이용건수, 고객_월이용금액 을 기록할 리스트\n",
    "    years_mean = []\n",
    "    area_ratio = []\n",
    "    count_list = []\n",
    "    money_list = []\n",
    "\n",
    "    '''\n",
    "    1 전후_방문장소_경도 == '-' : 유동인구 X → 3-3에서 추가된 업종이 없음\n",
    "    2 연령 == 0 : 10세미만은 *카드매출_가맹점* 에 데이터 존재 X\n",
    "    3 업종소분류 == 주변 상권X → 3-3에서 추가된 업종이 없음\n",
    "    '''\n",
    "    if  result.index[0][9] == '-' or result.index[0][13] == 0 or (result['업종소분류_코드'] == '주변 상권X').any():\n",
    "        result['평균_업력'] = \"-\"\n",
    "        result['고객_타지역_비율'] = \"-\"\n",
    "        result['고객_월이용건수'] = \"-\"\n",
    "        result['고객_월이용금액'] = \"-\"\n",
    "   \n",
    "        result_final = result.reset_index()\n",
    "\n",
    "        # 정렬할 때만 필요하고 이후에 필요없는 컬럼은 제거\n",
    "        result_final.drop(['구분_시간대', '연령', '성별_숫자', '구분_휴일평일', '날짜_숫자형'], axis=1, inplace=True)\n",
    "        return result_final\n",
    "   \n",
    "   \n",
    "    else:\n",
    "\n",
    "        # *카드매출_유입고객* & *3-3까지 진행한 이동경로 및 소비패턴 데이터* \n",
    "        # << 연령 & 성별 & 방문 시간대 & 휴일/평일 & 월 >> 조건 맞춰서 갖고오기\n",
    "        customer_conditions = (\n",
    "            (customer_data['기준년월_numeric'] == int(str(result.index[0][16])[4:6])) &   # 날짜 중 월 만 추출해서 비교 (∵ 카드매출_유입고객은 월별 데이터)\n",
    "            (customer_data['구분_시간대'] == result.index[0][12]) &\n",
    "            (customer_data['연령'] == result.index[0][13]) &\n",
    "            (customer_data['성별_numeric'] == result.index[0][14]) &\n",
    "            (customer_data['구분_휴일평일'] == result.index[0][15])\n",
    "        )\n",
    "   \n",
    "        customer_reduced2 = customer_data[customer_conditions].copy()\n",
    "\n",
    "        \n",
    "        # 총 이용건수 > 총 이용금액이 높은 순으로 정렬\n",
    "        custom_list = customer_reduced2.groupby('업종소분류')[['이용건수', '이용금액']].sum().reset_index()\n",
    "        custom_list = custom_list.sort_values(by=['이용건수', '이용금액'], ascending=False)\n",
    "\n",
    "        \n",
    "        # 1) 3-3에서 추가한 업종 (*카드매출_가맹점* 500m 셀 안에 있는 모든 업종)\n",
    "        store = result['업종소분류_코드'].tolist()\n",
    "\n",
    "        # 2) 위에서 정렬한 *카드매출_유입고객 > 업종소분류* 리스트\n",
    "        custom = custom_list['업종소분류'].tolist()\n",
    "\n",
    "\n",
    "        \n",
    "        # 1)에 있는 2)는 정렬된 순서대로 리스트에 저장\n",
    "        # 즉, 이동경로 주변 업종 중 고객이 방문한 업종을 이용건수가 높은 순서대로 리스트에 저장\n",
    "        ordered_data = [x for x in custom if x in store]\n",
    "\n",
    "        # 1)에 없는 2)는 순서 고려하지 않고 리스트에 저장\n",
    "        # 즉, 이동경로 주변 업종이지만, 해당 집단의 고객이 한 달동안 그 시간에 방문하지 않은 업종을 리스트에 저장\n",
    "        remaining_data = [x for x in store if x not in custom]\n",
    "\n",
    "        # 고객이 방문한 업종을 이용건수가 높은 순서대로 저장한 리스트와 고객이 한 달동안 방문하지 않은 업종을 저장한 리스트를 하나로 합치기\n",
    "        # 즉, 데이터 프레임 상단에는 고객이 방문한 업종을 이용건수가 높은 순서대로, 하단에는 방문하지 않은 업종이 나타나도록 리스트 생성\n",
    "        final_sorted_data = ordered_data + remaining_data\n",
    "\n",
    "\n",
    "        \n",
    "        # 업종별 데이터 처리를 위해 for문 생성\n",
    "        for i in final_sorted_data:\n",
    "            \n",
    "            ''' *카드매출_유입고객*에 존재하는 업종인지 필터링\n",
    "            - ordered_data에 저장돼있던 업종은 *카드매출_유입고객*에도 존재\n",
    "            - remaining_data에 저장돼있던 업종은 *카드매출_유입고객*에 존재X → empty 처리 됨\n",
    "            '''\n",
    "            dd = customer_reduced2[customer_reduced2['업종소분류'] == i]\n",
    "\n",
    "            # 이동경로 주변 업종이지만 *카드매출_유입고객*에 존재하지 않는 업종의 경우 다음과 같이 처리\n",
    "            if dd.empty:\n",
    "                years_mean.append(\"월 방문 업종X\")\n",
    "                area_ratio.append(\"월 방문 업종X\")\n",
    "                count_list.append(\"월 방문 업종X\")\n",
    "                money_list.append(\"월 방문 업종X\")\n",
    "\n",
    "            # 이동경로 주변 업종이고 *카드매출_유입고객*에 존재하는 경우 *업력_숫자, 광역시_유입, 이용건수, 이용금액* 을 추출하여\n",
    "            # (1)에서 정의한 계산함수에 입력\n",
    "            else:\n",
    "                # Numpy 배열로 변환하여 Numba 적용\n",
    "                dd_years = dd['업력_숫자'].values.astype(np.float32)\n",
    "                dd_area = dd['광역시_유입'].values.astype(np.int8)\n",
    "                dd_area_ndj = dd[dd['광역시_유입']!=30]['광역시_유입'].values.astype(np.int8)\n",
    "                dd_count = dd['이용건수'].values.astype(np.int32)\n",
    "                dd_amount = dd['이용금액'].values.astype(np.float32)\n",
    "\n",
    "                # 계산 함수 호출\n",
    "                mean, ratio, count, money = calculate_customer_stats(dd_years, dd_area, dd_area_ndj, dd_count, dd_amount)\n",
    "\n",
    "                # 결과를 각각의 리스트에 저장\n",
    "                years_mean.append(f\"{mean:.2f}\")\n",
    "                area_ratio.append(f\"{ratio:.2f}\")\n",
    "                count_list.append(count)\n",
    "                money_list.append(money)\n",
    "   \n",
    "   \n",
    "        # 정렬된 순서가 3-3까지 진행한 데이터프레임에도 반영되도록 다음과 같이 처리\n",
    "\n",
    "        # 앞서 정리한 업종 리스트를 \"업종소분류\"라는 컬럼을 새로 만들어서 추가\n",
    "        result['업종소분류'] = final_sorted_data\n",
    "\n",
    "        # 이후 최종 결과물에서 필요한 멀티인덱스 일부만 리스트로 저장해두기\n",
    "        result_index = result.reset_index().iloc[:,:12]\n",
    "\n",
    "        # 기존 데이터프레임에 존재하던 \"업종소분류_코드\"를 인덱스로 만든 후,\n",
    "        # final_sorted_data 값을 갖고 있는 \"업종소분류\"를 기준으로 데이터 정렬\n",
    "        result = result.set_index('업종소분류_코드').loc[result['업종소분류']].reset_index()\n",
    "       \n",
    "        # 앞서 계산했던 리스트들을 기반으로 각각 컬럼 생성\n",
    "        result['평균_업력'] = years_mean\n",
    "        result['고객_타지역_비율'] = area_ratio\n",
    "        result['고객_월이용건수'] = count_list\n",
    "        result['고객_월이용금액'] = money_list\n",
    "       \n",
    "        # 정렬에 사용된 \"업종소분류\"는 drop (이제 정렬이 완료되었기 때문에 더이상 사용X)\n",
    "        result.drop('업종소분류', axis=1, inplace=True)\n",
    "\n",
    "        # 앞서 생성한 멀티인덱스 리스트와 정렬된 데이터를 합치기\n",
    "        result_final = pd.concat([result_index, result], axis=1)\n",
    "        return result_final"
   ]
  },
  {
   "cell_type": "markdown",
   "id": "6d837cb0-2290-4b74-98fb-e8fb05fcabd2",
   "metadata": {},
   "source": [
    "### (3) 정의한 함수를 날짜별로 병렬 처리"
   ]
  },
  {
   "cell_type": "code",
   "execution_count": 47,
   "id": "f2f6e528-1656-4ea7-800f-454969a29015",
   "metadata": {},
   "outputs": [],
   "source": [
    "# 날짜별로 병렬 처리\n",
    "grouped_by_date = result_df.groupby('날짜')\n",
    "\n",
    "results_parallel = Parallel(n_jobs=-1)(\n",
    "    delayed(lambda date, daily_data: pd.concat(\n",
    "        [process_result(indice, daily_data, customer_data) for indice in daily_data.index.unique().tolist()])\n",
    "    )(date, daily_data) for date, daily_data in grouped_by_date)\n",
    "\n",
    "# 병렬 처리 후 결과 병합\n",
    "result_total = pd.concat(results_parallel)"
   ]
  },
  {
   "cell_type": "code",
   "execution_count": 49,
   "id": "c0a0e5fa-d84d-4814-bf35-908dafa3e00d",
   "metadata": {},
   "outputs": [
    {
     "data": {
      "text/html": [
       "<div>\n",
       "<style scoped>\n",
       "    .dataframe tbody tr th:only-of-type {\n",
       "        vertical-align: middle;\n",
       "    }\n",
       "\n",
       "    .dataframe tbody tr th {\n",
       "        vertical-align: top;\n",
       "    }\n",
       "\n",
       "    .dataframe thead th {\n",
       "        text-align: right;\n",
       "    }\n",
       "</style>\n",
       "<table border=\"1\" class=\"dataframe\">\n",
       "  <thead>\n",
       "    <tr style=\"text-align: right;\">\n",
       "      <th></th>\n",
       "      <th>날짜</th>\n",
       "      <th>공휴일</th>\n",
       "      <th>주말</th>\n",
       "      <th>연령대</th>\n",
       "      <th>성별</th>\n",
       "      <th>성심당_유동인구</th>\n",
       "      <th>성심당_방문시간</th>\n",
       "      <th>전후_방문시간대</th>\n",
       "      <th>전후_방문장소_위도</th>\n",
       "      <th>전후_방문장소_경도</th>\n",
       "      <th>...</th>\n",
       "      <th>이동거리(km)</th>\n",
       "      <th>업종소분류_코드</th>\n",
       "      <th>업종소분류_항목명</th>\n",
       "      <th>업종_일판매건수</th>\n",
       "      <th>업종_일매출</th>\n",
       "      <th>업종_일매출_지역화폐</th>\n",
       "      <th>평균_업력</th>\n",
       "      <th>고객_타지역_비율</th>\n",
       "      <th>고객_월이용건수</th>\n",
       "      <th>고객_월이용금액</th>\n",
       "    </tr>\n",
       "  </thead>\n",
       "  <tbody>\n",
       "    <tr>\n",
       "      <th>0</th>\n",
       "      <td>2023-08-12</td>\n",
       "      <td>공휴일 아님</td>\n",
       "      <td>주말</td>\n",
       "      <td>20대</td>\n",
       "      <td>여성</td>\n",
       "      <td>0.00</td>\n",
       "      <td>8</td>\n",
       "      <td>-</td>\n",
       "      <td>-</td>\n",
       "      <td>-</td>\n",
       "      <td>...</td>\n",
       "      <td>-</td>\n",
       "      <td>-</td>\n",
       "      <td>-</td>\n",
       "      <td>-</td>\n",
       "      <td>-</td>\n",
       "      <td>-</td>\n",
       "      <td>-</td>\n",
       "      <td>-</td>\n",
       "      <td>-</td>\n",
       "      <td>-</td>\n",
       "    </tr>\n",
       "    <tr>\n",
       "      <th>0</th>\n",
       "      <td>2023-08-12</td>\n",
       "      <td>공휴일 아님</td>\n",
       "      <td>주말</td>\n",
       "      <td>20대</td>\n",
       "      <td>여성</td>\n",
       "      <td>0.80</td>\n",
       "      <td>9</td>\n",
       "      <td>0</td>\n",
       "      <td>36.319641</td>\n",
       "      <td>127.395887</td>\n",
       "      <td>...</td>\n",
       "      <td>-</td>\n",
       "      <td>47122.0</td>\n",
       "      <td>체인화 편의점</td>\n",
       "      <td>116</td>\n",
       "      <td>796820</td>\n",
       "      <td>84070</td>\n",
       "      <td>6.23</td>\n",
       "      <td>0.23</td>\n",
       "      <td>2187</td>\n",
       "      <td>14174170.0</td>\n",
       "    </tr>\n",
       "    <tr>\n",
       "      <th>1</th>\n",
       "      <td>2023-08-12</td>\n",
       "      <td>공휴일 아님</td>\n",
       "      <td>주말</td>\n",
       "      <td>20대</td>\n",
       "      <td>여성</td>\n",
       "      <td>0.80</td>\n",
       "      <td>9</td>\n",
       "      <td>0</td>\n",
       "      <td>36.319641</td>\n",
       "      <td>127.395887</td>\n",
       "      <td>...</td>\n",
       "      <td>-</td>\n",
       "      <td>56111.0</td>\n",
       "      <td>한식 일반 음식점업</td>\n",
       "      <td>80</td>\n",
       "      <td>2331000</td>\n",
       "      <td>247000</td>\n",
       "      <td>6.10</td>\n",
       "      <td>0.23</td>\n",
       "      <td>1084</td>\n",
       "      <td>44813040.0</td>\n",
       "    </tr>\n",
       "    <tr>\n",
       "      <th>2</th>\n",
       "      <td>2023-08-12</td>\n",
       "      <td>공휴일 아님</td>\n",
       "      <td>주말</td>\n",
       "      <td>20대</td>\n",
       "      <td>여성</td>\n",
       "      <td>0.80</td>\n",
       "      <td>9</td>\n",
       "      <td>0</td>\n",
       "      <td>36.319641</td>\n",
       "      <td>127.395887</td>\n",
       "      <td>...</td>\n",
       "      <td>-</td>\n",
       "      <td>47121.0</td>\n",
       "      <td>슈퍼마켓</td>\n",
       "      <td>114</td>\n",
       "      <td>1682660</td>\n",
       "      <td>265110</td>\n",
       "      <td>9.45</td>\n",
       "      <td>0.14</td>\n",
       "      <td>185</td>\n",
       "      <td>2173160.0</td>\n",
       "    </tr>\n",
       "    <tr>\n",
       "      <th>3</th>\n",
       "      <td>2023-08-12</td>\n",
       "      <td>공휴일 아님</td>\n",
       "      <td>주말</td>\n",
       "      <td>20대</td>\n",
       "      <td>여성</td>\n",
       "      <td>0.80</td>\n",
       "      <td>9</td>\n",
       "      <td>0</td>\n",
       "      <td>36.319641</td>\n",
       "      <td>127.395887</td>\n",
       "      <td>...</td>\n",
       "      <td>-</td>\n",
       "      <td>47129.0</td>\n",
       "      <td>기타 음ㆍ식료품 위주 종합 소매업</td>\n",
       "      <td>19</td>\n",
       "      <td>142350</td>\n",
       "      <td>21800</td>\n",
       "      <td>3.40</td>\n",
       "      <td>0.06</td>\n",
       "      <td>138</td>\n",
       "      <td>567500.0</td>\n",
       "    </tr>\n",
       "    <tr>\n",
       "      <th>...</th>\n",
       "      <td>...</td>\n",
       "      <td>...</td>\n",
       "      <td>...</td>\n",
       "      <td>...</td>\n",
       "      <td>...</td>\n",
       "      <td>...</td>\n",
       "      <td>...</td>\n",
       "      <td>...</td>\n",
       "      <td>...</td>\n",
       "      <td>...</td>\n",
       "      <td>...</td>\n",
       "      <td>...</td>\n",
       "      <td>...</td>\n",
       "      <td>...</td>\n",
       "      <td>...</td>\n",
       "      <td>...</td>\n",
       "      <td>...</td>\n",
       "      <td>...</td>\n",
       "      <td>...</td>\n",
       "      <td>...</td>\n",
       "      <td>...</td>\n",
       "    </tr>\n",
       "    <tr>\n",
       "      <th>13</th>\n",
       "      <td>2023-08-12</td>\n",
       "      <td>공휴일 아님</td>\n",
       "      <td>주말</td>\n",
       "      <td>20대</td>\n",
       "      <td>여성</td>\n",
       "      <td>30.92</td>\n",
       "      <td>21</td>\n",
       "      <td>18</td>\n",
       "      <td>36.320633</td>\n",
       "      <td>127.414255</td>\n",
       "      <td>...</td>\n",
       "      <td>1.414298</td>\n",
       "      <td>21300.0</td>\n",
       "      <td>의료용품 및 기타 의약 관련제품 제조업</td>\n",
       "      <td>3</td>\n",
       "      <td>425500</td>\n",
       "      <td>0</td>\n",
       "      <td>3.00</td>\n",
       "      <td>0.00</td>\n",
       "      <td>0</td>\n",
       "      <td>0.0</td>\n",
       "    </tr>\n",
       "    <tr>\n",
       "      <th>0</th>\n",
       "      <td>2023-08-12</td>\n",
       "      <td>공휴일 아님</td>\n",
       "      <td>주말</td>\n",
       "      <td>20대</td>\n",
       "      <td>여성</td>\n",
       "      <td>30.92</td>\n",
       "      <td>21</td>\n",
       "      <td>19</td>\n",
       "      <td>36.329262</td>\n",
       "      <td>127.428114</td>\n",
       "      <td>...</td>\n",
       "      <td>1.570126</td>\n",
       "      <td>주변 상권X</td>\n",
       "      <td>주변 상권X</td>\n",
       "      <td>주변 상권X</td>\n",
       "      <td>주변 상권X</td>\n",
       "      <td>주변 상권X</td>\n",
       "      <td>-</td>\n",
       "      <td>-</td>\n",
       "      <td>-</td>\n",
       "      <td>-</td>\n",
       "    </tr>\n",
       "    <tr>\n",
       "      <th>0</th>\n",
       "      <td>2023-08-12</td>\n",
       "      <td>공휴일 아님</td>\n",
       "      <td>주말</td>\n",
       "      <td>20대</td>\n",
       "      <td>여성</td>\n",
       "      <td>30.92</td>\n",
       "      <td>21</td>\n",
       "      <td>20</td>\n",
       "      <td>36.32746</td>\n",
       "      <td>127.428127</td>\n",
       "      <td>...</td>\n",
       "      <td>0.200012</td>\n",
       "      <td>주변 상권X</td>\n",
       "      <td>주변 상권X</td>\n",
       "      <td>주변 상권X</td>\n",
       "      <td>주변 상권X</td>\n",
       "      <td>주변 상권X</td>\n",
       "      <td>-</td>\n",
       "      <td>-</td>\n",
       "      <td>-</td>\n",
       "      <td>-</td>\n",
       "    </tr>\n",
       "    <tr>\n",
       "      <th>0</th>\n",
       "      <td>2023-08-12</td>\n",
       "      <td>공휴일 아님</td>\n",
       "      <td>주말</td>\n",
       "      <td>20대</td>\n",
       "      <td>여성</td>\n",
       "      <td>30.92</td>\n",
       "      <td>21</td>\n",
       "      <td>22</td>\n",
       "      <td>36.325183</td>\n",
       "      <td>127.423131</td>\n",
       "      <td>...</td>\n",
       "      <td>0.471728</td>\n",
       "      <td>주변 상권X</td>\n",
       "      <td>주변 상권X</td>\n",
       "      <td>주변 상권X</td>\n",
       "      <td>주변 상권X</td>\n",
       "      <td>주변 상권X</td>\n",
       "      <td>-</td>\n",
       "      <td>-</td>\n",
       "      <td>-</td>\n",
       "      <td>-</td>\n",
       "    </tr>\n",
       "    <tr>\n",
       "      <th>0</th>\n",
       "      <td>2023-08-12</td>\n",
       "      <td>공휴일 아님</td>\n",
       "      <td>주말</td>\n",
       "      <td>20대</td>\n",
       "      <td>여성</td>\n",
       "      <td>30.92</td>\n",
       "      <td>21</td>\n",
       "      <td>23</td>\n",
       "      <td>36.320622</td>\n",
       "      <td>127.412028</td>\n",
       "      <td>...</td>\n",
       "      <td>1.118101</td>\n",
       "      <td>주변 상권X</td>\n",
       "      <td>주변 상권X</td>\n",
       "      <td>주변 상권X</td>\n",
       "      <td>주변 상권X</td>\n",
       "      <td>주변 상권X</td>\n",
       "      <td>-</td>\n",
       "      <td>-</td>\n",
       "      <td>-</td>\n",
       "      <td>-</td>\n",
       "    </tr>\n",
       "  </tbody>\n",
       "</table>\n",
       "<p>6165 rows × 21 columns</p>\n",
       "</div>"
      ],
      "text/plain": [
       "           날짜     공휴일  주말  연령대  성별  성심당_유동인구  성심당_방문시간 전후_방문시간대 전후_방문장소_위도  \\\n",
       "0  2023-08-12  공휴일 아님  주말  20대  여성      0.00         8        -          -   \n",
       "0  2023-08-12  공휴일 아님  주말  20대  여성      0.80         9        0  36.319641   \n",
       "1  2023-08-12  공휴일 아님  주말  20대  여성      0.80         9        0  36.319641   \n",
       "2  2023-08-12  공휴일 아님  주말  20대  여성      0.80         9        0  36.319641   \n",
       "3  2023-08-12  공휴일 아님  주말  20대  여성      0.80         9        0  36.319641   \n",
       "..        ...     ...  ..  ...  ..       ...       ...      ...        ...   \n",
       "13 2023-08-12  공휴일 아님  주말  20대  여성     30.92        21       18  36.320633   \n",
       "0  2023-08-12  공휴일 아님  주말  20대  여성     30.92        21       19  36.329262   \n",
       "0  2023-08-12  공휴일 아님  주말  20대  여성     30.92        21       20   36.32746   \n",
       "0  2023-08-12  공휴일 아님  주말  20대  여성     30.92        21       22  36.325183   \n",
       "0  2023-08-12  공휴일 아님  주말  20대  여성     30.92        21       23  36.320622   \n",
       "\n",
       "    전후_방문장소_경도  ...  이동거리(km) 업종소분류_코드              업종소분류_항목명 업종_일판매건수  \\\n",
       "0            -  ...         -        -                      -        -   \n",
       "0   127.395887  ...         -  47122.0                체인화 편의점      116   \n",
       "1   127.395887  ...         -  56111.0             한식 일반 음식점업       80   \n",
       "2   127.395887  ...         -  47121.0                   슈퍼마켓      114   \n",
       "3   127.395887  ...         -  47129.0     기타 음ㆍ식료품 위주 종합 소매업       19   \n",
       "..         ...  ...       ...      ...                    ...      ...   \n",
       "13  127.414255  ...  1.414298  21300.0  의료용품 및 기타 의약 관련제품 제조업        3   \n",
       "0   127.428114  ...  1.570126   주변 상권X                 주변 상권X   주변 상권X   \n",
       "0   127.428127  ...  0.200012   주변 상권X                 주변 상권X   주변 상권X   \n",
       "0   127.423131  ...  0.471728   주변 상권X                 주변 상권X   주변 상권X   \n",
       "0   127.412028  ...  1.118101   주변 상권X                 주변 상권X   주변 상권X   \n",
       "\n",
       "     업종_일매출 업종_일매출_지역화폐 평균_업력 고객_타지역_비율 고객_월이용건수    고객_월이용금액  \n",
       "0         -           -     -         -        -           -  \n",
       "0    796820       84070  6.23      0.23     2187  14174170.0  \n",
       "1   2331000      247000  6.10      0.23     1084  44813040.0  \n",
       "2   1682660      265110  9.45      0.14      185   2173160.0  \n",
       "3    142350       21800  3.40      0.06      138    567500.0  \n",
       "..      ...         ...   ...       ...      ...         ...  \n",
       "13   425500           0  3.00      0.00        0         0.0  \n",
       "0    주변 상권X      주변 상권X     -         -        -           -  \n",
       "0    주변 상권X      주변 상권X     -         -        -           -  \n",
       "0    주변 상권X      주변 상권X     -         -        -           -  \n",
       "0    주변 상권X      주변 상권X     -         -        -           -  \n",
       "\n",
       "[6165 rows x 21 columns]"
      ]
     },
     "execution_count": 49,
     "metadata": {},
     "output_type": "execute_result"
    }
   ],
   "source": [
    "result_total"
   ]
  },
  {
   "cell_type": "markdown",
   "id": "03059f97-11a8-4372-a45b-b18e111acd45",
   "metadata": {},
   "source": [
    "# 4 이동경로 및 소비패턴 데이터 저장"
   ]
  },
  {
   "cell_type": "code",
   "execution_count": null,
   "id": "90b1d5cb-6a9c-49c0-9f88-974d29c64275",
   "metadata": {},
   "outputs": [],
   "source": [
    "result_total.to_csv(os.path.join(path, '이동경로 및 소비패턴.csv'), encoding = 'cp949', index = False)"
   ]
  }
 ],
 "metadata": {
  "kernelspec": {
   "display_name": "Python 3 (ipykernel)",
   "language": "python",
   "name": "python3"
  },
  "language_info": {
   "codemirror_mode": {
    "name": "ipython",
    "version": 3
   },
   "file_extension": ".py",
   "mimetype": "text/x-python",
   "name": "python",
   "nbconvert_exporter": "python",
   "pygments_lexer": "ipython3",
   "version": "3.12.4"
  }
 },
 "nbformat": 4,
 "nbformat_minor": 5
}
